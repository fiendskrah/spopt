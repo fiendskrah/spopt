{
 "cells": [
  {
   "cell_type": "markdown",
   "id": "82287ffb-6887-413a-9c78-eec0106108b8",
   "metadata": {},
   "source": [
    "# Reproducing Dublin pubs example\n",
    "\n",
    "[Levi Wolf's Guinness delivery example](https://gist.github.com/ljwolf/e5927ab8c859ed477f496329c1ce19fc#file-guinness-py)"
   ]
  },
  {
   "cell_type": "code",
   "execution_count": 1,
   "id": "521fb3aa-ab17-4d44-aec4-2a4f451c4655",
   "metadata": {},
   "outputs": [],
   "source": [
    "import geopandas as gpd\n",
    "import pandas, numpy"
   ]
  },
  {
   "cell_type": "code",
   "execution_count": 2,
   "id": "e2d83f5e-28a3-403a-86e5-b2901baa4b12",
   "metadata": {},
   "outputs": [],
   "source": [
    "import pandas"
   ]
  },
  {
   "cell_type": "code",
   "execution_count": 3,
   "id": "1a76fb44-eab6-431c-8a09-0c4d592b8167",
   "metadata": {},
   "outputs": [],
   "source": [
    "import sys\n",
    "sys.path.insert(0, '/home/dylan/projects/gsoc2025/spopt/') # not the published spopt\n",
    "import spopt"
   ]
  },
  {
   "cell_type": "code",
   "execution_count": 4,
   "id": "bd3462fe-3db2-49fc-84b2-fd95a206f630",
   "metadata": {},
   "outputs": [
    {
     "name": "stdout",
     "output_type": "stream",
     "text": [
      "/home/dylan/projects/gsoc2025/spopt/spopt/__init__.py\n"
     ]
    }
   ],
   "source": [
    "print(spopt.__file__)"
   ]
  },
  {
   "cell_type": "code",
   "execution_count": 5,
   "id": "8087698a-5a3b-4d8b-8d72-d677c479c4cb",
   "metadata": {},
   "outputs": [],
   "source": [
    "from spopt.route import engine, heuristic, utils"
   ]
  },
  {
   "cell_type": "code",
   "execution_count": 6,
   "id": "3cb0c82a-b156-442e-a747-ebeea7dcc85f",
   "metadata": {},
   "outputs": [
    {
     "data": {
      "text/plain": [
       "\u001b[31mType:\u001b[39m        module\n",
       "\u001b[31mString form:\u001b[39m <module 'spopt.route.utils' from '/home/dylan/projects/gsoc2025/spopt/spopt/route/utils.py'>\n",
       "\u001b[31mFile:\u001b[39m        ~/projects/gsoc2025/spopt/spopt/route/utils.py\n",
       "\u001b[31mDocstring:\u001b[39m   <no docstring>"
      ]
     },
     "metadata": {},
     "output_type": "display_data"
    }
   ],
   "source": [
    "spopt.route.utils?"
   ]
  },
  {
   "cell_type": "code",
   "execution_count": 7,
   "id": "6a558128-9dd5-4f80-9c93-161ac6170de9",
   "metadata": {},
   "outputs": [
    {
     "data": {
      "text/plain": [
       "['_OSRM_DATABASE_FILE',\n",
       " '__builtins__',\n",
       " '__cached__',\n",
       " '__doc__',\n",
       " '__file__',\n",
       " '__loader__',\n",
       " '__name__',\n",
       " '__package__',\n",
       " '__spec__',\n",
       " '_build_route_table_http',\n",
       " '_build_route_table_pyosrm',\n",
       " '_build_specific_route_http',\n",
       " '_build_specific_route_pyosrm',\n",
       " '_create_route_request',\n",
       " 'build_route_table',\n",
       " 'build_specific_route',\n",
       " 'geopandas',\n",
       " 'has_bindings',\n",
       " 'metrics',\n",
       " 'numpy',\n",
       " 'os',\n",
       " 'requests',\n",
       " 'shapely',\n",
       " 'warnings']"
      ]
     },
     "execution_count": 7,
     "metadata": {},
     "output_type": "execute_result"
    }
   ],
   "source": [
    "dir(spopt.route.engine)"
   ]
  },
  {
   "cell_type": "markdown",
   "id": "b867d06f-0cb2-4346-8135-b836434a7c05",
   "metadata": {},
   "source": [
    "Reproduce the guinness example"
   ]
  },
  {
   "cell_type": "code",
   "execution_count": 8,
   "id": "78adf119-bc73-40ff-8d72-38ea27945376",
   "metadata": {},
   "outputs": [],
   "source": [
    "from spopt.route.heuristic import LastMile\n",
    "from pyvrp import stop"
   ]
  },
  {
   "cell_type": "code",
   "execution_count": 9,
   "id": "68ba58ff-b1cc-4e2a-8ac4-c6a3609b78fb",
   "metadata": {},
   "outputs": [],
   "source": [
    "trucks = pandas.DataFrame(\n",
    "    [['big', 'lng',      2000,    280, .004,  .50, 5],\n",
    "     ['big', 'electric', 2000,    480, .002,  .50, 5],\n",
    "     ['med', 'lng',      800, 280*.66, .0001, .63, 10],\n",
    "     ['med', 'electric', 800, 480*.66, .004,  .50, 10],\n",
    "     ['smo', 'lng',      400, 280*0.4, .002,  .50, 20],\n",
    "     ['smo', 'electric', 400, 480*0.4, .0001, .63, 20],\n",
    "     ],\n",
    "     columns = [\n",
    "         'namesize', 'namefuel', 'capacity', \n",
    "         'fixed_cost', 'cost_per_meter', 'cost_per_minute', 'n_truck'\n",
    "         ]\n",
    ")"
   ]
  },
  {
   "cell_type": "code",
   "execution_count": 10,
   "id": "bd48e0c3-9c81-48c7-ad60-c44ef000cda5",
   "metadata": {},
   "outputs": [],
   "source": [
    "dublin_pubs = gpd.read_file('/home/dylan/projects/gsoc2025/spopt/notebooks/gsoc2025/data/dublinpubs.geojson')"
   ]
  },
  {
   "cell_type": "code",
   "execution_count": 11,
   "id": "610a59d9-99a3-4c85-a676-1a8b75f6e30a",
   "metadata": {},
   "outputs": [
    {
     "data": {
      "text/plain": [
       "(551, 8)"
      ]
     },
     "execution_count": 11,
     "metadata": {},
     "output_type": "execute_result"
    }
   ],
   "source": [
    "dublin_pubs.shape"
   ]
  },
  {
   "cell_type": "code",
   "execution_count": 12,
   "id": "b799fae3-17c1-482e-99eb-e4438e1414f2",
   "metadata": {},
   "outputs": [],
   "source": [
    "gdf = dublin_pubs"
   ]
  },
  {
   "cell_type": "code",
   "execution_count": 13,
   "id": "c9376b24-d306-4170-925f-22eeea871e96",
   "metadata": {},
   "outputs": [
    {
     "data": {
      "text/html": [
       "<div>\n",
       "<style scoped>\n",
       "    .dataframe tbody tr th:only-of-type {\n",
       "        vertical-align: middle;\n",
       "    }\n",
       "\n",
       "    .dataframe tbody tr th {\n",
       "        vertical-align: top;\n",
       "    }\n",
       "\n",
       "    .dataframe thead th {\n",
       "        text-align: right;\n",
       "    }\n",
       "</style>\n",
       "<table border=\"1\" class=\"dataframe\">\n",
       "  <thead>\n",
       "    <tr style=\"text-align: right;\">\n",
       "      <th></th>\n",
       "      <th>osmid</th>\n",
       "      <th>name</th>\n",
       "      <th>longitude</th>\n",
       "      <th>latitude</th>\n",
       "      <th>factype</th>\n",
       "      <th>demand</th>\n",
       "      <th>supply</th>\n",
       "      <th>geometry</th>\n",
       "    </tr>\n",
       "  </thead>\n",
       "  <tbody>\n",
       "    <tr>\n",
       "      <th>0</th>\n",
       "      <td>0</td>\n",
       "      <td>Guinness Storehouse</td>\n",
       "      <td>-6.286880</td>\n",
       "      <td>53.341972</td>\n",
       "      <td>depot</td>\n",
       "      <td>NaN</td>\n",
       "      <td>NaN</td>\n",
       "      <td>POINT (-6.28688 53.34197)</td>\n",
       "    </tr>\n",
       "    <tr>\n",
       "      <th>1</th>\n",
       "      <td>133193958</td>\n",
       "      <td>The Barge Bar</td>\n",
       "      <td>-6.260588</td>\n",
       "      <td>53.330551</td>\n",
       "      <td>client</td>\n",
       "      <td>23.0</td>\n",
       "      <td>21.0</td>\n",
       "      <td>POINT (-6.26059 53.33055)</td>\n",
       "    </tr>\n",
       "    <tr>\n",
       "      <th>2</th>\n",
       "      <td>249426205</td>\n",
       "      <td>Marino House (Kavanagh's)</td>\n",
       "      <td>-6.228816</td>\n",
       "      <td>53.365756</td>\n",
       "      <td>client</td>\n",
       "      <td>16.0</td>\n",
       "      <td>12.0</td>\n",
       "      <td>POINT (-6.22882 53.36576)</td>\n",
       "    </tr>\n",
       "    <tr>\n",
       "      <th>3</th>\n",
       "      <td>279464425</td>\n",
       "      <td>The Lower Deck</td>\n",
       "      <td>-6.265238</td>\n",
       "      <td>53.330686</td>\n",
       "      <td>client</td>\n",
       "      <td>28.0</td>\n",
       "      <td>5.0</td>\n",
       "      <td>POINT (-6.26524 53.33069)</td>\n",
       "    </tr>\n",
       "    <tr>\n",
       "      <th>4</th>\n",
       "      <td>279915988</td>\n",
       "      <td>Arlington Bar &amp; Restaurant</td>\n",
       "      <td>-6.260933</td>\n",
       "      <td>53.347252</td>\n",
       "      <td>client</td>\n",
       "      <td>16.0</td>\n",
       "      <td>11.0</td>\n",
       "      <td>POINT (-6.26093 53.34725)</td>\n",
       "    </tr>\n",
       "  </tbody>\n",
       "</table>\n",
       "</div>"
      ],
      "text/plain": [
       "       osmid                        name  longitude   latitude factype  \\\n",
       "0          0         Guinness Storehouse  -6.286880  53.341972   depot   \n",
       "1  133193958               The Barge Bar  -6.260588  53.330551  client   \n",
       "2  249426205   Marino House (Kavanagh's)  -6.228816  53.365756  client   \n",
       "3  279464425              The Lower Deck  -6.265238  53.330686  client   \n",
       "4  279915988  Arlington Bar & Restaurant  -6.260933  53.347252  client   \n",
       "\n",
       "   demand  supply                   geometry  \n",
       "0     NaN     NaN  POINT (-6.28688 53.34197)  \n",
       "1    23.0    21.0  POINT (-6.26059 53.33055)  \n",
       "2    16.0    12.0  POINT (-6.22882 53.36576)  \n",
       "3    28.0     5.0  POINT (-6.26524 53.33069)  \n",
       "4    16.0    11.0  POINT (-6.26093 53.34725)  "
      ]
     },
     "execution_count": 13,
     "metadata": {},
     "output_type": "execute_result"
    }
   ],
   "source": [
    "gdf.head()"
   ]
  },
  {
   "cell_type": "code",
   "execution_count": 14,
   "id": "c599c5fb-a962-441d-a54b-b13dababbe97",
   "metadata": {},
   "outputs": [],
   "source": [
    "depot = gdf.iloc[0,:]\n",
    "clients = gdf.iloc[1:,:].reset_index(drop=True)\n",
    "clients = clients.set_index(clients.osmid.astype(str))"
   ]
  },
  {
   "cell_type": "code",
   "execution_count": 15,
   "id": "22f7312e-1920-4531-b8d4-37e9297c8271",
   "metadata": {},
   "outputs": [
    {
     "name": "stdout",
     "output_type": "stream",
     "text": [
      "initializing model\n",
      "adding clients\n",
      "adding trucks\n"
     ]
    },
    {
     "name": "stderr",
     "output_type": "stream",
     "text": [
      "/home/dylan/projects/gsoc2025/spopt/spopt/route/engine.py:31: UserWarning: Failed to connect to routing engine... using haversine distance and (d/500)**.75 for durations\n",
      "  warnings.warn(\n"
     ]
    },
    {
     "name": "stdout",
     "output_type": "stream",
     "text": [
      "PyVRP v0.11.1\n",
      "\n",
      "Solving an instance with:\n",
      "    1 depot\n",
      "    550 clients\n",
      "    70 vehicles (6 vehicle types)\n",
      "\n",
      "                  |       Feasible        |      Infeasible\n",
      "    Iters    Time |   #      Avg     Best |   #      Avg     Best\n",
      "\n",
      "Search terminated in 60.29s after 166 iterations.\n",
      "Best-found solution has cost 37985911.\n",
      "\n",
      "Solution results\n",
      "================\n",
      "    # routes: 13\n",
      "     # trips: 13\n",
      "   # clients: 550\n",
      "   objective: 37985911\n",
      "    distance: 205951\n",
      "    duration: 1117\n",
      "# iterations: 166\n",
      "    run-time: 60.29 seconds\n",
      "\n"
     ]
    },
    {
     "ename": "NameError",
     "evalue": "name 'routing' is not defined",
     "output_type": "error",
     "traceback": [
      "\u001b[31m---------------------------------------------------------------------------\u001b[39m",
      "\u001b[31mNameError\u001b[39m                                 Traceback (most recent call last)",
      "\u001b[36mCell\u001b[39m\u001b[36m \u001b[39m\u001b[32mIn[15]\u001b[39m\u001b[32m, line 21\u001b[39m\n\u001b[32m     17\u001b[39m \u001b[38;5;28mprint\u001b[39m(\u001b[33m\"\u001b[39m\u001b[33madding trucks\u001b[39m\u001b[33m\"\u001b[39m)\n\u001b[32m     18\u001b[39m m.add_trucks_from_frame(\n\u001b[32m     19\u001b[39m     trucks, \n\u001b[32m     20\u001b[39m )\n\u001b[32m---> \u001b[39m\u001b[32m21\u001b[39m \u001b[43mm\u001b[49m\u001b[43m.\u001b[49m\u001b[43msolve\u001b[49m\u001b[43m(\u001b[49m\u001b[43mstop\u001b[49m\u001b[43m=\u001b[49m\u001b[43mstop\u001b[49m\u001b[43m.\u001b[49m\u001b[43mMaxRuntime\u001b[49m\u001b[43m(\u001b[49m\u001b[32;43m60\u001b[39;49m\u001b[43m)\u001b[49m\u001b[43m)\u001b[49m\n\u001b[32m     22\u001b[39m m.write_result(\u001b[33m\"\u001b[39m\u001b[33m./guinness\u001b[39m\u001b[33m\"\u001b[39m)\n",
      "\u001b[36mFile \u001b[39m\u001b[32m~/projects/gsoc2025/spopt/spopt/route/heuristic.py:356\u001b[39m, in \u001b[36mLastMile.solve\u001b[39m\u001b[34m(self, stop, *args, **kwargs)\u001b[39m\n\u001b[32m    354\u001b[39m \u001b[38;5;28mself\u001b[39m._setup_graph(all_lonlats=all_lonlats)\n\u001b[32m    355\u001b[39m \u001b[38;5;28mself\u001b[39m.result_ = \u001b[38;5;28mself\u001b[39m.model.solve(stop=stop, *args, **kwargs)\n\u001b[32m--> \u001b[39m\u001b[32m356\u001b[39m \u001b[38;5;28mself\u001b[39m.routes_, \u001b[38;5;28mself\u001b[39m.stops_ = \u001b[43mutils\u001b[49m\u001b[43m.\u001b[49m\u001b[43mroutes_and_stops\u001b[49m\u001b[43m(\u001b[49m\n\u001b[32m    357\u001b[39m \u001b[43m    \u001b[49m\u001b[38;5;28;43mself\u001b[39;49m\u001b[43m.\u001b[49m\u001b[43mresult_\u001b[49m\u001b[43m.\u001b[49m\u001b[43mbest\u001b[49m\u001b[43m,\u001b[49m\u001b[43m \u001b[49m\u001b[38;5;28;43mself\u001b[39;49m\u001b[43m.\u001b[49m\u001b[43mmodel\u001b[49m\u001b[43m,\u001b[49m\u001b[43m \u001b[49m\u001b[38;5;28;43mself\u001b[39;49m\u001b[43m.\u001b[49m\u001b[43mclients_\u001b[49m\u001b[43m,\u001b[49m\u001b[43m \u001b[49m\u001b[38;5;28;43mself\u001b[39;49m\u001b[43m.\u001b[49m\u001b[43mdepot_location\u001b[49m\u001b[43m,\u001b[49m\u001b[43m \u001b[49m\u001b[43mcost_unit\u001b[49m\u001b[43m=\u001b[49m\u001b[38;5;28;43mself\u001b[39;49m\u001b[43m.\u001b[49m\u001b[43mcost_unit\u001b[49m\n\u001b[32m    358\u001b[39m \u001b[43m\u001b[49m\u001b[43m)\u001b[49m\n\u001b[32m    359\u001b[39m \u001b[38;5;28;01mreturn\u001b[39;00m \u001b[38;5;28mself\u001b[39m\n",
      "\u001b[36mFile \u001b[39m\u001b[32m~/projects/gsoc2025/spopt/spopt/route/utils.py:253\u001b[39m, in \u001b[36mroutes_and_stops\u001b[39m\u001b[34m(solution, model, target_geoms, depot_location, cost_unit)\u001b[39m\n\u001b[32m    251\u001b[39m group = group.sort_values(\u001b[33m\"\u001b[39m\u001b[33mstop_number\u001b[39m\u001b[33m\"\u001b[39m)\n\u001b[32m    252\u001b[39m coordinates = shapely.get_coordinates(group.geometry)\n\u001b[32m--> \u001b[39m\u001b[32m253\u001b[39m shape, durations = \u001b[43mrouting\u001b[49m.build_specific_route(\n\u001b[32m    254\u001b[39m     numpy.vstack(\n\u001b[32m    255\u001b[39m         (\n\u001b[32m    256\u001b[39m         depot_location,\n\u001b[32m    257\u001b[39m         coordinates, \n\u001b[32m    258\u001b[39m         depot_location\n\u001b[32m    259\u001b[39m         )\n\u001b[32m    260\u001b[39m     )\n\u001b[32m    261\u001b[39m )\n\u001b[32m    262\u001b[39m route_truck_type = route_obj.vehicle_type()\n\u001b[32m    263\u001b[39m truck_obj = model.vehicle_types[route_truck_type]\n",
      "\u001b[31mNameError\u001b[39m: name 'routing' is not defined"
     ]
    }
   ],
   "source": [
    "print('initializing model')\n",
    "m = LastMile(\n",
    "    depot_location=(depot.longitude.item(), depot.latitude.item()),\n",
    "    depot_open=pandas.Timestamp(\"2030-01-02 07:00:00\"),\n",
    "    depot_close=pandas.Timestamp(\"2030-01-02 20:00:00\"),\n",
    "    depot_name=depot['name'],\n",
    ")\n",
    "print(\"adding clients\")\n",
    "\n",
    "m.add_clients(\n",
    "    locations = clients.geometry, \n",
    "    delivery = clients.demand,\n",
    "    pickup = clients.supply,\n",
    "    time_windows=None,\n",
    "    service_times=(numpy.log(clients.demand)**2).astype(int)\n",
    ")\n",
    "print(\"adding trucks\")\n",
    "m.add_trucks_from_frame(\n",
    "    trucks, \n",
    ")\n",
    "m.solve(stop=stop.MaxRuntime(60))\n",
    "m.write_result(\"./guinness\")"
   ]
  }
 ],
 "metadata": {
  "kernelspec": {
   "display_name": "Python 3 (ipykernel)",
   "language": "python",
   "name": "python3"
  },
  "language_info": {
   "codemirror_mode": {
    "name": "ipython",
    "version": 3
   },
   "file_extension": ".py",
   "mimetype": "text/x-python",
   "name": "python",
   "nbconvert_exporter": "python",
   "pygments_lexer": "ipython3",
   "version": "3.11.13"
  }
 },
 "nbformat": 4,
 "nbformat_minor": 5
}
