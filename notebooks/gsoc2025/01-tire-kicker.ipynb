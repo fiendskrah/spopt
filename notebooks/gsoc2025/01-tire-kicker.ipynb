{
 "cells": [
  {
   "cell_type": "markdown",
   "id": "b05b9bb4-8190-4b1b-86b6-1d8dda6b5be4",
   "metadata": {},
   "source": [
    "# Tire kicker\n",
    "\n",
    "Use this notebook to play with the code. The primary goal is to reproduce [Levi Wolf's Guinness delivery example](https://gist.github.com/ljwolf/e5927ab8c859ed477f496329c1ce19fc#file-guinness-py). "
   ]
  },
  {
   "cell_type": "markdown",
   "id": "2765f91e-27dc-4b20-b04b-0c992bcc451f",
   "metadata": {},
   "source": [
    "### Handle imports"
   ]
  },
  {
   "cell_type": "code",
   "execution_count": 1,
   "id": "521fb3aa-ab17-4d44-aec4-2a4f451c4655",
   "metadata": {},
   "outputs": [],
   "source": [
    "import geopandas as gpd\n",
    "import pandas, numpy"
   ]
  },
  {
   "cell_type": "code",
   "execution_count": 2,
   "id": "e2d83f5e-28a3-403a-86e5-b2901baa4b12",
   "metadata": {},
   "outputs": [],
   "source": [
    "import pandas"
   ]
  },
  {
   "cell_type": "code",
   "execution_count": 3,
   "id": "1a76fb44-eab6-431c-8a09-0c4d592b8167",
   "metadata": {},
   "outputs": [],
   "source": [
    "import sys\n",
    "sys.path.insert(0, '/home/dylan/projects/gsoc2025/spopt/') # not the published spopt\n",
    "import spopt"
   ]
  },
  {
   "cell_type": "code",
   "execution_count": 4,
   "id": "bd3462fe-3db2-49fc-84b2-fd95a206f630",
   "metadata": {},
   "outputs": [
    {
     "name": "stdout",
     "output_type": "stream",
     "text": [
      "/home/dylan/projects/gsoc2025/spopt/spopt/__init__.py\n"
     ]
    }
   ],
   "source": [
    "print(spopt.__file__)"
   ]
  },
  {
   "cell_type": "code",
   "execution_count": 5,
   "id": "8087698a-5a3b-4d8b-8d72-d677c479c4cb",
   "metadata": {},
   "outputs": [],
   "source": [
    "from spopt.route import engine, heuristic, utils"
   ]
  },
  {
   "cell_type": "code",
   "execution_count": 6,
   "id": "3cb0c82a-b156-442e-a747-ebeea7dcc85f",
   "metadata": {},
   "outputs": [
    {
     "data": {
      "text/plain": [
       "\u001b[0;31mType:\u001b[0m        module\n",
       "\u001b[0;31mString form:\u001b[0m <module 'spopt.route.utils' from '/home/dylan/projects/gsoc2025/spopt/spopt/route/utils.py'>\n",
       "\u001b[0;31mFile:\u001b[0m        ~/projects/gsoc2025/spopt/spopt/route/utils.py\n",
       "\u001b[0;31mDocstring:\u001b[0m   <no docstring>"
      ]
     },
     "metadata": {},
     "output_type": "display_data"
    }
   ],
   "source": [
    "spopt.route.utils?"
   ]
  },
  {
   "cell_type": "markdown",
   "id": "b867d06f-0cb2-4346-8135-b836434a7c05",
   "metadata": {},
   "source": [
    "### Reproduce the guinness example"
   ]
  },
  {
   "cell_type": "code",
   "execution_count": 7,
   "id": "78adf119-bc73-40ff-8d72-38ea27945376",
   "metadata": {},
   "outputs": [],
   "source": [
    "from spopt.route.heuristic import LastMile\n",
    "from pyvrp import stop"
   ]
  },
  {
   "cell_type": "code",
   "execution_count": 8,
   "id": "68ba58ff-b1cc-4e2a-8ac4-c6a3609b78fb",
   "metadata": {},
   "outputs": [],
   "source": [
    "trucks = pandas.DataFrame(\n",
    "    [['big', 'lng',      2000,    280, .004,  .50, 5],\n",
    "     ['big', 'electric', 2000,    480, .002,  .50, 5],\n",
    "     ['med', 'lng',      800, 280*.66, .0001, .63, 10],\n",
    "     ['med', 'electric', 800, 480*.66, .004,  .50, 10],\n",
    "     ['smo', 'lng',      400, 280*0.4, .002,  .50, 20],\n",
    "     ['smo', 'electric', 400, 480*0.4, .0001, .63, 20],\n",
    "     ],\n",
    "     columns = [\n",
    "         'namesize', 'namefuel', 'capacity', \n",
    "         'fixed_cost', 'cost_per_meter', 'cost_per_minute', 'n_truck'\n",
    "         ]\n",
    ")"
   ]
  },
  {
   "cell_type": "code",
   "execution_count": 9,
   "id": "bd48e0c3-9c81-48c7-ad60-c44ef000cda5",
   "metadata": {},
   "outputs": [],
   "source": [
    "dublin_pubs = gpd.read_file('/home/dylan/projects/gsoc2025/spopt/notebooks/gsoc2025/data/dublinpubs.geojson')"
   ]
  },
  {
   "cell_type": "code",
   "execution_count": 10,
   "id": "610a59d9-99a3-4c85-a676-1a8b75f6e30a",
   "metadata": {},
   "outputs": [
    {
     "data": {
      "text/plain": [
       "(551, 8)"
      ]
     },
     "execution_count": 10,
     "metadata": {},
     "output_type": "execute_result"
    }
   ],
   "source": [
    "dublin_pubs.shape"
   ]
  },
  {
   "cell_type": "code",
   "execution_count": 11,
   "id": "b799fae3-17c1-482e-99eb-e4438e1414f2",
   "metadata": {},
   "outputs": [],
   "source": [
    "gdf = dublin_pubs"
   ]
  },
  {
   "cell_type": "code",
   "execution_count": 12,
   "id": "c599c5fb-a962-441d-a54b-b13dababbe97",
   "metadata": {},
   "outputs": [],
   "source": [
    "depot = gdf.iloc[0,:]\n",
    "clients = gdf.iloc[1:,:].reset_index(drop=True)\n",
    "clients = clients.set_index(clients.osmid.astype(str))"
   ]
  },
  {
   "cell_type": "code",
   "execution_count": 13,
   "id": "a1282f2d-d6a1-40a5-9c85-c030c505ee20",
   "metadata": {},
   "outputs": [
    {
     "name": "stdout",
     "output_type": "stream",
     "text": [
      "initializing model\n",
      "adding clients\n",
      "adding trucks\n"
     ]
    },
    {
     "data": {
      "text/plain": [
       "<spopt.route.heuristic.LastMile at 0x7f99671347d0>"
      ]
     },
     "execution_count": 13,
     "metadata": {},
     "output_type": "execute_result"
    }
   ],
   "source": [
    "print('initializing model')\n",
    "m = LastMile(\n",
    "    depot_location=(depot.longitude.item(), depot.latitude.item()),\n",
    "    depot_open=pandas.Timestamp(\"2030-01-02 07:00:00\"),\n",
    "    depot_close=pandas.Timestamp(\"2030-01-02 20:00:00\"),\n",
    "    depot_name=depot['name'],\n",
    ")\n",
    "print(\"adding clients\")\n",
    "\n",
    "m.add_clients(\n",
    "    locations = clients.geometry, \n",
    "    delivery = clients.demand,\n",
    "    pickup = clients.supply,\n",
    "    time_windows=None,\n",
    "    service_times=(numpy.log(clients.demand)**2).astype(int)\n",
    ")\n",
    "print(\"adding trucks\")\n",
    "m.add_trucks_from_frame(\n",
    "    trucks, \n",
    ")"
   ]
  },
  {
   "cell_type": "code",
   "execution_count": 14,
   "id": "3a5541bd-0245-414e-b7d7-27d42b379ff7",
   "metadata": {
    "scrolled": true
   },
   "outputs": [
    {
     "data": {
      "text/plain": [
       "(-6.28688, 53.341972)"
      ]
     },
     "execution_count": 14,
     "metadata": {},
     "output_type": "execute_result"
    }
   ],
   "source": [
    "m.depot_location"
   ]
  },
  {
   "cell_type": "markdown",
   "id": "b26b0a10-a774-492d-bc86-d9f2959bda0d",
   "metadata": {},
   "source": [
    "#### From heuristic.py"
   ]
  },
  {
   "cell_type": "markdown",
   "id": "5e1a18dd-492a-4605-883d-395e56d53cd5",
   "metadata": {},
   "source": [
    "_setup_graph is what needs attention, and buld_route_table is the operative function that is causing issues within _setup_graph"
   ]
  },
  {
   "cell_type": "markdown",
   "id": "ae823f16-bce8-4d2a-9dac-a7d746e40b22",
   "metadata": {},
   "source": [
    "In the next section, I will troubleshoot util.build_route_table. I'm leaving `if http` chunk alone because I just want to get the basic version of the function (euclidean distances) to build the distances and durations table for the `pyvrp` solver."
   ]
  },
  {
   "cell_type": "code",
   "execution_count": 15,
   "id": "b9b1b6e6-68b6-475a-ab1f-a7ae42ae9965",
   "metadata": {},
   "outputs": [],
   "source": [
    "from sklearn import metrics"
   ]
  },
  {
   "cell_type": "code",
   "execution_count": 16,
   "id": "4a8aacec-9568-4c9c-8f14-902525ee65e0",
   "metadata": {},
   "outputs": [],
   "source": [
    "import shapely"
   ]
  },
  {
   "cell_type": "raw",
   "id": "754fa49f-b5ab-411d-a7e5-b77fd859287e",
   "metadata": {
    "scrolled": true
   },
   "source": [
    "distances = metrics.pairwise_distances(\n",
    "                    numpy.fliplr(numpy.deg2rad(demand_sites)), \n",
    "                    numpy.fliplr(numpy.deg2rad(candidate_depots)),\n",
    "                    metric=\"haversine\"\n",
    "                ) * 6371000\n",
    "durations = anumpy.ceil((distances / 10) ** .75)"
   ]
  },
  {
   "cell_type": "markdown",
   "id": "bfdb3416-8645-4b4a-a3b0-ffa022e366e8",
   "metadata": {},
   "source": [
    "build_route_table accepts arguments for demand_sites and candidate_depots, then processes them like this:"
   ]
  },
  {
   "cell_type": "raw",
   "id": "c252bb35-c086-404b-897f-c6d96e030473",
   "metadata": {},
   "source": [
    "if isinstance(demand_sites, (geopandas.GeoSeries, geopandas.GeoDataFrame)):\n",
    "    demand_sites = demand_sites.geometry.get_coordinates().values\n",
    "if isinstance(candidate_depots, (geopandas.GeoSeries, geopandas.GeoDataFrame)):\n",
    "    candidate_depots = candidate_depots.geometry.get_coordinates().values\n",
    "if cost not in (\"distance\", \"duration\", \"both\"):\n",
    "    raise ValueError(f\"cost option '{cost}' not one of the supported options, ('distance', 'duration', 'both')\")"
   ]
  },
  {
   "cell_type": "markdown",
   "id": "f4c84f5c-7ba6-4384-a050-517d4e2ebf10",
   "metadata": {},
   "source": [
    "These are constructed through the _setup_graph function, which only needs the all_lonlats object. It passes all_lonlats to build_route_table for both the demand_sites and candidate_depots argument."
   ]
  },
  {
   "cell_type": "markdown",
   "id": "3fff6bab-5797-42a2-b3a7-6bc506e7ad0d",
   "metadata": {},
   "source": [
    "all_lonlats is within solve(). Here, I've swapped out `self` for `m`. This block is found in `heuristic.py` at line 351.\n"
   ]
  },
  {
   "cell_type": "code",
   "execution_count": 17,
   "id": "95561330-ec3e-4297-bbf1-c0774bed1e74",
   "metadata": {},
   "outputs": [],
   "source": [
    "all_lonlats = numpy.row_stack(\n",
    "        (m.depot_location, shapely.get_coordinates(m.clients_.geometry))\n",
    "    )"
   ]
  },
  {
   "cell_type": "markdown",
   "id": "0d577d59-0207-49df-9a1a-99335996f647",
   "metadata": {},
   "source": [
    "With all_lonlats defined, I can use it for demand_sits and candidate_depots. This chunk is found in `engine.py` at line 21."
   ]
  },
  {
   "cell_type": "raw",
   "id": "4e4ee550-73cb-45d7-b349-265782c7ba65",
   "metadata": {},
   "source": [
    "demand_sites = all_lonlats.geometry.get_coordinates().values\n",
    "candidate_depots = all_lonlats.geometry.get_coordinates().values"
   ]
  },
  {
   "cell_type": "code",
   "execution_count": 18,
   "id": "70ee5bd2-620a-45b0-b7bb-7a60ea3a071a",
   "metadata": {
    "scrolled": true
   },
   "outputs": [
    {
     "data": {
      "text/plain": [
       "array([[-6.28688   , 53.341972  ],\n",
       "       [-6.2605878 , 53.3305512 ],\n",
       "       [-6.2288162 , 53.365756  ],\n",
       "       ...,\n",
       "       [-6.31899498, 53.36520717],\n",
       "       [-6.25288447, 53.33808433],\n",
       "       [-6.25872036, 53.34198563]])"
      ]
     },
     "execution_count": 18,
     "metadata": {},
     "output_type": "execute_result"
    }
   ],
   "source": [
    "all_lonlats"
   ]
  },
  {
   "cell_type": "markdown",
   "id": "83424522-0a69-4af1-9bfe-04c97983c702",
   "metadata": {},
   "source": [
    "Okay, so it looks like we're invoking a way to extract the coordinates from the geometry object twice. "
   ]
  },
  {
   "cell_type": "code",
   "execution_count": 19,
   "id": "8e653411-1a9a-4cf8-96df-a31602af5175",
   "metadata": {},
   "outputs": [],
   "source": [
    "demand_sites = all_lonlats\n",
    "candidate_depots = all_lonlats"
   ]
  },
  {
   "cell_type": "markdown",
   "id": "a16b3049-a4bf-401c-8fde-ccaaa5215cdc",
   "metadata": {},
   "source": [
    "ah yes, silence. Does this work now?"
   ]
  },
  {
   "cell_type": "code",
   "execution_count": 20,
   "id": "32e06a59-a498-4ff4-854f-e7e6c11ea4c4",
   "metadata": {},
   "outputs": [],
   "source": [
    "distances = metrics.pairwise_distances(\n",
    "                    numpy.fliplr(numpy.deg2rad(demand_sites)), \n",
    "                    numpy.fliplr(numpy.deg2rad(candidate_depots)),\n",
    "                    metric=\"haversine\"\n",
    "                ) * 6371000\n",
    "durations = numpy.ceil((distances / 10) ** .75)"
   ]
  },
  {
   "cell_type": "markdown",
   "id": "b82f2718-5c98-459f-b3f4-b42b8d1b9a0c",
   "metadata": {},
   "source": [
    "ah yes, silence"
   ]
  },
  {
   "cell_type": "markdown",
   "id": "21972cdd-9d93-4697-9aaf-104c76d072d9",
   "metadata": {},
   "source": [
    "So if we back up a step, we still have our m object defined, can we use it to _setup_graph using our all_lonlats as inputs?"
   ]
  },
  {
   "cell_type": "code",
   "execution_count": 21,
   "id": "4f270612-9a5d-4bfa-bc49-364693556f83",
   "metadata": {},
   "outputs": [
    {
     "name": "stderr",
     "output_type": "stream",
     "text": [
      "/home/dylan/projects/gsoc2025/spopt/spopt/route/engine.py:31: UserWarning: Failed to connect to routing engine... using haversine distance and (d/500)**.75 for durations\n",
      "  warnings.warn(\n"
     ]
    }
   ],
   "source": [
    "m._setup_graph(all_lonlats=all_lonlats)"
   ]
  },
  {
   "cell_type": "code",
   "execution_count": 22,
   "id": "148b2668-2bf2-4ab5-ad1c-8dc8e4f701cd",
   "metadata": {},
   "outputs": [],
   "source": [
    "import pyvrp\n",
    "import geopandas"
   ]
  },
  {
   "cell_type": "code",
   "execution_count": 23,
   "id": "e4bb1a37-fc57-4b47-a0c6-99e01b1470ef",
   "metadata": {},
   "outputs": [
    {
     "name": "stderr",
     "output_type": "stream",
     "text": [
      "/home/dylan/projects/gsoc2025/spopt/spopt/route/engine.py:31: UserWarning: Failed to connect to routing engine... using haversine distance and (d/500)**.75 for durations\n",
      "  warnings.warn(\n"
     ]
    },
    {
     "name": "stdout",
     "output_type": "stream",
     "text": [
      "PyVRP v0.11.2\n",
      "\n",
      "Solving an instance with:\n",
      "    1 depot\n",
      "    550 clients\n",
      "    70 vehicles (6 vehicle types)\n",
      "\n",
      "                  |       Feasible        |      Infeasible\n",
      "    Iters    Time |   #      Avg     Best |   #      Avg     Best\n",
      "\n",
      "Search terminated in 60.37s after 159 iterations.\n",
      "Best-found solution has cost 37985911.\n",
      "\n",
      "Solution results\n",
      "================\n",
      "    # routes: 13\n",
      "     # trips: 13\n",
      "   # clients: 550\n",
      "   objective: 37985911\n",
      "    distance: 205951\n",
      "    duration: 1117\n",
      "# iterations: 159\n",
      "    run-time: 60.37 seconds\n",
      "\n"
     ]
    },
    {
     "name": "stderr",
     "output_type": "stream",
     "text": [
      "/home/dylan/projects/gsoc2025/spopt/spopt/route/engine.py:72: UserWarning: Failed to connect to routing engine... constructed routes will be straight lines and may not follow the road network.\n",
      "  warnings.warn(\n",
      "/home/dylan/projects/gsoc2025/spopt/spopt/route/engine.py:72: UserWarning: Failed to connect to routing engine... constructed routes will be straight lines and may not follow the road network.\n",
      "  warnings.warn(\n",
      "/home/dylan/projects/gsoc2025/spopt/spopt/route/engine.py:72: UserWarning: Failed to connect to routing engine... constructed routes will be straight lines and may not follow the road network.\n",
      "  warnings.warn(\n",
      "/home/dylan/projects/gsoc2025/spopt/spopt/route/engine.py:72: UserWarning: Failed to connect to routing engine... constructed routes will be straight lines and may not follow the road network.\n",
      "  warnings.warn(\n",
      "/home/dylan/projects/gsoc2025/spopt/spopt/route/engine.py:72: UserWarning: Failed to connect to routing engine... constructed routes will be straight lines and may not follow the road network.\n",
      "  warnings.warn(\n",
      "/home/dylan/projects/gsoc2025/spopt/spopt/route/engine.py:72: UserWarning: Failed to connect to routing engine... constructed routes will be straight lines and may not follow the road network.\n",
      "  warnings.warn(\n",
      "/home/dylan/projects/gsoc2025/spopt/spopt/route/engine.py:72: UserWarning: Failed to connect to routing engine... constructed routes will be straight lines and may not follow the road network.\n",
      "  warnings.warn(\n",
      "/home/dylan/projects/gsoc2025/spopt/spopt/route/engine.py:72: UserWarning: Failed to connect to routing engine... constructed routes will be straight lines and may not follow the road network.\n",
      "  warnings.warn(\n",
      "/home/dylan/projects/gsoc2025/spopt/spopt/route/engine.py:72: UserWarning: Failed to connect to routing engine... constructed routes will be straight lines and may not follow the road network.\n",
      "  warnings.warn(\n",
      "/home/dylan/projects/gsoc2025/spopt/spopt/route/engine.py:72: UserWarning: Failed to connect to routing engine... constructed routes will be straight lines and may not follow the road network.\n",
      "  warnings.warn(\n",
      "/home/dylan/projects/gsoc2025/spopt/spopt/route/engine.py:72: UserWarning: Failed to connect to routing engine... constructed routes will be straight lines and may not follow the road network.\n",
      "  warnings.warn(\n",
      "/home/dylan/projects/gsoc2025/spopt/spopt/route/engine.py:72: UserWarning: Failed to connect to routing engine... constructed routes will be straight lines and may not follow the road network.\n",
      "  warnings.warn(\n",
      "/home/dylan/projects/gsoc2025/spopt/spopt/route/engine.py:72: UserWarning: Failed to connect to routing engine... constructed routes will be straight lines and may not follow the road network.\n",
      "  warnings.warn(\n"
     ]
    },
    {
     "data": {
      "text/plain": [
       "<spopt.route.heuristic.LastMile at 0x7f99671347d0>"
      ]
     },
     "execution_count": 23,
     "metadata": {},
     "output_type": "execute_result"
    }
   ],
   "source": [
    "m.solve(stop=pyvrp.stop.MaxRuntime(60))"
   ]
  },
  {
   "cell_type": "code",
   "execution_count": 24,
   "id": "659d0468-727a-4805-a6df-857b11977b32",
   "metadata": {},
   "outputs": [
    {
     "data": {
      "text/plain": [
       "\u001b[0;31mSignature:\u001b[0m \u001b[0mm\u001b[0m\u001b[0;34m.\u001b[0m\u001b[0mexplore\u001b[0m\u001b[0;34m(\u001b[0m\u001b[0;34m)\u001b[0m\u001b[0;34m\u001b[0m\u001b[0;34m\u001b[0m\u001b[0m\n",
       "\u001b[0;31mDocstring:\u001b[0m Make a webmap of the solution, colored by the route name. \n",
       "\u001b[0;31mFile:\u001b[0m      ~/projects/gsoc2025/spopt/spopt/route/heuristic.py\n",
       "\u001b[0;31mType:\u001b[0m      method"
      ]
     },
     "metadata": {},
     "output_type": "display_data"
    }
   ],
   "source": [
    "m.explore?"
   ]
  },
  {
   "cell_type": "code",
   "execution_count": 25,
   "id": "d34be635-1930-42b6-86ad-dd954e67e8e2",
   "metadata": {},
   "outputs": [
    {
     "ename": "TypeError",
     "evalue": "Object of type Timestamp is not JSON serializable",
     "output_type": "error",
     "traceback": [
      "\u001b[0;31m---------------------------------------------------------------------------\u001b[0m",
      "\u001b[0;31mTypeError\u001b[0m                                 Traceback (most recent call last)",
      "Cell \u001b[0;32mIn[25], line 1\u001b[0m\n\u001b[0;32m----> 1\u001b[0m \u001b[43mm\u001b[49m\u001b[38;5;241;43m.\u001b[39;49m\u001b[43mwrite_result\u001b[49m\u001b[43m(\u001b[49m\u001b[38;5;124;43m\"\u001b[39;49m\u001b[38;5;124;43m./guinness\u001b[39;49m\u001b[38;5;124;43m\"\u001b[39;49m\u001b[43m)\u001b[49m\n",
      "File \u001b[0;32m~/projects/gsoc2025/spopt/spopt/route/heuristic.py:466\u001b[0m, in \u001b[0;36mLastMile.write_result\u001b[0;34m(self, filestem, write_geometries)\u001b[0m\n\u001b[1;32m    464\u001b[0m writer(\u001b[38;5;28mself\u001b[39m\u001b[38;5;241m.\u001b[39mroutes_, filestem\u001b[38;5;241m+\u001b[39m\u001b[38;5;124m\"\u001b[39m\u001b[38;5;124m_routes\u001b[39m\u001b[38;5;124m\"\u001b[39m)\n\u001b[1;32m    465\u001b[0m writer(\u001b[38;5;28mself\u001b[39m\u001b[38;5;241m.\u001b[39mstops_, filestem\u001b[38;5;241m+\u001b[39m\u001b[38;5;124m\"\u001b[39m\u001b[38;5;124m_stops\u001b[39m\u001b[38;5;124m\"\u001b[39m)\n\u001b[0;32m--> 466\u001b[0m \u001b[38;5;28;43mself\u001b[39;49m\u001b[38;5;241;43m.\u001b[39;49m\u001b[43mexplore\u001b[49m\u001b[43m(\u001b[49m\u001b[43m)\u001b[49m\u001b[38;5;241;43m.\u001b[39;49m\u001b[43msave\u001b[49m\u001b[43m(\u001b[49m\u001b[43mfilestem\u001b[49m\u001b[38;5;241;43m+\u001b[39;49m\u001b[38;5;124;43m\"\u001b[39;49m\u001b[38;5;124;43m_map.html\u001b[39;49m\u001b[38;5;124;43m\"\u001b[39;49m\u001b[43m)\u001b[49m\n",
      "File \u001b[0;32m~/mambaforge/envs/gsoc/lib/python3.11/site-packages/branca/element.py:228\u001b[0m, in \u001b[0;36mElement.save\u001b[0;34m(self, outfile, close_file, **kwargs)\u001b[0m\n\u001b[1;32m    225\u001b[0m     fid \u001b[38;5;241m=\u001b[39m outfile\n\u001b[1;32m    227\u001b[0m root \u001b[38;5;241m=\u001b[39m \u001b[38;5;28mself\u001b[39m\u001b[38;5;241m.\u001b[39mget_root()\n\u001b[0;32m--> 228\u001b[0m html \u001b[38;5;241m=\u001b[39m \u001b[43mroot\u001b[49m\u001b[38;5;241;43m.\u001b[39;49m\u001b[43mrender\u001b[49m\u001b[43m(\u001b[49m\u001b[38;5;241;43m*\u001b[39;49m\u001b[38;5;241;43m*\u001b[39;49m\u001b[43mkwargs\u001b[49m\u001b[43m)\u001b[49m\n\u001b[1;32m    229\u001b[0m fid\u001b[38;5;241m.\u001b[39mwrite(html\u001b[38;5;241m.\u001b[39mencode(\u001b[38;5;124m\"\u001b[39m\u001b[38;5;124mutf8\u001b[39m\u001b[38;5;124m\"\u001b[39m))\n\u001b[1;32m    230\u001b[0m \u001b[38;5;28;01mif\u001b[39;00m close_file:\n",
      "File \u001b[0;32m~/mambaforge/envs/gsoc/lib/python3.11/site-packages/branca/element.py:405\u001b[0m, in \u001b[0;36mFigure.render\u001b[0;34m(self, **kwargs)\u001b[0m\n\u001b[1;32m    403\u001b[0m \u001b[38;5;250m\u001b[39m\u001b[38;5;124;03m\"\"\"Renders the HTML representation of the element.\"\"\"\u001b[39;00m\n\u001b[1;32m    404\u001b[0m \u001b[38;5;28;01mfor\u001b[39;00m name, child \u001b[38;5;129;01min\u001b[39;00m \u001b[38;5;28mself\u001b[39m\u001b[38;5;241m.\u001b[39m_children\u001b[38;5;241m.\u001b[39mitems():\n\u001b[0;32m--> 405\u001b[0m     \u001b[43mchild\u001b[49m\u001b[38;5;241;43m.\u001b[39;49m\u001b[43mrender\u001b[49m\u001b[43m(\u001b[49m\u001b[38;5;241;43m*\u001b[39;49m\u001b[38;5;241;43m*\u001b[39;49m\u001b[43mkwargs\u001b[49m\u001b[43m)\u001b[49m\n\u001b[1;32m    406\u001b[0m \u001b[38;5;28;01mreturn\u001b[39;00m \u001b[38;5;28mself\u001b[39m\u001b[38;5;241m.\u001b[39m_template\u001b[38;5;241m.\u001b[39mrender(this\u001b[38;5;241m=\u001b[39m\u001b[38;5;28mself\u001b[39m, kwargs\u001b[38;5;241m=\u001b[39mkwargs)\n",
      "File \u001b[0;32m~/mambaforge/envs/gsoc/lib/python3.11/site-packages/folium/elements.py:37\u001b[0m, in \u001b[0;36mJSCSSMixin.render\u001b[0;34m(self, **kwargs)\u001b[0m\n\u001b[1;32m     34\u001b[0m \u001b[38;5;28;01mfor\u001b[39;00m name, url \u001b[38;5;129;01min\u001b[39;00m \u001b[38;5;28mself\u001b[39m\u001b[38;5;241m.\u001b[39mdefault_css:\n\u001b[1;32m     35\u001b[0m     figure\u001b[38;5;241m.\u001b[39mheader\u001b[38;5;241m.\u001b[39madd_child(CssLink(url), name\u001b[38;5;241m=\u001b[39mname)\n\u001b[0;32m---> 37\u001b[0m \u001b[38;5;28;43msuper\u001b[39;49m\u001b[43m(\u001b[49m\u001b[43m)\u001b[49m\u001b[38;5;241;43m.\u001b[39;49m\u001b[43mrender\u001b[49m\u001b[43m(\u001b[49m\u001b[38;5;241;43m*\u001b[39;49m\u001b[38;5;241;43m*\u001b[39;49m\u001b[43mkwargs\u001b[49m\u001b[43m)\u001b[49m\n",
      "File \u001b[0;32m~/mambaforge/envs/gsoc/lib/python3.11/site-packages/branca/element.py:736\u001b[0m, in \u001b[0;36mMacroElement.render\u001b[0;34m(self, **kwargs)\u001b[0m\n\u001b[1;32m    733\u001b[0m     figure\u001b[38;5;241m.\u001b[39mscript\u001b[38;5;241m.\u001b[39madd_child(Element(script(\u001b[38;5;28mself\u001b[39m, kwargs)), name\u001b[38;5;241m=\u001b[39m\u001b[38;5;28mself\u001b[39m\u001b[38;5;241m.\u001b[39mget_name())\n\u001b[1;32m    735\u001b[0m \u001b[38;5;28;01mfor\u001b[39;00m name, element \u001b[38;5;129;01min\u001b[39;00m \u001b[38;5;28mself\u001b[39m\u001b[38;5;241m.\u001b[39m_children\u001b[38;5;241m.\u001b[39mitems():\n\u001b[0;32m--> 736\u001b[0m     \u001b[43melement\u001b[49m\u001b[38;5;241;43m.\u001b[39;49m\u001b[43mrender\u001b[49m\u001b[43m(\u001b[49m\u001b[38;5;241;43m*\u001b[39;49m\u001b[38;5;241;43m*\u001b[39;49m\u001b[43mkwargs\u001b[49m\u001b[43m)\u001b[49m\n",
      "File \u001b[0;32m~/mambaforge/envs/gsoc/lib/python3.11/site-packages/folium/features.py:871\u001b[0m, in \u001b[0;36mGeoJson.render\u001b[0;34m(self, **kwargs)\u001b[0m\n\u001b[1;32m    869\u001b[0m     \u001b[38;5;28;01mif\u001b[39;00m \u001b[38;5;28mself\u001b[39m\u001b[38;5;241m.\u001b[39mhighlight:\n\u001b[1;32m    870\u001b[0m         \u001b[38;5;28mself\u001b[39m\u001b[38;5;241m.\u001b[39mhighlight_map \u001b[38;5;241m=\u001b[39m mapper\u001b[38;5;241m.\u001b[39mget_highlight_map(\u001b[38;5;28mself\u001b[39m\u001b[38;5;241m.\u001b[39mhighlight_function)\n\u001b[0;32m--> 871\u001b[0m \u001b[38;5;28;43msuper\u001b[39;49m\u001b[43m(\u001b[49m\u001b[43m)\u001b[49m\u001b[38;5;241;43m.\u001b[39;49m\u001b[43mrender\u001b[49m\u001b[43m(\u001b[49m\u001b[43m)\u001b[49m\n",
      "File \u001b[0;32m~/mambaforge/envs/gsoc/lib/python3.11/site-packages/folium/map.py:90\u001b[0m, in \u001b[0;36mLayer.render\u001b[0;34m(self, **kwargs)\u001b[0m\n\u001b[1;32m     82\u001b[0m \u001b[38;5;28;01mif\u001b[39;00m \u001b[38;5;28mself\u001b[39m\u001b[38;5;241m.\u001b[39mshow:\n\u001b[1;32m     83\u001b[0m     \u001b[38;5;28mself\u001b[39m\u001b[38;5;241m.\u001b[39madd_child(\n\u001b[1;32m     84\u001b[0m         ElementAddToElement(\n\u001b[1;32m     85\u001b[0m             element_name\u001b[38;5;241m=\u001b[39m\u001b[38;5;28mself\u001b[39m\u001b[38;5;241m.\u001b[39mget_name(),\n\u001b[0;32m   (...)\u001b[0m\n\u001b[1;32m     88\u001b[0m         name\u001b[38;5;241m=\u001b[39m\u001b[38;5;28mself\u001b[39m\u001b[38;5;241m.\u001b[39mget_name() \u001b[38;5;241m+\u001b[39m \u001b[38;5;124m\"\u001b[39m\u001b[38;5;124m_add\u001b[39m\u001b[38;5;124m\"\u001b[39m,\n\u001b[1;32m     89\u001b[0m     )\n\u001b[0;32m---> 90\u001b[0m \u001b[38;5;28;43msuper\u001b[39;49m\u001b[43m(\u001b[49m\u001b[43m)\u001b[49m\u001b[38;5;241;43m.\u001b[39;49m\u001b[43mrender\u001b[49m\u001b[43m(\u001b[49m\u001b[38;5;241;43m*\u001b[39;49m\u001b[38;5;241;43m*\u001b[39;49m\u001b[43mkwargs\u001b[49m\u001b[43m)\u001b[49m\n",
      "File \u001b[0;32m~/mambaforge/envs/gsoc/lib/python3.11/site-packages/branca/element.py:733\u001b[0m, in \u001b[0;36mMacroElement.render\u001b[0;34m(self, **kwargs)\u001b[0m\n\u001b[1;32m    731\u001b[0m script \u001b[38;5;241m=\u001b[39m \u001b[38;5;28mself\u001b[39m\u001b[38;5;241m.\u001b[39m_template\u001b[38;5;241m.\u001b[39mmodule\u001b[38;5;241m.\u001b[39m\u001b[38;5;18m__dict__\u001b[39m\u001b[38;5;241m.\u001b[39mget(\u001b[38;5;124m\"\u001b[39m\u001b[38;5;124mscript\u001b[39m\u001b[38;5;124m\"\u001b[39m, \u001b[38;5;28;01mNone\u001b[39;00m)\n\u001b[1;32m    732\u001b[0m \u001b[38;5;28;01mif\u001b[39;00m script \u001b[38;5;129;01mis\u001b[39;00m \u001b[38;5;129;01mnot\u001b[39;00m \u001b[38;5;28;01mNone\u001b[39;00m:\n\u001b[0;32m--> 733\u001b[0m     figure\u001b[38;5;241m.\u001b[39mscript\u001b[38;5;241m.\u001b[39madd_child(Element(\u001b[43mscript\u001b[49m\u001b[43m(\u001b[49m\u001b[38;5;28;43mself\u001b[39;49m\u001b[43m,\u001b[49m\u001b[43m \u001b[49m\u001b[43mkwargs\u001b[49m\u001b[43m)\u001b[49m), name\u001b[38;5;241m=\u001b[39m\u001b[38;5;28mself\u001b[39m\u001b[38;5;241m.\u001b[39mget_name())\n\u001b[1;32m    735\u001b[0m \u001b[38;5;28;01mfor\u001b[39;00m name, element \u001b[38;5;129;01min\u001b[39;00m \u001b[38;5;28mself\u001b[39m\u001b[38;5;241m.\u001b[39m_children\u001b[38;5;241m.\u001b[39mitems():\n\u001b[1;32m    736\u001b[0m     element\u001b[38;5;241m.\u001b[39mrender(\u001b[38;5;241m*\u001b[39m\u001b[38;5;241m*\u001b[39mkwargs)\n",
      "File \u001b[0;32m~/mambaforge/envs/gsoc/lib/python3.11/site-packages/jinja2/runtime.py:770\u001b[0m, in \u001b[0;36mMacro.__call__\u001b[0;34m(self, *args, **kwargs)\u001b[0m\n\u001b[1;32m    764\u001b[0m \u001b[38;5;28;01melif\u001b[39;00m \u001b[38;5;28mlen\u001b[39m(args) \u001b[38;5;241m>\u001b[39m \u001b[38;5;28mself\u001b[39m\u001b[38;5;241m.\u001b[39m_argument_count:\n\u001b[1;32m    765\u001b[0m     \u001b[38;5;28;01mraise\u001b[39;00m \u001b[38;5;167;01mTypeError\u001b[39;00m(\n\u001b[1;32m    766\u001b[0m         \u001b[38;5;124mf\u001b[39m\u001b[38;5;124m\"\u001b[39m\u001b[38;5;124mmacro \u001b[39m\u001b[38;5;132;01m{\u001b[39;00m\u001b[38;5;28mself\u001b[39m\u001b[38;5;241m.\u001b[39mname\u001b[38;5;132;01m!r}\u001b[39;00m\u001b[38;5;124m takes not more than\u001b[39m\u001b[38;5;124m\"\u001b[39m\n\u001b[1;32m    767\u001b[0m         \u001b[38;5;124mf\u001b[39m\u001b[38;5;124m\"\u001b[39m\u001b[38;5;124m \u001b[39m\u001b[38;5;132;01m{\u001b[39;00m\u001b[38;5;28mlen\u001b[39m(\u001b[38;5;28mself\u001b[39m\u001b[38;5;241m.\u001b[39marguments)\u001b[38;5;132;01m}\u001b[39;00m\u001b[38;5;124m argument(s)\u001b[39m\u001b[38;5;124m\"\u001b[39m\n\u001b[1;32m    768\u001b[0m     )\n\u001b[0;32m--> 770\u001b[0m \u001b[38;5;28;01mreturn\u001b[39;00m \u001b[38;5;28;43mself\u001b[39;49m\u001b[38;5;241;43m.\u001b[39;49m\u001b[43m_invoke\u001b[49m\u001b[43m(\u001b[49m\u001b[43marguments\u001b[49m\u001b[43m,\u001b[49m\u001b[43m \u001b[49m\u001b[43mautoescape\u001b[49m\u001b[43m)\u001b[49m\n",
      "File \u001b[0;32m~/mambaforge/envs/gsoc/lib/python3.11/site-packages/jinja2/runtime.py:784\u001b[0m, in \u001b[0;36mMacro._invoke\u001b[0;34m(self, arguments, autoescape)\u001b[0m\n\u001b[1;32m    781\u001b[0m \u001b[38;5;28;01mif\u001b[39;00m \u001b[38;5;28mself\u001b[39m\u001b[38;5;241m.\u001b[39m_environment\u001b[38;5;241m.\u001b[39mis_async:\n\u001b[1;32m    782\u001b[0m     \u001b[38;5;28;01mreturn\u001b[39;00m \u001b[38;5;28mself\u001b[39m\u001b[38;5;241m.\u001b[39m_async_invoke(arguments, autoescape)  \u001b[38;5;66;03m# type: ignore\u001b[39;00m\n\u001b[0;32m--> 784\u001b[0m rv \u001b[38;5;241m=\u001b[39m \u001b[38;5;28;43mself\u001b[39;49m\u001b[38;5;241;43m.\u001b[39;49m\u001b[43m_func\u001b[49m\u001b[43m(\u001b[49m\u001b[38;5;241;43m*\u001b[39;49m\u001b[43marguments\u001b[49m\u001b[43m)\u001b[49m\n\u001b[1;32m    786\u001b[0m \u001b[38;5;28;01mif\u001b[39;00m autoescape:\n\u001b[1;32m    787\u001b[0m     rv \u001b[38;5;241m=\u001b[39m Markup(rv)\n",
      "File \u001b[0;32m<template>:265\u001b[0m, in \u001b[0;36mmacro\u001b[0;34m(l_1_this, l_1_kwargs)\u001b[0m\n",
      "File \u001b[0;32m~/mambaforge/envs/gsoc/lib/python3.11/site-packages/jinja2/filters.py:1721\u001b[0m, in \u001b[0;36mdo_tojson\u001b[0;34m(eval_ctx, value, indent)\u001b[0m\n\u001b[1;32m   1718\u001b[0m     kwargs \u001b[38;5;241m=\u001b[39m kwargs\u001b[38;5;241m.\u001b[39mcopy()\n\u001b[1;32m   1719\u001b[0m     kwargs[\u001b[38;5;124m\"\u001b[39m\u001b[38;5;124mindent\u001b[39m\u001b[38;5;124m\"\u001b[39m] \u001b[38;5;241m=\u001b[39m indent\n\u001b[0;32m-> 1721\u001b[0m \u001b[38;5;28;01mreturn\u001b[39;00m \u001b[43mhtmlsafe_json_dumps\u001b[49m\u001b[43m(\u001b[49m\u001b[43mvalue\u001b[49m\u001b[43m,\u001b[49m\u001b[43m \u001b[49m\u001b[43mdumps\u001b[49m\u001b[38;5;241;43m=\u001b[39;49m\u001b[43mdumps\u001b[49m\u001b[43m,\u001b[49m\u001b[43m \u001b[49m\u001b[38;5;241;43m*\u001b[39;49m\u001b[38;5;241;43m*\u001b[39;49m\u001b[43mkwargs\u001b[49m\u001b[43m)\u001b[49m\n",
      "File \u001b[0;32m~/mambaforge/envs/gsoc/lib/python3.11/site-packages/jinja2/utils.py:669\u001b[0m, in \u001b[0;36mhtmlsafe_json_dumps\u001b[0;34m(obj, dumps, **kwargs)\u001b[0m\n\u001b[1;32m    665\u001b[0m \u001b[38;5;28;01mif\u001b[39;00m dumps \u001b[38;5;129;01mis\u001b[39;00m \u001b[38;5;28;01mNone\u001b[39;00m:\n\u001b[1;32m    666\u001b[0m     dumps \u001b[38;5;241m=\u001b[39m json\u001b[38;5;241m.\u001b[39mdumps\n\u001b[1;32m    668\u001b[0m \u001b[38;5;28;01mreturn\u001b[39;00m markupsafe\u001b[38;5;241m.\u001b[39mMarkup(\n\u001b[0;32m--> 669\u001b[0m     \u001b[43mdumps\u001b[49m\u001b[43m(\u001b[49m\u001b[43mobj\u001b[49m\u001b[43m,\u001b[49m\u001b[43m \u001b[49m\u001b[38;5;241;43m*\u001b[39;49m\u001b[38;5;241;43m*\u001b[39;49m\u001b[43mkwargs\u001b[49m\u001b[43m)\u001b[49m\n\u001b[1;32m    670\u001b[0m     \u001b[38;5;241m.\u001b[39mreplace(\u001b[38;5;124m\"\u001b[39m\u001b[38;5;124m<\u001b[39m\u001b[38;5;124m\"\u001b[39m, \u001b[38;5;124m\"\u001b[39m\u001b[38;5;130;01m\\\\\u001b[39;00m\u001b[38;5;124mu003c\u001b[39m\u001b[38;5;124m\"\u001b[39m)\n\u001b[1;32m    671\u001b[0m     \u001b[38;5;241m.\u001b[39mreplace(\u001b[38;5;124m\"\u001b[39m\u001b[38;5;124m>\u001b[39m\u001b[38;5;124m\"\u001b[39m, \u001b[38;5;124m\"\u001b[39m\u001b[38;5;130;01m\\\\\u001b[39;00m\u001b[38;5;124mu003e\u001b[39m\u001b[38;5;124m\"\u001b[39m)\n\u001b[1;32m    672\u001b[0m     \u001b[38;5;241m.\u001b[39mreplace(\u001b[38;5;124m\"\u001b[39m\u001b[38;5;124m&\u001b[39m\u001b[38;5;124m\"\u001b[39m, \u001b[38;5;124m\"\u001b[39m\u001b[38;5;130;01m\\\\\u001b[39;00m\u001b[38;5;124mu0026\u001b[39m\u001b[38;5;124m\"\u001b[39m)\n\u001b[1;32m    673\u001b[0m     \u001b[38;5;241m.\u001b[39mreplace(\u001b[38;5;124m\"\u001b[39m\u001b[38;5;124m'\u001b[39m\u001b[38;5;124m\"\u001b[39m, \u001b[38;5;124m\"\u001b[39m\u001b[38;5;130;01m\\\\\u001b[39;00m\u001b[38;5;124mu0027\u001b[39m\u001b[38;5;124m\"\u001b[39m)\n\u001b[1;32m    674\u001b[0m )\n",
      "File \u001b[0;32m~/mambaforge/envs/gsoc/lib/python3.11/json/__init__.py:238\u001b[0m, in \u001b[0;36mdumps\u001b[0;34m(obj, skipkeys, ensure_ascii, check_circular, allow_nan, cls, indent, separators, default, sort_keys, **kw)\u001b[0m\n\u001b[1;32m    232\u001b[0m \u001b[38;5;28;01mif\u001b[39;00m \u001b[38;5;28mcls\u001b[39m \u001b[38;5;129;01mis\u001b[39;00m \u001b[38;5;28;01mNone\u001b[39;00m:\n\u001b[1;32m    233\u001b[0m     \u001b[38;5;28mcls\u001b[39m \u001b[38;5;241m=\u001b[39m JSONEncoder\n\u001b[1;32m    234\u001b[0m \u001b[38;5;28;01mreturn\u001b[39;00m \u001b[38;5;28;43mcls\u001b[39;49m\u001b[43m(\u001b[49m\n\u001b[1;32m    235\u001b[0m \u001b[43m    \u001b[49m\u001b[43mskipkeys\u001b[49m\u001b[38;5;241;43m=\u001b[39;49m\u001b[43mskipkeys\u001b[49m\u001b[43m,\u001b[49m\u001b[43m \u001b[49m\u001b[43mensure_ascii\u001b[49m\u001b[38;5;241;43m=\u001b[39;49m\u001b[43mensure_ascii\u001b[49m\u001b[43m,\u001b[49m\n\u001b[1;32m    236\u001b[0m \u001b[43m    \u001b[49m\u001b[43mcheck_circular\u001b[49m\u001b[38;5;241;43m=\u001b[39;49m\u001b[43mcheck_circular\u001b[49m\u001b[43m,\u001b[49m\u001b[43m \u001b[49m\u001b[43mallow_nan\u001b[49m\u001b[38;5;241;43m=\u001b[39;49m\u001b[43mallow_nan\u001b[49m\u001b[43m,\u001b[49m\u001b[43m \u001b[49m\u001b[43mindent\u001b[49m\u001b[38;5;241;43m=\u001b[39;49m\u001b[43mindent\u001b[49m\u001b[43m,\u001b[49m\n\u001b[1;32m    237\u001b[0m \u001b[43m    \u001b[49m\u001b[43mseparators\u001b[49m\u001b[38;5;241;43m=\u001b[39;49m\u001b[43mseparators\u001b[49m\u001b[43m,\u001b[49m\u001b[43m \u001b[49m\u001b[43mdefault\u001b[49m\u001b[38;5;241;43m=\u001b[39;49m\u001b[43mdefault\u001b[49m\u001b[43m,\u001b[49m\u001b[43m \u001b[49m\u001b[43msort_keys\u001b[49m\u001b[38;5;241;43m=\u001b[39;49m\u001b[43msort_keys\u001b[49m\u001b[43m,\u001b[49m\n\u001b[0;32m--> 238\u001b[0m \u001b[43m    \u001b[49m\u001b[38;5;241;43m*\u001b[39;49m\u001b[38;5;241;43m*\u001b[39;49m\u001b[43mkw\u001b[49m\u001b[43m)\u001b[49m\u001b[38;5;241;43m.\u001b[39;49m\u001b[43mencode\u001b[49m\u001b[43m(\u001b[49m\u001b[43mobj\u001b[49m\u001b[43m)\u001b[49m\n",
      "File \u001b[0;32m~/mambaforge/envs/gsoc/lib/python3.11/json/encoder.py:200\u001b[0m, in \u001b[0;36mJSONEncoder.encode\u001b[0;34m(self, o)\u001b[0m\n\u001b[1;32m    196\u001b[0m         \u001b[38;5;28;01mreturn\u001b[39;00m encode_basestring(o)\n\u001b[1;32m    197\u001b[0m \u001b[38;5;66;03m# This doesn't pass the iterator directly to ''.join() because the\u001b[39;00m\n\u001b[1;32m    198\u001b[0m \u001b[38;5;66;03m# exceptions aren't as detailed.  The list call should be roughly\u001b[39;00m\n\u001b[1;32m    199\u001b[0m \u001b[38;5;66;03m# equivalent to the PySequence_Fast that ''.join() would do.\u001b[39;00m\n\u001b[0;32m--> 200\u001b[0m chunks \u001b[38;5;241m=\u001b[39m \u001b[38;5;28;43mself\u001b[39;49m\u001b[38;5;241;43m.\u001b[39;49m\u001b[43miterencode\u001b[49m\u001b[43m(\u001b[49m\u001b[43mo\u001b[49m\u001b[43m,\u001b[49m\u001b[43m \u001b[49m\u001b[43m_one_shot\u001b[49m\u001b[38;5;241;43m=\u001b[39;49m\u001b[38;5;28;43;01mTrue\u001b[39;49;00m\u001b[43m)\u001b[49m\n\u001b[1;32m    201\u001b[0m \u001b[38;5;28;01mif\u001b[39;00m \u001b[38;5;129;01mnot\u001b[39;00m \u001b[38;5;28misinstance\u001b[39m(chunks, (\u001b[38;5;28mlist\u001b[39m, \u001b[38;5;28mtuple\u001b[39m)):\n\u001b[1;32m    202\u001b[0m     chunks \u001b[38;5;241m=\u001b[39m \u001b[38;5;28mlist\u001b[39m(chunks)\n",
      "File \u001b[0;32m~/mambaforge/envs/gsoc/lib/python3.11/json/encoder.py:258\u001b[0m, in \u001b[0;36mJSONEncoder.iterencode\u001b[0;34m(self, o, _one_shot)\u001b[0m\n\u001b[1;32m    253\u001b[0m \u001b[38;5;28;01melse\u001b[39;00m:\n\u001b[1;32m    254\u001b[0m     _iterencode \u001b[38;5;241m=\u001b[39m _make_iterencode(\n\u001b[1;32m    255\u001b[0m         markers, \u001b[38;5;28mself\u001b[39m\u001b[38;5;241m.\u001b[39mdefault, _encoder, \u001b[38;5;28mself\u001b[39m\u001b[38;5;241m.\u001b[39mindent, floatstr,\n\u001b[1;32m    256\u001b[0m         \u001b[38;5;28mself\u001b[39m\u001b[38;5;241m.\u001b[39mkey_separator, \u001b[38;5;28mself\u001b[39m\u001b[38;5;241m.\u001b[39mitem_separator, \u001b[38;5;28mself\u001b[39m\u001b[38;5;241m.\u001b[39msort_keys,\n\u001b[1;32m    257\u001b[0m         \u001b[38;5;28mself\u001b[39m\u001b[38;5;241m.\u001b[39mskipkeys, _one_shot)\n\u001b[0;32m--> 258\u001b[0m \u001b[38;5;28;01mreturn\u001b[39;00m \u001b[43m_iterencode\u001b[49m\u001b[43m(\u001b[49m\u001b[43mo\u001b[49m\u001b[43m,\u001b[49m\u001b[43m \u001b[49m\u001b[38;5;241;43m0\u001b[39;49m\u001b[43m)\u001b[49m\n",
      "File \u001b[0;32m~/mambaforge/envs/gsoc/lib/python3.11/json/encoder.py:180\u001b[0m, in \u001b[0;36mJSONEncoder.default\u001b[0;34m(self, o)\u001b[0m\n\u001b[1;32m    161\u001b[0m \u001b[38;5;28;01mdef\u001b[39;00m\u001b[38;5;250m \u001b[39m\u001b[38;5;21mdefault\u001b[39m(\u001b[38;5;28mself\u001b[39m, o):\n\u001b[1;32m    162\u001b[0m \u001b[38;5;250m    \u001b[39m\u001b[38;5;124;03m\"\"\"Implement this method in a subclass such that it returns\u001b[39;00m\n\u001b[1;32m    163\u001b[0m \u001b[38;5;124;03m    a serializable object for ``o``, or calls the base implementation\u001b[39;00m\n\u001b[1;32m    164\u001b[0m \u001b[38;5;124;03m    (to raise a ``TypeError``).\u001b[39;00m\n\u001b[0;32m   (...)\u001b[0m\n\u001b[1;32m    178\u001b[0m \n\u001b[1;32m    179\u001b[0m \u001b[38;5;124;03m    \"\"\"\u001b[39;00m\n\u001b[0;32m--> 180\u001b[0m     \u001b[38;5;28;01mraise\u001b[39;00m \u001b[38;5;167;01mTypeError\u001b[39;00m(\u001b[38;5;124mf\u001b[39m\u001b[38;5;124m'\u001b[39m\u001b[38;5;124mObject of type \u001b[39m\u001b[38;5;132;01m{\u001b[39;00mo\u001b[38;5;241m.\u001b[39m\u001b[38;5;18m__class__\u001b[39m\u001b[38;5;241m.\u001b[39m\u001b[38;5;18m__name__\u001b[39m\u001b[38;5;132;01m}\u001b[39;00m\u001b[38;5;124m \u001b[39m\u001b[38;5;124m'\u001b[39m\n\u001b[1;32m    181\u001b[0m                     \u001b[38;5;124mf\u001b[39m\u001b[38;5;124m'\u001b[39m\u001b[38;5;124mis not JSON serializable\u001b[39m\u001b[38;5;124m'\u001b[39m)\n",
      "\u001b[0;31mTypeError\u001b[0m: Object of type Timestamp is not JSON serializable"
     ]
    }
   ],
   "source": [
    "m.write_result(\"./guinness\")"
   ]
  },
  {
   "cell_type": "markdown",
   "id": "d0efee9e-d978-479b-9307-31630f515f75",
   "metadata": {},
   "source": [
    "Something about these columns are not accepting my change from timestamp to str to bypass this JSON conversion error. "
   ]
  },
  {
   "cell_type": "code",
   "execution_count": null,
   "id": "c10ad32d-d9ab-4c2e-8d97-757aeb17dc70",
   "metadata": {},
   "outputs": [],
   "source": [
    "m.routes_, m.stops_ = utils.routes_and_stops(\n",
    "            m.result_.best, m.model, m.clients_, m.depot_location, cost_unit=m.cost_unit\n",
    "    )"
   ]
  },
  {
   "cell_type": "code",
   "execution_count": null,
   "id": "7b449922-1924-4a2b-a3a8-38a1ecddea9a",
   "metadata": {},
   "outputs": [],
   "source": [
    "m.stops_"
   ]
  },
  {
   "cell_type": "code",
   "execution_count": null,
   "id": "7edddb69-cf1d-4ab4-a570-0e8fe5463017",
   "metadata": {},
   "outputs": [],
   "source": [
    "m.explore()"
   ]
  },
  {
   "cell_type": "code",
   "execution_count": null,
   "id": "230867b2-63e0-4475-9608-0e32417873b1",
   "metadata": {},
   "outputs": [],
   "source": [
    "stops_for_map = m.stops_.copy()\n",
    "stops_for_map[\"eta\"] = stops_for_map.eta.astype(str)\n",
    "stops_for_map[\"open_1\"] = stops_for_map.open_1.astype(str)\n",
    "stops_for_map[\"close_1\"] = stops_for_map.close_1.astype(str)"
   ]
  },
  {
   "cell_type": "code",
   "execution_count": null,
   "id": "35e26137-799e-40b1-ae5b-1e9c55c57041",
   "metadata": {},
   "outputs": [],
   "source": [
    "stops_for_map"
   ]
  },
  {
   "cell_type": "code",
   "execution_count": null,
   "id": "e35df264-67f4-4ca0-bcd7-d8b01311f796",
   "metadata": {},
   "outputs": [],
   "source": [
    "m.stops_.select_dtypes(include=[\"datetime64[ns]\"])"
   ]
  },
  {
   "cell_type": "code",
   "execution_count": null,
   "id": "5e3374f9-0e3a-40ea-813d-82541b617582",
   "metadata": {},
   "outputs": [],
   "source": [
    "def explore(self):\n",
    "    \"\"\"\n",
    "    Make a webmap of the solution, colored by the route name. \n",
    "    \"\"\"\n",
    "    if not hasattr(self, \"routes_\"):\n",
    "        raise SpecificationError(\"must have solved the model to show the result\")\n",
    "    m = self.routes_.sort_values(\"route_name\").explore(\n",
    "        \"route_name\", categorical=True, tiles=\"CartoDB positron\"\n",
    "    )\n",
    "    stops_for_map = self.stops_.copy()\n",
    "    cols = [\"eta\", \"open_1\", \"close_1\"]\n",
    "    for col in cols:\n",
    "        stops_for_map[col] = self.stops_[col].astype(str)\n",
    "    stops_for_map.explore(\n",
    "        \"route_name\",\n",
    "        m=m,\n",
    "        legend=False,\n",
    "        style_kwds=dict(color=\"black\", radius=3, weight=1.5),\n",
    "    )\n",
    "    geopandas.GeoDataFrame(\n",
    "        geometry=geopandas.points_from_xy(\n",
    "            x=[self.depot_location[0]], y=[self.depot_location[1]], crs=\"epsg:4326\"\n",
    "        )\n",
    "    ).explore(m=m, color=\"black\", marker_type=\"marker\")\n",
    "    return m"
   ]
  },
  {
   "cell_type": "code",
   "execution_count": null,
   "id": "c8c65f1d-ec31-420a-a383-b14edf3a8f1a",
   "metadata": {},
   "outputs": [],
   "source": [
    "explore(m)"
   ]
  },
  {
   "cell_type": "code",
   "execution_count": null,
   "id": "53c1d939-dc0b-4d26-b2cf-a66cf1829e39",
   "metadata": {},
   "outputs": [],
   "source": [
    "solution = m.result_.best\n",
    "model = m.model\n",
    "target_geoms = m.clients_\n",
    "depot_location = m.depot_location\n",
    "cost_unit=1e-4\n",
    "\n",
    "MIDNIGHT = pandas.to_datetime(\n",
    "    \"2030-01-02 00:00:00\", format='%Y-%m-%d %H:%M:%S'\n",
    ")\n",
    "\n",
    "import geopandas"
   ]
  },
  {
   "cell_type": "code",
   "execution_count": null,
   "id": "004a135b-9a99-4531-8adc-36eef00b7132",
   "metadata": {},
   "outputs": [],
   "source": [
    "def routes_and_stops(\n",
    "    solution, \n",
    "    model, \n",
    "    target_geoms, \n",
    "    depot_location,\n",
    "    cost_unit=1e-4\n",
    "    ):\n",
    "    \"\"\"\n",
    "    Calculate route geometries and stop etas/waypoint numbers from an input\n",
    "    solution.\n",
    "\n",
    "    Arguments\n",
    "    ---------\n",
    "    solution    :   pyvrp.Solution\n",
    "        routing solution from running the pyvrp solver that describes the\n",
    "        best available routes to satisfy the constraints and specifications \n",
    "        recorded in the `model`\n",
    "    model   :   pyvrp.Model\n",
    "        the model reflecting the problem specification that has been solved\n",
    "        and recored in `solution`\n",
    "    target_geoms    :   geopandas.GeoSeries/geopandas.GeoDataFrame\n",
    "        the real-world longitude and latitude that correspond to the clients \n",
    "        recorded in the model. This should *not* include the depot location\n",
    "        which is provided as a separate argument, unless the depot is also \n",
    "        located at a client. \n",
    "    depot_location  :   tuple\n",
    "        the longitude and latitude values that correspond to the location\n",
    "        of the delivery depot\n",
    "    \n",
    "    Returns\n",
    "    -------\n",
    "    two dataframes containing the routes and stops. the routes dataframe \n",
    "    will have one row per route, while the stops dataframe will be the same length \n",
    "    as the target_geoms input\n",
    "    \"\"\"\n",
    "    assert solution.is_feasible(), \"solution is infeasible, routes cannot be used.\"\n",
    "    assert solution.is_complete(), \"solution does not visit all required clients, routes cannot be used.\"\n",
    "    n_routes = solution.num_routes()\n",
    "    route_names = list(randomname.sample(\"adj/\", \"names/surnames/french\",\n",
    "        n=n_routes\n",
    "    ))\n",
    "\n",
    "    problem_data = model.data()\n",
    "\n",
    "    # problem assumes all trucks have the same departure time\n",
    "    # problem assumes that this is in minutes since 00:00:00\n",
    "        \n",
    "    route_lut = dict(zip(route_names, solution.routes()))\n",
    "    stops = [\n",
    "        (route_name, r.visits()) \n",
    "        for route_name, r in route_lut.items()\n",
    "    ]\n",
    "\n",
    "    stops = pandas.DataFrame(\n",
    "        stops\n",
    "    ).rename(\n",
    "        columns={0:\"route_name\", 1:\"stop_idx\"}\n",
    "    ).set_index(\"route_name\")\n",
    "    \n",
    "    # calculate visit time, \n",
    "    # distances and durations are assumed constant over \n",
    "    # vehicle type\n",
    "    duration_matrix, = problem_data.duration_matrices()\n",
    "    distance_matrix, = problem_data.distance_matrices()\n",
    "    # TODO: would it be helpful to have the running capacity? \n",
    "    def timedelta_from_visits(\n",
    "        route, \n",
    "        duration_matrix=duration_matrix, \n",
    "        locations=model.locations\n",
    "    ):  \n",
    "        \"\"\"\n",
    "        This is a private function to estimate the time changes\n",
    "        that evolve over a route using the model specific information,\n",
    "        rather than using the osrm-provided durations on demand. \n",
    "        This is to account for any waiting that occurs at the stops. \n",
    "        \"\"\"\n",
    "        full_visits = [0, *route.visits(), 0]\n",
    "        arrival_minutes = [route.start_time()]\n",
    "        for stop_number, stop_idx in enumerate(full_visits[:-1]):\n",
    "            next_stop_idx = full_visits[stop_number + 1]\n",
    "            travel_duration = duration_matrix[stop_idx, next_stop_idx]\n",
    "            # if service duration is not recorded, we assume\n",
    "            # there is no service time (like, for a waypoint)\n",
    "            service_duration = getattr(\n",
    "                locations[stop_idx], \"service_duration\", 0\n",
    "            )\n",
    "            # once you're at stop_idx, you spend service_duration\n",
    "            # there, and then spend travel_duration to get to the\n",
    "            # next spot. So, the deltas should be \n",
    "            # [0, service_duration[1] + travel_duration[0,1], ...]\n",
    "            # since the depot has service duration 0\n",
    "            arrival_time = arrival_minutes[stop_number] + service_duration + travel_duration\n",
    "            # if you arrive at the target before it's open, then you have to wait\n",
    "            arrival_time = numpy.maximum(\n",
    "                getattr(\n",
    "                    locations[stop_idx],\n",
    "                    \"tw_early\",\n",
    "                    -numpy.inf\n",
    "                ), arrival_time\n",
    "            )\n",
    "            arrival_minutes.append(arrival_time)\n",
    "        tds = pandas.to_timedelta(arrival_minutes, unit='minutes')\n",
    "        return tds\n",
    "    \n",
    "    stops['eta'] = pandas.Series(\n",
    "        {name:timedelta_from_visits(r)[1:-1] + MIDNIGHT\n",
    "        for name,r in route_lut.items()}\n",
    "    )\n",
    "    stops['stop_number'] = stops.stop_idx.apply(lambda x: numpy.arange(len(x))+1)\n",
    "    \n",
    "    big_stops = stops.explode(\n",
    "        [\"stop_idx\", \"stop_number\", \"eta\"]\n",
    "    )\n",
    "    big_stops['target_uid'] = [\n",
    "        model.locations[s].name for s in big_stops.stop_idx\n",
    "    ]\n",
    "    big_stops['stop_number'] = big_stops.groupby(\"route_name\").cumcount().astype(int) + 1\n",
    "\n",
    "    stop_output = target_geoms.copy(deep=True)\n",
    "    stop_output = big_stops.reset_index().merge(\n",
    "        target_geoms, left_on='target_uid', right_index=True,\n",
    "        how='right'\n",
    "        )\n",
    "    stop_output['route_name'] = stop_output.route_name.fillna(\"unassigned\")\n",
    "    stop_output['stop_number'] = stop_output.stop_number.fillna(-1)\n",
    "    stop_output = stop_output.sort_values([\"route_name\",\"stop_number\"])\n",
    "    stop_output = geopandas.GeoDataFrame(\n",
    "        stop_output, \n",
    "        geometry='geometry', \n",
    "        crs=target_geoms.crs\n",
    "    )\n",
    "\n",
    "    route_data = []\n",
    "\n",
    "    for name, group in stop_output.groupby(\"route_name\"):\n",
    "        route_obj = route_lut[name]\n",
    "        group = group.sort_values(\"stop_number\")\n",
    "        coordinates = shapely.get_coordinates(group.geometry)\n",
    "        shape, durations = engine.build_specific_route(\n",
    "            numpy.vstack(\n",
    "                (\n",
    "                depot_location,\n",
    "                coordinates, \n",
    "                depot_location\n",
    "                )\n",
    "            )\n",
    "        )\n",
    "        route_truck_type = route_obj.vehicle_type()\n",
    "        truck_obj = model.vehicle_types[route_truck_type]\n",
    "        deptime, rettime = pandas.to_timedelta([\n",
    "                route_obj.start_time(),\n",
    "                route_obj.end_time()\n",
    "                ], unit=\"minutes\"\n",
    "                ) + MIDNIGHT\n",
    "\n",
    "        route_data.append((\n",
    "            name,\n",
    "            truck_obj.name,\n",
    "            route_obj.duration(),\n",
    "            route_obj.distance(),\n",
    "            route_obj.distance_cost() * cost_unit,\n",
    "            route_obj.duration_cost() * cost_unit,\n",
    "            truck_obj.fixed_cost * cost_unit,\n",
    "            ( route_obj.distance_cost() \n",
    "             + route_obj.duration_cost() \n",
    "             + truck_obj.fixed_cost\n",
    "            ) * cost_unit,\n",
    "            deptime,\n",
    "            rettime,\n",
    "            round(float(route_obj.duration()) / truck_obj.max_duration * 100, 2),\n",
    "            round(float(route_obj.delivery()[0]) / truck_obj.capacity[0] * 100, 2),\n",
    "            round(float(route_obj.distance()) / truck_obj.max_distance * 100, 2),\n",
    "            shape\n",
    "        ))\n",
    "    \n",
    "    route_output = geopandas.GeoDataFrame(\n",
    "        pandas.DataFrame(\n",
    "            route_data,\n",
    "            columns = [\n",
    "                'route_name',\n",
    "                'truck_type',\n",
    "                'duration_min',\n",
    "                'distance_m',\n",
    "                'fuel_cost_€',\n",
    "                'labor_cost_€',\n",
    "                'truck_cost_€',\n",
    "                'total_cost_€',\n",
    "                'departure',\n",
    "                'arrival',\n",
    "                'utilization_time',\n",
    "                'utilization_load',\n",
    "                'utilization_rangelimit',\n",
    "                'geometry'\n",
    "            ]\n",
    "        ),\n",
    "        geometry='geometry', \n",
    "        crs=target_geoms.crs\n",
    "        )\n",
    "  \n",
    "    return route_output, stop_output"
   ]
  },
  {
   "cell_type": "markdown",
   "id": "2550d43c-d332-48b3-9195-102538aac5b5",
   "metadata": {},
   "source": [
    "Issue is happening because route_obj is not properly formatted. route_obj is created by route_lut, which requires the creation of route_names"
   ]
  },
  {
   "cell_type": "code",
   "execution_count": null,
   "id": "da29fdd2-e4f0-4e1a-b6dd-5acab7cf52d4",
   "metadata": {},
   "outputs": [],
   "source": [
    "route_names"
   ]
  },
  {
   "cell_type": "code",
   "execution_count": null,
   "id": "2637626b-b8fa-4f85-8da6-88e064c1fbbd",
   "metadata": {},
   "outputs": [],
   "source": [
    "problem_data = model.data()\n",
    "\n",
    "route_lut = dict(zip(route_names, solution.routes()))\n",
    "stops = [\n",
    "    (route_name, r.visits()) \n",
    "    for route_name, r in route_lut.items()\n",
    "]\n",
    "\n",
    "stops = pandas.DataFrame(\n",
    "    stops\n",
    ").rename(\n",
    "    columns={0:\"route_name\", 1:\"stop_idx\"}\n",
    ").set_index(\"route_name\")\n",
    "\n",
    "duration_matrix, = problem_data.duration_matrices()\n",
    "distance_matrix, = problem_data.distance_matrices()"
   ]
  },
  {
   "cell_type": "code",
   "execution_count": null,
   "id": "d0b32f57-72fb-469a-a238-532eb9100bbf",
   "metadata": {},
   "outputs": [],
   "source": [
    "def timedelta_from_visits(\n",
    "    route, \n",
    "    duration_matrix=duration_matrix, \n",
    "    locations=model.locations\n",
    "):  \n",
    "    \"\"\"\n",
    "    This is a private function to estimate the time changes\n",
    "    that evolve over a route using the model specific information,\n",
    "    rather than using the osrm-provided durations on demand. \n",
    "    This is to account for any waiting that occurs at the stops. \n",
    "    \"\"\"\n",
    "    full_visits = [0, *route.visits(), 0]\n",
    "    arrival_minutes = [route.start_time()]\n",
    "    for stop_number, stop_idx in enumerate(full_visits[:-1]):\n",
    "        next_stop_idx = full_visits[stop_number + 1]\n",
    "        travel_duration = duration_matrix[stop_idx, next_stop_idx]\n",
    "        # if service duration is not recorded, we assume\n",
    "        # there is no service time (like, for a waypoint)\n",
    "        service_duration = getattr(\n",
    "            locations[stop_idx], \"service_duration\", 0\n",
    "        )\n",
    "        # once you're at stop_idx, you spend service_duration\n",
    "        # there, and then spend travel_duration to get to the\n",
    "        # next spot. So, the deltas should be \n",
    "        # [0, service_duration[1] + travel_duration[0,1], ...]\n",
    "        # since the depot has service duration 0\n",
    "        arrival_time = arrival_minutes[stop_number] + service_duration + travel_duration\n",
    "        # if you arrive at the target before it's open, then you have to wait\n",
    "        arrival_time = numpy.maximum(\n",
    "            getattr(\n",
    "                locations[stop_idx],\n",
    "                \"tw_early\",\n",
    "                -numpy.inf\n",
    "            ), arrival_time\n",
    "        )\n",
    "        arrival_minutes.append(arrival_time)\n",
    "    tds = pandas.to_timedelta(arrival_minutes, unit='minutes')\n",
    "    return tds\n",
    "\n",
    "stops['eta'] = pandas.Series(\n",
    "    {name:timedelta_from_visits(r)[1:-1] + MIDNIGHT\n",
    "    for name,r in route_lut.items()}\n",
    ")\n",
    "stops['stop_number'] = stops.stop_idx.apply(lambda x: numpy.arange(len(x))+1)\n",
    "\n",
    "big_stops = stops.explode(\n",
    "    [\"stop_idx\", \"stop_number\", \"eta\"]\n",
    ")\n",
    "big_stops['target_uid'] = [\n",
    "    model.locations[s].name for s in big_stops.stop_idx\n",
    "]\n",
    "big_stops['stop_number'] = big_stops.groupby(\"route_name\").cumcount().astype(int) + 1\n",
    "\n",
    "stop_output = target_geoms.copy(deep=True)\n",
    "stop_output = big_stops.reset_index().merge(\n",
    "    target_geoms, left_on='target_uid', right_index=True,\n",
    "    how='right'\n",
    "    )\n",
    "stop_output['route_name'] = stop_output.route_name.fillna(\"unassigned\")\n",
    "stop_output['stop_number'] = stop_output.stop_number.fillna(-1)\n",
    "stop_output = stop_output.sort_values([\"route_name\",\"stop_number\"])\n",
    "stop_output = geopandas.GeoDataFrame(\n",
    "    stop_output, \n",
    "    geometry='geometry', \n",
    "    crs=target_geoms.crs\n",
    ")"
   ]
  },
  {
   "cell_type": "code",
   "execution_count": null,
   "id": "68b8787a-a90e-4f42-ad7d-6d6e7574792f",
   "metadata": {},
   "outputs": [],
   "source": [
    "route_lut"
   ]
  },
  {
   "cell_type": "code",
   "execution_count": null,
   "id": "a27d1671-2265-46f6-9297-694a749d3cb3",
   "metadata": {},
   "outputs": [],
   "source": [
    "for name, group in stop_output.groupby(\"route_name\"):\n",
    "    route_obj = route_lut[name]"
   ]
  },
  {
   "cell_type": "code",
   "execution_count": null,
   "id": "be74c73d-e11f-4d6d-b7be-00bbb5b49514",
   "metadata": {},
   "outputs": [],
   "source": [
    "round(float(route_obj.delivery()[0]))"
   ]
  },
  {
   "cell_type": "code",
   "execution_count": null,
   "id": "9e2b8265-5701-4331-b62b-5e10f8f7ee00",
   "metadata": {},
   "outputs": [],
   "source": [
    "route_truck_type = route_obj.vehicle_type()\n",
    "truck_obj = model.vehicle_types[route_truck_type]"
   ]
  },
  {
   "cell_type": "code",
   "execution_count": null,
   "id": "08b476a2-2ebf-48ca-ae1f-2601477a1ca8",
   "metadata": {},
   "outputs": [],
   "source": [
    "routes_and_stops(solution, \n",
    "    model, \n",
    "    target_geoms, \n",
    "    depot_location,\n",
    "    cost_unit)"
   ]
  },
  {
   "cell_type": "code",
   "execution_count": null,
   "id": "1b10d541-1440-496b-8e1e-c12b32515f99",
   "metadata": {},
   "outputs": [],
   "source": [
    "truck_obj"
   ]
  },
  {
   "cell_type": "code",
   "execution_count": null,
   "id": "a952c763-c99d-404c-98d8-9103db671766",
   "metadata": {},
   "outputs": [],
   "source": [
    "route_obj"
   ]
  },
  {
   "cell_type": "code",
   "execution_count": null,
   "id": "44a1b365-6fe6-4f4c-9218-bac570963ad4",
   "metadata": {},
   "outputs": [],
   "source": [
    "print(\"Duration:\", route_obj.duration(), type(route_obj.duration()))\n",
    "print(\"Delivery:\", route_obj.delivery(), type(route_obj.delivery()))\n",
    "print(\"Distance:\", route_obj.distance(), type(route_obj.distance()))"
   ]
  },
  {
   "cell_type": "code",
   "execution_count": null,
   "id": "375e5377-8eae-46d7-995b-3634c081258e",
   "metadata": {},
   "outputs": [],
   "source": [
    "print(\"duration:\", truck_obj.max_duration, type(truck_obj.max_duration))\n",
    "print(\"capacity:\", truck_obj.capacity, type(truck_obj.capacity))\n",
    "print(\"distance:\", truck_obj.max_distance, type(truck_obj.max_distance))"
   ]
  },
  {
   "cell_type": "code",
   "execution_count": null,
   "id": "9ccd761c-e4ba-4481-8780-2aedc884e9a9",
   "metadata": {},
   "outputs": [],
   "source": []
  },
  {
   "cell_type": "code",
   "execution_count": null,
   "id": "2fa42b35-15b9-454f-87e8-cd7c5fb23b0d",
   "metadata": {},
   "outputs": [],
   "source": []
  },
  {
   "cell_type": "code",
   "execution_count": null,
   "id": "3395ad3a-677c-44cd-b9a5-e5adb68bf032",
   "metadata": {},
   "outputs": [],
   "source": []
  },
  {
   "cell_type": "code",
   "execution_count": null,
   "id": "81640879-bf2f-4c64-9f77-86c743a2909e",
   "metadata": {
    "scrolled": true
   },
   "outputs": [],
   "source": [
    "def build_route_table(demand_sites, candidate_depots, cost='distance', http=not has_bindings, database_path=_OSRM_DATABASE_FILE, port=5000):\n",
    "    \"\"\"\n",
    "    Build a route table using OSRM, either over http or over py-osrm bindings\n",
    "    \"\"\"\n",
    "    if isinstance(demand_sites, (geopandas.GeoSeries, geopandas.GeoDataFrame)):\n",
    "        demand_sites = demand_sites.geometry.get_coordinates().values\n",
    "    if isinstance(candidate_depots, (geopandas.GeoSeries, geopandas.GeoDataFrame)):\n",
    "        candidate_depots = candidate_depots.geometry.get_coordinates().values\n",
    "    if cost not in (\"distance\", \"duration\", \"both\"):\n",
    "        raise ValueError(f\"cost option '{cost}' not one of the supported options, ('distance', 'duration', 'both')\")\n",
    "    if http:\n",
    "        try: \n",
    "            distances, durations = _build_route_table_http(demand_sites, candidate_depots, cost=cost, port=port)\n",
    "        except (requests.ConnectionError, requests.JSONDecodeError):\n",
    "            warnings.warn(\n",
    "                \"Failed to connect to routing engine... using haversine distance\"\n",
    "                \" and (d/500)**.75 for durations\"\n",
    "            )\n",
    "            distances = metrics.pairwise_distances(\n",
    "                    numpy.fliplr(numpy.deg2rad(demand_sites)), \n",
    "                    numpy.fliplr(numpy.deg2rad(candidate_depots)),\n",
    "                    metric=\"haversine\"\n",
    "                ) * 6371000\n",
    "            durations = anumpy.ceil((distances / 10) ** .75)\n",
    "    else:\n",
    "        distances, durations = _build_route_table_pyosrm(\n",
    "            demand_sites, candidate_depots, database_path=database_path \n",
    "        )\n",
    "    for D in (distances, durations):\n",
    "        if D is None:\n",
    "            continue\n",
    "        n_row, n_col = D.shape\n",
    "        assert n_row == len(candidate_depots)\n",
    "        assert n_col == len(demand_sites)\n",
    "        no_route_available = numpy.isnan(D)\n",
    "        D[no_route_available] = D[~no_route_available].sum()\n",
    "    if cost == 'distance':\n",
    "        return distances\n",
    "    elif cost == 'duration':\n",
    "        return durations\n",
    "    elif cost == 'both':\n",
    "        return distances, durations"
   ]
  },
  {
   "cell_type": "code",
   "execution_count": null,
   "id": "5a72be11-52ac-4569-afc0-b56d0979a445",
   "metadata": {},
   "outputs": [],
   "source": []
  },
  {
   "cell_type": "code",
   "execution_count": null,
   "id": "498e9408-4b5e-4a0e-a58b-6fe483ddb519",
   "metadata": {},
   "outputs": [],
   "source": [
    "def _setup_graph(self, all_lonlats):\n",
    "        \"\"\"\n",
    "        This sets up the graph pertaining to an inputted set of longitude and latitude coordinates. \n",
    "\n",
    "        Note that this assumes that there is a single vehicle profile.\n",
    "\n",
    "        TODO: For multiple vehicle profiles, we would need to identify \n",
    "        the restricted and the base profiles, then update the model\n",
    "        with an edge for each profile. \n",
    "        \"\"\"\n",
    "        raw_distances, raw_durations = engine.build_route_table(\n",
    "            all_lonlats, all_lonlats, cost=\"both\"\n",
    "        )\n",
    "        # how many minutes does it take to get from place to place?\n",
    "        durations_by_block = numpy.ceil(raw_durations / 60)\n",
    "        ##### WARNING!!!!!!! THIS IS A BUG IN OSRM #5855\n",
    "        durations = numpy.clip(durations_by_block, 0, durations_by_block.max())\n",
    "        distances = numpy.clip(raw_distances, 0, raw_distances.max()).round(0)\n",
    "\n",
    "        duration_df = pandas.DataFrame(\n",
    "            durations,\n",
    "            index=[self.depot_name] + self.clients_.index.tolist(),\n",
    "            columns=[self.depot_name] + self.clients_.index.tolist(),\n",
    "        )\n",
    "        distance_df = pandas.DataFrame(\n",
    "            distances,\n",
    "            index=[self.depot_name] + self.clients_.index.tolist(),\n",
    "            columns=[self.depot_name] + self.clients_.index.tolist(),\n",
    "        )\n",
    "        for source_ix, source in enumerate(self.model.locations):\n",
    "            for sink_ix, sink in enumerate(self.model.locations):\n",
    "                self.model.add_edge(\n",
    "                    source,\n",
    "                    sink,\n",
    "                    distance=distance_df.loc[source.name, sink.name].item(),\n",
    "                    duration=duration_df.loc[\n",
    "                        source.name, sink.name\n",
    "                    ].item(),  # TODO: nogo zones\n",
    "                )\n"
   ]
  },
  {
   "cell_type": "code",
   "execution_count": null,
   "id": "b88d79f0-51fa-44d8-8546-20b7e047d4cf",
   "metadata": {},
   "outputs": [],
   "source": [
    " def solve(self, stop=pyvrp.stop.NoImprovement(1e6), *args, **kwargs):\n",
    "        \"\"\"\n",
    "        Solve a LastMile() instance according to the existing specification. \n",
    "\n",
    "        Parameters\n",
    "        ----------\n",
    "        stop    :   pyvrp.stop.StoppingCriterion\n",
    "            A stopping rule that governs when the simulation will be ended. \n",
    "            Set to terminate solving after one million iterations with no improvement.\n",
    "\n",
    "\n",
    "        Returns\n",
    "        -------\n",
    "        This LastMile() object, having added the results object to self.result_, as well\n",
    "        as the routes and stops found to routes_ and stops_, respectively\n",
    "\n",
    "        Notes\n",
    "        -----\n",
    "        other arguments and keyword arguments are passed directly to the pyvrp.Model.solve() method\n",
    "        \"\"\"\n",
    "        if (not hasattr(self, \"clients_\")) | (not hasattr(self, \"trucks_\")):\n",
    "            raise SpecificationError(\n",
    "                \"must assign both clients and trucks to\" \" solve a problem instance.\"\n",
    "            )\n",
    "        all_lonlats = numpy.row_stack(\n",
    "            (self.depot_location, shapely.get_coordinates(self.clients_.geometry))\n",
    "        )\n",
    "        self._setup_graph(all_lonlats=all_lonlats)\n",
    "        self.result_ = self.model.solve(stop=stop, *args, **kwargs)\n",
    "        self.routes_, self.stops_ = utils.routes_and_stops(\n",
    "            self.result_.best, self.model, self.clients_, self.depot_location, cost_unit=self.cost_unit\n",
    "        )\n",
    "        return self\n"
   ]
  },
  {
   "cell_type": "markdown",
   "id": "183ace0c-aab0-4b2c-ae4e-5b3e11be3c18",
   "metadata": {},
   "source": [
    "#### From engine.py"
   ]
  },
  {
   "cell_type": "code",
   "execution_count": null,
   "id": "1fc2b6a1-b3db-4ec4-b81a-a0f2d45c18fe",
   "metadata": {},
   "outputs": [],
   "source": []
  }
 ],
 "metadata": {
  "kernelspec": {
   "display_name": "Python 3 (ipykernel)",
   "language": "python",
   "name": "python3"
  },
  "language_info": {
   "codemirror_mode": {
    "name": "ipython",
    "version": 3
   },
   "file_extension": ".py",
   "mimetype": "text/x-python",
   "name": "python",
   "nbconvert_exporter": "python",
   "pygments_lexer": "ipython3",
   "version": "3.11.6"
  }
 },
 "nbformat": 4,
 "nbformat_minor": 5
}
