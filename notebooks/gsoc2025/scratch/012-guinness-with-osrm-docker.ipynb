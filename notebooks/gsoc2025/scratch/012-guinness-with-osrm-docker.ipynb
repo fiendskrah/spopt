{
 "cells": [
  {
   "cell_type": "markdown",
   "id": "f8ec5749-b4bd-4d44-82e3-3a96bda20d0c",
   "metadata": {},
   "source": [
    "# Reproduce Guinness example With OSRM docker image"
   ]
  },
  {
   "cell_type": "markdown",
   "id": "31aa6464-5f60-43cc-bfdc-3c06c42fe4fb",
   "metadata": {},
   "source": [
    "To utilize the OSRM routing engine, you should take a moment to set up the OSRM docker image on your machine. While this can be a little tedious to set up, this allows the `route` module to quickly identify shortest routes between points of interest and solve VRP problems."
   ]
  },
  {
   "cell_type": "markdown",
   "id": "24b30e86-812a-41a7-b34b-71bf369002c4",
   "metadata": {},
   "source": [
    "The first step to do this is to obtain the 'raw' data for the area in which you are operating. This takes the form of `.pbf` files, which can be obtained from the [geofabrik](https://download.geofabrik.de/_) portal. In our case, we obtain the [Ireland and Northern Ireland](https://download.geofabrik.de/europe/ireland-and-northern-ireland.html) `.pbf` file."
   ]
  },
  {
   "cell_type": "markdown",
   "id": "dec2703c-fb4e-4d0e-b19f-28d9d08d4051",
   "metadata": {},
   "source": [
    "Once downloaded, the `.pbf` needs to be processed using a series of extraction, partitioning, and customization commands. This is easiest to do as a shell script. The version of this script for this example can be found in `PATH/osrm.sh`, it looks like this:"
   ]
  },
  {
   "cell_type": "raw",
   "id": "c59cf306-5474-4d12-9306-27f2ca5e3a7c",
   "metadata": {},
   "source": [
    "docker run -t -v \"${PWD}:/data\" ghcr.io/project-osrm/osrm-backend osrm-extract -p /opt/car.lua /data/ireland-and-northern-ireland-latest.osm.pbf || echo \"osrm build failed\"\n",
    "docker run -t -v \"${PWD}:/data\" ghcr.io/project-osrm/osrm-backend osrm-partition /data/ireland-and-northern-ireland-latest.osrm || echo \"osrm-partition failed\"\n",
    "docker run -t -v \"${PWD}:/data\" ghcr.io/project-osrm/osrm-backend osrm-customize /data/ireland-and-northern-ireland-latest.osrm || echo \"osrm-customize failed\"\n",
    "echo \"osrm server can now be started\""
   ]
  },
  {
   "cell_type": "markdown",
   "id": "f25a7060-e4ac-4cba-8461-6c0edd795cd9",
   "metadata": {},
   "source": [
    "This script will create several additional files from the `.pbf` that you downloaded, which are required for identifying shortest routes and solving the VRP using real street network data."
   ]
  },
  {
   "cell_type": "markdown",
   "id": "12815db1-4eef-4722-a43b-a8c9fbb99fd3",
   "metadata": {},
   "source": [
    "Finally, the OSRM backend docker container should obtained and activated. While you do have the option to compile OSRM locally in C++, the docker container is a much simpler way to access the service. Find the latest release of the OSRM docker container at the [osrm-backend github repository](https://github.com/Project-OSRM/osrm-backend).\n",
    "\n",
    "This container should be 'spun up' as a service, meaning it holds a port on your machine available to hear requests and send those requests to the OSRM servers to obtain routes, distances, and durations. The `spopt.route` module will then take those data and solve the defined VRP. Once you have the docker image in your directory, start the service by running the following command in your terminal: "
   ]
  },
  {
   "cell_type": "markdown",
   "id": "1f842d0d-7fd5-45d1-86c9-2e10667bd04b",
   "metadata": {},
   "source": [
    "`docker run -t -i -p 5000:5000 -v \"${PWD}:/data\" ghcr.io/project-osrm/osrm-backend osrm-routed --algorithm mld --max-table-size 9999999 /data/ireland-and-northern-ireland-latest.osrm`"
   ]
  },
  {
   "cell_type": "markdown",
   "id": "e136a6cb-13fd-4604-998d-23448b79b995",
   "metadata": {},
   "source": [
    "Let's breakdown this command. This part:\n",
    "\n",
    "`docker run -t -i -p 5000:5000 -v \"${PWD}:/data\" ghcr.io/project-osrm/osrm-backend osrm-routed`\n",
    "\n",
    "says we're connecting to the docker service on the 5000 port. We're porting into the data directory of the backend and starting the osrm-routed service. \n",
    "\n",
    "This part:\n",
    " \n",
    "`--algorithm mld --max-table-size 9999999 /data/ireland-and-northern-ireland-latest.osrm`\n",
    "\n",
    "says that we're going to use the MLD (Multi-Level Dijkstra) algorithm to identify the most optimal routes in our problem. the `--max-table-size 99999999` argument indicates we are increasing the rate limitations for problem size, which is quite low by default. Finally, `data/ireland-and-northern-ireland-latest.osrm` is where our processed data file is, which tells OSRM where we're trying to operate. "
   ]
  },
  {
   "cell_type": "markdown",
   "id": "d8528667-9b41-4343-a81c-b170a5823649",
   "metadata": {},
   "source": [
    "After running this final command, the service is activated and listening for requests in your terminal. "
   ]
  },
  {
   "cell_type": "code",
   "execution_count": 1,
   "id": "ffd4aaa5-b5db-49a3-9be4-c359141b4842",
   "metadata": {},
   "outputs": [],
   "source": [
    "import geopandas as gpd\n",
    "import pandas, numpy, pyvrp, sys"
   ]
  },
  {
   "cell_type": "code",
   "execution_count": 2,
   "id": "4f40009e-a261-4ec6-afea-ce0e45e399a1",
   "metadata": {},
   "outputs": [],
   "source": [
    "sys.path.insert(0, '/home/dylan/projects/gsoc2025/spopt/') # not the published spopt"
   ]
  },
  {
   "cell_type": "code",
   "execution_count": 3,
   "id": "7153238c-6651-4e3b-897b-43d6b2703687",
   "metadata": {},
   "outputs": [
    {
     "name": "stdout",
     "output_type": "stream",
     "text": [
      "/home/dylan/projects/gsoc2025/spopt/spopt/__init__.py\n"
     ]
    }
   ],
   "source": [
    "import spopt\n",
    "print(spopt.__file__)"
   ]
  },
  {
   "cell_type": "code",
   "execution_count": 4,
   "id": "7692dbc6-9c14-4c7e-8129-be96b4dc2579",
   "metadata": {},
   "outputs": [],
   "source": [
    "from spopt.route import engine, heuristic, utils"
   ]
  },
  {
   "cell_type": "code",
   "execution_count": 5,
   "id": "32fce62a-b642-4749-9c84-7846ce08140f",
   "metadata": {},
   "outputs": [],
   "source": [
    "from spopt.route.heuristic import LastMile\n",
    "from pyvrp import stop"
   ]
  },
  {
   "cell_type": "markdown",
   "id": "cd107187-edda-4c2d-af47-5f68802d3002",
   "metadata": {},
   "source": [
    "## Reproduce the guinness example"
   ]
  },
  {
   "cell_type": "code",
   "execution_count": 6,
   "id": "c5c9c91a-531e-40c2-ab4a-69ac992f17d8",
   "metadata": {},
   "outputs": [],
   "source": [
    "trucks = pandas.DataFrame(\n",
    "    [['big', 'lng',      2000,    280, .004,  .50, 5],\n",
    "     ['big', 'electric', 2000,    480, .002,  .50, 5],\n",
    "     ['med', 'lng',      800, 280*.66, .0001, .63, 10],\n",
    "     ['med', 'electric', 800, 480*.66, .004,  .50, 10],\n",
    "     ['smo', 'lng',      400, 280*0.4, .002,  .50, 20],\n",
    "     ['smo', 'electric', 400, 480*0.4, .0001, .63, 20],\n",
    "     ],\n",
    "     columns = [\n",
    "         'namesize', 'namefuel', 'capacity', \n",
    "         'fixed_cost', 'cost_per_meter', 'cost_per_minute', 'n_truck'\n",
    "         ]\n",
    ")"
   ]
  },
  {
   "cell_type": "markdown",
   "id": "fc7c65b9-4156-47d3-9316-6e3cb9072b70",
   "metadata": {},
   "source": [
    "In the code snippet above, we define a DataFrame quantifying the available fleet of trucks. Each row represents a different truck type, identified by size (`namesize`) and fuel type (`namefuel`). The `capacity` column indicates how much the truck can carry. `fixed_cost` is the base cost of using the truck, regardless of how far it travels. `cost_per_meter` and `cost_per_minute` represent variable costs that depend on distance and travel time. The `n_truck` column tells us how many of each truck type are available. "
   ]
  },
  {
   "cell_type": "markdown",
   "id": "07dd2029-b597-4111-9341-8363ed309a1b",
   "metadata": {},
   "source": [
    "Now we need to obtain the file for the depot and clients for this problem.\n",
    "\n",
    "(make available as a function? e.g. route.example()?)"
   ]
  },
  {
   "cell_type": "code",
   "execution_count": 7,
   "id": "c6c2dc1f-ba3f-4f4b-8b19-c487c9e6bb21",
   "metadata": {},
   "outputs": [],
   "source": [
    "dublin_pubs = gpd.read_file('/home/dylan/projects/gsoc2025/spopt/notebooks/gsoc2025/data/dublinpubs.geojson')"
   ]
  },
  {
   "cell_type": "code",
   "execution_count": 8,
   "id": "95a0eda5-6c6f-478e-9f8f-aacb67b3ecf1",
   "metadata": {},
   "outputs": [
    {
     "data": {
      "text/plain": [
       "(551, 8)"
      ]
     },
     "execution_count": 8,
     "metadata": {},
     "output_type": "execute_result"
    }
   ],
   "source": [
    "dublin_pubs.shape"
   ]
  },
  {
   "cell_type": "markdown",
   "id": "8fead71e-3767-488b-b810-66858af1b496",
   "metadata": {},
   "source": [
    "These are the clients and vehicle depot for our Vehicle Routing Problem. The file contains pubs all across Dublin, stored in a GeoJSON file and read into a GeoDataFrame using GeoPandas. Each row in this table represents a location, either a pub (client) or the Guinness Storehouse (the depot), with associated geographic coordinates and attributes relevant to the routing problem."
   ]
  },
  {
   "cell_type": "code",
   "execution_count": 9,
   "id": "290adc58-7fa8-4348-8526-c849bb3fdbc7",
   "metadata": {},
   "outputs": [],
   "source": [
    "gdf = dublin_pubs"
   ]
  },
  {
   "cell_type": "code",
   "execution_count": 10,
   "id": "76f00660-473a-4ecd-a63d-dd53773635fd",
   "metadata": {},
   "outputs": [],
   "source": [
    "clients = gdf.iloc[1:,:].reset_index(drop=True)\n",
    "clients = clients.set_index(clients.osmid.astype(str))"
   ]
  },
  {
   "cell_type": "code",
   "execution_count": 11,
   "id": "5174df2e-c3a1-44b1-aabd-a01adad6366c",
   "metadata": {},
   "outputs": [
    {
     "data": {
      "text/html": [
       "<div>\n",
       "<style scoped>\n",
       "    .dataframe tbody tr th:only-of-type {\n",
       "        vertical-align: middle;\n",
       "    }\n",
       "\n",
       "    .dataframe tbody tr th {\n",
       "        vertical-align: top;\n",
       "    }\n",
       "\n",
       "    .dataframe thead th {\n",
       "        text-align: right;\n",
       "    }\n",
       "</style>\n",
       "<table border=\"1\" class=\"dataframe\">\n",
       "  <thead>\n",
       "    <tr style=\"text-align: right;\">\n",
       "      <th></th>\n",
       "      <th>osmid</th>\n",
       "      <th>name</th>\n",
       "      <th>longitude</th>\n",
       "      <th>latitude</th>\n",
       "      <th>factype</th>\n",
       "      <th>demand</th>\n",
       "      <th>supply</th>\n",
       "      <th>geometry</th>\n",
       "    </tr>\n",
       "    <tr>\n",
       "      <th>osmid</th>\n",
       "      <th></th>\n",
       "      <th></th>\n",
       "      <th></th>\n",
       "      <th></th>\n",
       "      <th></th>\n",
       "      <th></th>\n",
       "      <th></th>\n",
       "      <th></th>\n",
       "    </tr>\n",
       "  </thead>\n",
       "  <tbody>\n",
       "    <tr>\n",
       "      <th>133193958</th>\n",
       "      <td>133193958</td>\n",
       "      <td>The Barge Bar</td>\n",
       "      <td>-6.260588</td>\n",
       "      <td>53.330551</td>\n",
       "      <td>client</td>\n",
       "      <td>23.0</td>\n",
       "      <td>21.0</td>\n",
       "      <td>POINT (-6.26059 53.33055)</td>\n",
       "    </tr>\n",
       "    <tr>\n",
       "      <th>249426205</th>\n",
       "      <td>249426205</td>\n",
       "      <td>Marino House (Kavanagh's)</td>\n",
       "      <td>-6.228816</td>\n",
       "      <td>53.365756</td>\n",
       "      <td>client</td>\n",
       "      <td>16.0</td>\n",
       "      <td>12.0</td>\n",
       "      <td>POINT (-6.22882 53.36576)</td>\n",
       "    </tr>\n",
       "    <tr>\n",
       "      <th>279464425</th>\n",
       "      <td>279464425</td>\n",
       "      <td>The Lower Deck</td>\n",
       "      <td>-6.265238</td>\n",
       "      <td>53.330686</td>\n",
       "      <td>client</td>\n",
       "      <td>28.0</td>\n",
       "      <td>5.0</td>\n",
       "      <td>POINT (-6.26524 53.33069)</td>\n",
       "    </tr>\n",
       "    <tr>\n",
       "      <th>279915988</th>\n",
       "      <td>279915988</td>\n",
       "      <td>Arlington Bar &amp; Restaurant</td>\n",
       "      <td>-6.260933</td>\n",
       "      <td>53.347252</td>\n",
       "      <td>client</td>\n",
       "      <td>16.0</td>\n",
       "      <td>11.0</td>\n",
       "      <td>POINT (-6.26093 53.34725)</td>\n",
       "    </tr>\n",
       "    <tr>\n",
       "      <th>280123269</th>\n",
       "      <td>280123269</td>\n",
       "      <td>Bar@Tolka</td>\n",
       "      <td>-6.251268</td>\n",
       "      <td>53.367676</td>\n",
       "      <td>client</td>\n",
       "      <td>26.0</td>\n",
       "      <td>16.0</td>\n",
       "      <td>POINT (-6.25127 53.36768)</td>\n",
       "    </tr>\n",
       "  </tbody>\n",
       "</table>\n",
       "</div>"
      ],
      "text/plain": [
       "               osmid                        name  longitude   latitude  \\\n",
       "osmid                                                                    \n",
       "133193958  133193958               The Barge Bar  -6.260588  53.330551   \n",
       "249426205  249426205   Marino House (Kavanagh's)  -6.228816  53.365756   \n",
       "279464425  279464425              The Lower Deck  -6.265238  53.330686   \n",
       "279915988  279915988  Arlington Bar & Restaurant  -6.260933  53.347252   \n",
       "280123269  280123269                   Bar@Tolka  -6.251268  53.367676   \n",
       "\n",
       "          factype  demand  supply                   geometry  \n",
       "osmid                                                         \n",
       "133193958  client    23.0    21.0  POINT (-6.26059 53.33055)  \n",
       "249426205  client    16.0    12.0  POINT (-6.22882 53.36576)  \n",
       "279464425  client    28.0     5.0  POINT (-6.26524 53.33069)  \n",
       "279915988  client    16.0    11.0  POINT (-6.26093 53.34725)  \n",
       "280123269  client    26.0    16.0  POINT (-6.25127 53.36768)  "
      ]
     },
     "execution_count": 11,
     "metadata": {},
     "output_type": "execute_result"
    }
   ],
   "source": [
    "clients.head()"
   ]
  },
  {
   "cell_type": "markdown",
   "id": "910aab60-2078-4604-b937-752a75f82eb1",
   "metadata": {},
   "source": [
    "Clients have associated `demand` and `supply` values, which represent how many kegs needs to be delivered to or picked up from that site. The `geometry` column stores the location as a geographic point. "
   ]
  },
  {
   "cell_type": "code",
   "execution_count": 12,
   "id": "067ecdf3-a2b2-43b5-9392-d2df43b071fc",
   "metadata": {},
   "outputs": [],
   "source": [
    "depot = gdf.iloc[0,:]"
   ]
  },
  {
   "cell_type": "markdown",
   "id": "59b1f506-08af-44e4-96f5-7b699daae353",
   "metadata": {},
   "source": [
    "We extract the first row as the depot, which serves as the start and end point for all vehicle routes. The remaining rows are identified as clients and indexed by their unique IDs from Openstreetmap."
   ]
  },
  {
   "cell_type": "code",
   "execution_count": 13,
   "id": "492f44fd-62c0-440f-8bd5-631b9801fb0e",
   "metadata": {
    "scrolled": true
   },
   "outputs": [
    {
     "name": "stdout",
     "output_type": "stream",
     "text": [
      "initializing model\n",
      "adding clients\n",
      "adding trucks\n"
     ]
    },
    {
     "data": {
      "text/plain": [
       "<spopt.route.heuristic.LastMile at 0x7f32ca2f02c0>"
      ]
     },
     "execution_count": 13,
     "metadata": {},
     "output_type": "execute_result"
    }
   ],
   "source": [
    "print('initializing model')\n",
    "m = LastMile(\n",
    "    depot_location=(depot.longitude.item(), depot.latitude.item()),\n",
    "    depot_open=pandas.Timestamp(\"2030-01-02 07:00:00\"),\n",
    "    depot_close=pandas.Timestamp(\"2030-01-02 20:00:00\"),\n",
    "    depot_name=depot['name'],\n",
    ")\n",
    "print(\"adding clients\")\n",
    "\n",
    "m.add_clients(\n",
    "    locations = clients.geometry, \n",
    "    delivery = clients.demand,\n",
    "    pickup = clients.supply,\n",
    "    time_windows=None,\n",
    "    service_times=(numpy.log(clients.demand)**2).astype(int)\n",
    ")\n",
    "print(\"adding trucks\")\n",
    "m.add_trucks_from_frame(\n",
    "    trucks, \n",
    ")"
   ]
  },
  {
   "cell_type": "code",
   "execution_count": 14,
   "id": "cafb1ec1-5679-412b-af3b-32bf6d4c7428",
   "metadata": {},
   "outputs": [
    {
     "data": {
      "text/plain": [
       "(-6.28688, 53.341972)"
      ]
     },
     "execution_count": 14,
     "metadata": {},
     "output_type": "execute_result"
    }
   ],
   "source": [
    "m.depot_location"
   ]
  },
  {
   "cell_type": "code",
   "execution_count": 15,
   "id": "1c36fbd9-8225-400c-ade5-85e0b4f27599",
   "metadata": {},
   "outputs": [],
   "source": [
    "from routingpy import OSRM"
   ]
  },
  {
   "cell_type": "code",
   "execution_count": 16,
   "id": "9058f8b3-436a-4e6a-a1a6-c0fae67cafbc",
   "metadata": {},
   "outputs": [
    {
     "data": {
      "text/plain": [
       "routingpy.routers.osrm.OSRM"
      ]
     },
     "execution_count": 16,
     "metadata": {},
     "output_type": "execute_result"
    }
   ],
   "source": [
    "OSRM"
   ]
  },
  {
   "cell_type": "code",
   "execution_count": 17,
   "id": "55e5bb50-75b7-4d4b-bd41-80ed8d2141b5",
   "metadata": {},
   "outputs": [
    {
     "name": "stdout",
     "output_type": "stream",
     "text": [
      "engine is defined as: <routingpy.routers.osrm.OSRM object at 0x7f32d001f980>\n",
      "Extra kwargs:\n",
      "{'routing': <routingpy.routers.osrm.OSRM object at 0x7f32d001f980>, 'routing_kws': {}}\n",
      "PyVRP v0.11.3\n",
      "\n",
      "Solving an instance with:\n",
      "    1 depot\n",
      "    550 clients\n",
      "    70 vehicles (6 vehicle types)\n",
      "\n",
      "                  |       Feasible        |      Infeasible\n",
      "    Iters    Time |   #      Avg     Best |   #      Avg     Best\n",
      "\n",
      "Search terminated in 10.65s after 20 iterations.\n",
      "Best-found solution has cost 44679994.\n",
      "\n",
      "Solution results\n",
      "================\n",
      "    # routes: 15\n",
      "     # trips: 15\n",
      "   # clients: 550\n",
      "   objective: 44679994\n",
      "    distance: 336715\n",
      "    duration: 1584\n",
      "# iterations: 20\n",
      "    run-time: 10.65 seconds\n",
      "\n"
     ]
    },
    {
     "data": {
      "text/plain": [
       "<spopt.route.heuristic.LastMile at 0x7f32ca2f02c0>"
      ]
     },
     "execution_count": 17,
     "metadata": {},
     "output_type": "execute_result"
    }
   ],
   "source": [
    "m.solve(stop=pyvrp.stop.MaxRuntime(10), routing=OSRM, routing_kws={\"base_url\": \"http://localhost:5000\"})"
   ]
  },
  {
   "cell_type": "code",
   "execution_count": 18,
   "id": "6d5a7b2b-46b3-4740-bdee-64a93741cf43",
   "metadata": {},
   "outputs": [],
   "source": [
    "m.write_result(\"new-engine-functions\")"
   ]
  },
  {
   "cell_type": "code",
   "execution_count": 19,
   "id": "a97f817b-6291-40e9-bc78-db0363162bfb",
   "metadata": {},
   "outputs": [],
   "source": [
    "from routingpy import Valhalla"
   ]
  },
  {
   "cell_type": "code",
   "execution_count": null,
   "id": "0f2877d3-4197-4692-8449-56bff91cf973",
   "metadata": {},
   "outputs": [],
   "source": []
  },
  {
   "cell_type": "code",
   "execution_count": 20,
   "id": "bde420b8-72d6-466d-aa70-088650727ccd",
   "metadata": {},
   "outputs": [
    {
     "name": "stdout",
     "output_type": "stream",
     "text": [
      "engine is defined as: <routingpy.routers.valhalla.Valhalla object at 0x7f32c684f3e0>\n",
      "Extra kwargs:\n",
      "{'routing': <routingpy.routers.valhalla.Valhalla object at 0x7f32c684f3e0>, 'routing_kws': {'profile': 'auto'}}\n",
      "auto\n"
     ]
    },
    {
     "ename": "TypeError",
     "evalue": "Session.request() got an unexpected keyword argument 'profile'",
     "output_type": "error",
     "traceback": [
      "\u001b[31m---------------------------------------------------------------------------\u001b[39m",
      "\u001b[31mTypeError\u001b[39m                                 Traceback (most recent call last)",
      "\u001b[36mCell\u001b[39m\u001b[36m \u001b[39m\u001b[32mIn[20]\u001b[39m\u001b[32m, line 1\u001b[39m\n\u001b[32m----> \u001b[39m\u001b[32m1\u001b[39m \u001b[43mm\u001b[49m\u001b[43m.\u001b[49m\u001b[43msolve\u001b[49m\u001b[43m(\u001b[49m\u001b[43mstop\u001b[49m\u001b[43m=\u001b[49m\u001b[43mpyvrp\u001b[49m\u001b[43m.\u001b[49m\u001b[43mstop\u001b[49m\u001b[43m.\u001b[49m\u001b[43mMaxRuntime\u001b[49m\u001b[43m(\u001b[49m\u001b[32;43m60\u001b[39;49m\u001b[43m)\u001b[49m\u001b[43m,\u001b[49m\u001b[43m \u001b[49m\u001b[43mrouting\u001b[49m\u001b[43m=\u001b[49m\u001b[43mValhalla\u001b[49m\u001b[43m,\u001b[49m\u001b[43m \u001b[49m\u001b[43mrouting_kws\u001b[49m\u001b[43m=\u001b[49m\u001b[43m{\u001b[49m\u001b[33;43m\"\u001b[39;49m\u001b[33;43mprofile\u001b[39;49m\u001b[33;43m\"\u001b[39;49m\u001b[43m:\u001b[49m\u001b[43m \u001b[49m\u001b[33;43m\"\u001b[39;49m\u001b[33;43mauto\u001b[39;49m\u001b[33;43m\"\u001b[39;49m\u001b[43m}\u001b[49m\u001b[43m)\u001b[49m\n",
      "\u001b[36mFile \u001b[39m\u001b[32m~/projects/gsoc2025/spopt/spopt/route/heuristic.py:373\u001b[39m, in \u001b[36mLastMile.solve\u001b[39m\u001b[34m(self, stop, routing, routing_kws, *args, **kwargs)\u001b[39m\n\u001b[32m    368\u001b[39m all_lonlats = numpy.vstack(\n\u001b[32m    369\u001b[39m     [\u001b[38;5;28mself\u001b[39m.depot_location] + \u001b[38;5;28mlist\u001b[39m(shapely.get_coordinates(\u001b[38;5;28mself\u001b[39m.clients_.geometry))\n\u001b[32m    370\u001b[39m )\n\u001b[32m    372\u001b[39m \u001b[38;5;28mprint\u001b[39m(\u001b[33mf\u001b[39m\u001b[33m'\u001b[39m\u001b[33mengine is defined as: \u001b[39m\u001b[38;5;132;01m{\u001b[39;00m\u001b[38;5;28mself\u001b[39m.routing_\u001b[38;5;132;01m}\u001b[39;00m\u001b[33m'\u001b[39m)\n\u001b[32m--> \u001b[39m\u001b[32m373\u001b[39m \u001b[38;5;28;43mself\u001b[39;49m\u001b[43m.\u001b[49m\u001b[43m_setup_graph\u001b[49m\u001b[43m(\u001b[49m\u001b[43mall_lonlats\u001b[49m\u001b[43m=\u001b[49m\u001b[43mall_lonlats\u001b[49m\u001b[43m,\u001b[49m\u001b[43m \u001b[49m\u001b[43mrouting\u001b[49m\u001b[43m=\u001b[49m\u001b[38;5;28;43mself\u001b[39;49m\u001b[43m.\u001b[49m\u001b[43mrouting_\u001b[49m\u001b[43m,\u001b[49m\u001b[43m \u001b[49m\u001b[43mrouting_kws\u001b[49m\u001b[43m=\u001b[49m\u001b[38;5;28;43mself\u001b[39;49m\u001b[43m.\u001b[49m\u001b[43mrouting_kws_\u001b[49m\u001b[43m)\u001b[49m\n\u001b[32m    375\u001b[39m \u001b[38;5;28mself\u001b[39m.result_ = \u001b[38;5;28mself\u001b[39m.model.solve(stop=stop, *args, **kwargs)\n\u001b[32m    377\u001b[39m \u001b[38;5;28mself\u001b[39m.routes_, \u001b[38;5;28mself\u001b[39m.stops_ = utils.routes_and_stops(\n\u001b[32m    378\u001b[39m     \u001b[38;5;28mself\u001b[39m.result_.best, \u001b[38;5;28mself\u001b[39m.model, \u001b[38;5;28mself\u001b[39m.clients_, \u001b[38;5;28mself\u001b[39m.depot_location, cost_unit=\u001b[38;5;28mself\u001b[39m.cost_unit, routing=\u001b[38;5;28mself\u001b[39m.routing_\n\u001b[32m    379\u001b[39m )\n",
      "\u001b[36mFile \u001b[39m\u001b[32m~/projects/gsoc2025/spopt/spopt/route/heuristic.py:422\u001b[39m, in \u001b[36mLastMile._setup_graph\u001b[39m\u001b[34m(self, all_lonlats, routing, routing_kws)\u001b[39m\n\u001b[32m    411\u001b[39m \u001b[38;5;250m\u001b[39m\u001b[33;03m\"\"\"\u001b[39;00m\n\u001b[32m    412\u001b[39m \u001b[33;03mThis sets up the graph pertaining to an inputted set of longitude and latitude coordinates. \u001b[39;00m\n\u001b[32m    413\u001b[39m \n\u001b[32m   (...)\u001b[39m\u001b[32m    418\u001b[39m \u001b[33;03mwith an edge for each profile. \u001b[39;00m\n\u001b[32m    419\u001b[39m \u001b[33;03m\"\"\"\u001b[39;00m\n\u001b[32m    420\u001b[39m routing = \u001b[38;5;28mself\u001b[39m.routing_\n\u001b[32m--> \u001b[39m\u001b[32m422\u001b[39m raw_distances, raw_durations = \u001b[43mengine\u001b[49m\u001b[43m.\u001b[49m\u001b[43mbuild_route_table\u001b[49m\u001b[43m(\u001b[49m\n\u001b[32m    423\u001b[39m \u001b[43m    \u001b[49m\u001b[43mdemand_sites\u001b[49m\u001b[43m=\u001b[49m\u001b[43mshapely\u001b[49m\u001b[43m.\u001b[49m\u001b[43mget_coordinates\u001b[49m\u001b[43m(\u001b[49m\u001b[38;5;28;43mself\u001b[39;49m\u001b[43m.\u001b[49m\u001b[43mclients_\u001b[49m\u001b[43m.\u001b[49m\u001b[43mgeometry\u001b[49m\u001b[43m)\u001b[49m\u001b[43m,\u001b[49m\n\u001b[32m    424\u001b[39m \u001b[43m    \u001b[49m\u001b[43mcandidate_depots\u001b[49m\u001b[43m=\u001b[49m\u001b[43m[\u001b[49m\u001b[38;5;28;43mself\u001b[39;49m\u001b[43m.\u001b[49m\u001b[43mdepot_location\u001b[49m\u001b[43m]\u001b[49m\u001b[43m,\u001b[49m\n\u001b[32m    425\u001b[39m \u001b[43m    \u001b[49m\u001b[43mcost\u001b[49m\u001b[43m=\u001b[49m\u001b[33;43m\"\u001b[39;49m\u001b[33;43mboth\u001b[39;49m\u001b[33;43m\"\u001b[39;49m\u001b[43m,\u001b[49m\n\u001b[32m    426\u001b[39m \u001b[43m    \u001b[49m\u001b[43mrouting\u001b[49m\u001b[43m=\u001b[49m\u001b[38;5;28;43mself\u001b[39;49m\u001b[43m.\u001b[49m\u001b[43mrouting_\u001b[49m\u001b[43m,\u001b[49m\n\u001b[32m    427\u001b[39m \u001b[43m    \u001b[49m\u001b[43mrouting_kws\u001b[49m\u001b[43m=\u001b[49m\u001b[38;5;28;43mself\u001b[39;49m\u001b[43m.\u001b[49m\u001b[43mrouting_kws_\u001b[49m\n\u001b[32m    428\u001b[39m \u001b[43m\u001b[49m\u001b[43m)\u001b[49m\n\u001b[32m    429\u001b[39m \u001b[38;5;66;03m# how many minutes does it take to get from place to place?\u001b[39;00m\n\u001b[32m    430\u001b[39m durations_by_block = numpy.ceil(raw_durations / \u001b[32m60\u001b[39m)\n",
      "\u001b[36mFile \u001b[39m\u001b[32m~/projects/gsoc2025/spopt/spopt/route/engine.py:121\u001b[39m, in \u001b[36mbuild_route_table\u001b[39m\u001b[34m(demand_sites, candidate_depots, cost, **kwargs)\u001b[39m\n\u001b[32m    119\u001b[39m     profile = routing_kws.get(\u001b[33m\"\u001b[39m\u001b[33mprofile\u001b[39m\u001b[33m\"\u001b[39m)\n\u001b[32m    120\u001b[39m     \u001b[38;5;28mprint\u001b[39m(profile)\n\u001b[32m--> \u001b[39m\u001b[32m121\u001b[39m     result = \u001b[43mengine\u001b[49m\u001b[43m.\u001b[49m\u001b[43mmatrix\u001b[49m\u001b[43m(\u001b[49m\n\u001b[32m    122\u001b[39m \u001b[43m        \u001b[49m\u001b[43mlocations\u001b[49m\u001b[43m=\u001b[49m\u001b[43mall_points\u001b[49m\u001b[43m,\u001b[49m\n\u001b[32m    123\u001b[39m \u001b[43m        \u001b[49m\u001b[43mannotations\u001b[49m\u001b[43m=\u001b[49m\u001b[43mannotations\u001b[49m\u001b[43m,\u001b[49m\n\u001b[32m    124\u001b[39m \u001b[43m        \u001b[49m\u001b[43mprofile\u001b[49m\u001b[43m=\u001b[49m\u001b[43mprofile\u001b[49m\n\u001b[32m    125\u001b[39m \u001b[43m    \u001b[49m\u001b[43m)\u001b[49m\n\u001b[32m    127\u001b[39m \u001b[38;5;28;01melse\u001b[39;00m:\n\u001b[32m    128\u001b[39m     \u001b[38;5;28;01mraise\u001b[39;00m \u001b[38;5;167;01mValueError\u001b[39;00m(\u001b[33mf\u001b[39m\u001b[33m\"\u001b[39m\u001b[33mUnsupported engine \u001b[39m\u001b[33m'\u001b[39m\u001b[38;5;132;01m{\u001b[39;00mengine\u001b[38;5;132;01m}\u001b[39;00m\u001b[33m'\u001b[39m\u001b[33m\"\u001b[39m)\n",
      "\u001b[36mFile \u001b[39m\u001b[32m~/mambaforge/envs/gsoc/lib/python3.12/site-packages/routingpy/routers/valhalla.py:579\u001b[39m, in \u001b[36mValhalla.matrix\u001b[39m\u001b[34m(self, locations, profile, sources, destinations, preference, options, avoid_locations, avoid_polygons, units, date_time, id, dry_run, **kwargs)\u001b[39m\n\u001b[32m    513\u001b[39m \u001b[38;5;250m\u001b[39m\u001b[33;03m\"\"\"\u001b[39;00m\n\u001b[32m    514\u001b[39m \u001b[33;03mGets travel distance and time for a matrix of origins and destinations.\u001b[39;00m\n\u001b[32m    515\u001b[39m \n\u001b[32m   (...)\u001b[39m\u001b[32m    560\u001b[39m \u001b[33;03m:rtype: :class:`routingpy.matrix.Matrix`\u001b[39;00m\n\u001b[32m    561\u001b[39m \u001b[33;03m\"\"\"\u001b[39;00m\n\u001b[32m    563\u001b[39m params = \u001b[38;5;28mself\u001b[39m.get_matrix_params(\n\u001b[32m    564\u001b[39m     locations,\n\u001b[32m    565\u001b[39m     profile,\n\u001b[32m   (...)\u001b[39m\u001b[32m    575\u001b[39m     **kwargs\n\u001b[32m    576\u001b[39m )\n\u001b[32m    578\u001b[39m \u001b[38;5;28;01mreturn\u001b[39;00m \u001b[38;5;28mself\u001b[39m.parse_matrix_json(\n\u001b[32m--> \u001b[39m\u001b[32m579\u001b[39m     \u001b[38;5;28;43mself\u001b[39;49m\u001b[43m.\u001b[49m\u001b[43mclient\u001b[49m\u001b[43m.\u001b[49m\u001b[43m_request\u001b[49m\u001b[43m(\u001b[49m\u001b[33;43m\"\u001b[39;49m\u001b[33;43m/sources_to_targets\u001b[39;49m\u001b[33;43m\"\u001b[39;49m\u001b[43m,\u001b[49m\u001b[43m \u001b[49m\u001b[43mpost_params\u001b[49m\u001b[43m=\u001b[49m\u001b[43mparams\u001b[49m\u001b[43m,\u001b[49m\u001b[43m \u001b[49m\u001b[43mdry_run\u001b[49m\u001b[43m=\u001b[49m\u001b[43mdry_run\u001b[49m\u001b[43m)\u001b[49m,\n\u001b[32m    580\u001b[39m     units,\n\u001b[32m    581\u001b[39m )\n",
      "\u001b[36mFile \u001b[39m\u001b[32m~/mambaforge/envs/gsoc/lib/python3.12/site-packages/routingpy/client_default.py:182\u001b[39m, in \u001b[36mClient._request\u001b[39m\u001b[34m(self, url, get_params, post_params, first_request_time, retry_counter, dry_run)\u001b[39m\n\u001b[32m    179\u001b[39m     \u001b[38;5;28;01mreturn\u001b[39;00m\n\u001b[32m    181\u001b[39m \u001b[38;5;28;01mtry\u001b[39;00m:\n\u001b[32m--> \u001b[39m\u001b[32m182\u001b[39m     response = \u001b[43mrequests_method\u001b[49m\u001b[43m(\u001b[49m\u001b[38;5;28;43mself\u001b[39;49m\u001b[43m.\u001b[49m\u001b[43mbase_url\u001b[49m\u001b[43m \u001b[49m\u001b[43m+\u001b[49m\u001b[43m \u001b[49m\u001b[43mauthed_url\u001b[49m\u001b[43m,\u001b[49m\u001b[43m \u001b[49m\u001b[43m*\u001b[49m\u001b[43m*\u001b[49m\u001b[43mfinal_requests_kwargs\u001b[49m\u001b[43m)\u001b[49m\n\u001b[32m    183\u001b[39m     \u001b[38;5;28mself\u001b[39m._req = response.request\n\u001b[32m    185\u001b[39m \u001b[38;5;28;01mexcept\u001b[39;00m requests.exceptions.Timeout:\n",
      "\u001b[36mFile \u001b[39m\u001b[32m~/mambaforge/envs/gsoc/lib/python3.12/site-packages/requests/sessions.py:637\u001b[39m, in \u001b[36mSession.post\u001b[39m\u001b[34m(self, url, data, json, **kwargs)\u001b[39m\n\u001b[32m    626\u001b[39m \u001b[38;5;28;01mdef\u001b[39;00m\u001b[38;5;250m \u001b[39m\u001b[34mpost\u001b[39m(\u001b[38;5;28mself\u001b[39m, url, data=\u001b[38;5;28;01mNone\u001b[39;00m, json=\u001b[38;5;28;01mNone\u001b[39;00m, **kwargs):\n\u001b[32m    627\u001b[39m \u001b[38;5;250m    \u001b[39m\u001b[33mr\u001b[39m\u001b[33;03m\"\"\"Sends a POST request. Returns :class:`Response` object.\u001b[39;00m\n\u001b[32m    628\u001b[39m \n\u001b[32m    629\u001b[39m \u001b[33;03m    :param url: URL for the new :class:`Request` object.\u001b[39;00m\n\u001b[32m   (...)\u001b[39m\u001b[32m    634\u001b[39m \u001b[33;03m    :rtype: requests.Response\u001b[39;00m\n\u001b[32m    635\u001b[39m \u001b[33;03m    \"\"\"\u001b[39;00m\n\u001b[32m--> \u001b[39m\u001b[32m637\u001b[39m     \u001b[38;5;28;01mreturn\u001b[39;00m \u001b[38;5;28;43mself\u001b[39;49m\u001b[43m.\u001b[49m\u001b[43mrequest\u001b[49m\u001b[43m(\u001b[49m\u001b[33;43m\"\u001b[39;49m\u001b[33;43mPOST\u001b[39;49m\u001b[33;43m\"\u001b[39;49m\u001b[43m,\u001b[49m\u001b[43m \u001b[49m\u001b[43murl\u001b[49m\u001b[43m,\u001b[49m\u001b[43m \u001b[49m\u001b[43mdata\u001b[49m\u001b[43m=\u001b[49m\u001b[43mdata\u001b[49m\u001b[43m,\u001b[49m\u001b[43m \u001b[49m\u001b[43mjson\u001b[49m\u001b[43m=\u001b[49m\u001b[43mjson\u001b[49m\u001b[43m,\u001b[49m\u001b[43m \u001b[49m\u001b[43m*\u001b[49m\u001b[43m*\u001b[49m\u001b[43mkwargs\u001b[49m\u001b[43m)\u001b[49m\n",
      "\u001b[31mTypeError\u001b[39m: Session.request() got an unexpected keyword argument 'profile'"
     ]
    }
   ],
   "source": [
    "m.solve(stop=pyvrp.stop.MaxRuntime(60), routing=Valhalla, routing_kws={\"profile\": \"auto\"})"
   ]
  },
  {
   "cell_type": "code",
   "execution_count": 29,
   "id": "6f05dac0-ef2e-4b6b-9564-16ec8ba997f4",
   "metadata": {},
   "outputs": [],
   "source": [
    "import shapely"
   ]
  },
  {
   "cell_type": "code",
   "execution_count": 30,
   "id": "cfc388f1-8668-42a9-853f-130de8b9db8a",
   "metadata": {},
   "outputs": [],
   "source": [
    "all_lonlats = numpy.vstack(\n",
    "    [m.depot_location] + list(shapely.get_coordinates(m.clients_.geometry))\n",
    ")"
   ]
  },
  {
   "cell_type": "code",
   "execution_count": 33,
   "id": "0bc7b0f9-0455-411e-a53f-82ac2a73ab5a",
   "metadata": {},
   "outputs": [],
   "source": [
    "val = Valhalla()"
   ]
  },
  {
   "cell_type": "code",
   "execution_count": 36,
   "id": "597e5ad2-16e4-44e2-82d3-ab9c0de060d6",
   "metadata": {},
   "outputs": [
    {
     "ename": "RouterApiError",
     "evalue": "400 ({\"error_code\":112,\"error\":\"Insufficiently specified required parameter 'locations' or 'sources & targets'\",\"status_code\":400,\"status\":\"Bad Request\"})",
     "output_type": "error",
     "traceback": [
      "\u001b[31m---------------------------------------------------------------------------\u001b[39m",
      "\u001b[31mRouterApiError\u001b[39m                            Traceback (most recent call last)",
      "\u001b[36mCell\u001b[39m\u001b[36m \u001b[39m\u001b[32mIn[36]\u001b[39m\u001b[32m, line 1\u001b[39m\n\u001b[32m----> \u001b[39m\u001b[32m1\u001b[39m result = \u001b[43mval\u001b[49m\u001b[43m.\u001b[49m\u001b[43mmatrix\u001b[49m\u001b[43m(\u001b[49m\u001b[43mlocations\u001b[49m\u001b[43m=\u001b[49m\u001b[43mall_lonlats\u001b[49m\u001b[43m,\u001b[49m\n\u001b[32m      2\u001b[39m \u001b[43m                \u001b[49m\u001b[43mannotations\u001b[49m\u001b[43m=\u001b[49m\u001b[33;43m'\u001b[39;49m\u001b[33;43mboth\u001b[39;49m\u001b[33;43m'\u001b[39;49m\u001b[43m,\u001b[49m\n\u001b[32m      3\u001b[39m \u001b[43m                \u001b[49m\u001b[43mprofile\u001b[49m\u001b[43m=\u001b[49m\u001b[33;43m'\u001b[39;49m\u001b[33;43mauto\u001b[39;49m\u001b[33;43m'\u001b[39;49m\u001b[43m)\u001b[49m\n",
      "\u001b[36mFile \u001b[39m\u001b[32m~/mambaforge/envs/gsoc/lib/python3.12/site-packages/routingpy/routers/valhalla.py:579\u001b[39m, in \u001b[36mValhalla.matrix\u001b[39m\u001b[34m(self, locations, profile, sources, destinations, preference, options, avoid_locations, avoid_polygons, units, date_time, id, dry_run, **kwargs)\u001b[39m\n\u001b[32m    513\u001b[39m \u001b[38;5;250m\u001b[39m\u001b[33;03m\"\"\"\u001b[39;00m\n\u001b[32m    514\u001b[39m \u001b[33;03mGets travel distance and time for a matrix of origins and destinations.\u001b[39;00m\n\u001b[32m    515\u001b[39m \n\u001b[32m   (...)\u001b[39m\u001b[32m    560\u001b[39m \u001b[33;03m:rtype: :class:`routingpy.matrix.Matrix`\u001b[39;00m\n\u001b[32m    561\u001b[39m \u001b[33;03m\"\"\"\u001b[39;00m\n\u001b[32m    563\u001b[39m params = \u001b[38;5;28mself\u001b[39m.get_matrix_params(\n\u001b[32m    564\u001b[39m     locations,\n\u001b[32m    565\u001b[39m     profile,\n\u001b[32m   (...)\u001b[39m\u001b[32m    575\u001b[39m     **kwargs\n\u001b[32m    576\u001b[39m )\n\u001b[32m    578\u001b[39m \u001b[38;5;28;01mreturn\u001b[39;00m \u001b[38;5;28mself\u001b[39m.parse_matrix_json(\n\u001b[32m--> \u001b[39m\u001b[32m579\u001b[39m     \u001b[38;5;28;43mself\u001b[39;49m\u001b[43m.\u001b[49m\u001b[43mclient\u001b[49m\u001b[43m.\u001b[49m\u001b[43m_request\u001b[49m\u001b[43m(\u001b[49m\u001b[33;43m\"\u001b[39;49m\u001b[33;43m/sources_to_targets\u001b[39;49m\u001b[33;43m\"\u001b[39;49m\u001b[43m,\u001b[49m\u001b[43m \u001b[49m\u001b[43mpost_params\u001b[49m\u001b[43m=\u001b[49m\u001b[43mparams\u001b[49m\u001b[43m,\u001b[49m\u001b[43m \u001b[49m\u001b[43mdry_run\u001b[49m\u001b[43m=\u001b[49m\u001b[43mdry_run\u001b[49m\u001b[43m)\u001b[49m,\n\u001b[32m    580\u001b[39m     units,\n\u001b[32m    581\u001b[39m )\n",
      "\u001b[36mFile \u001b[39m\u001b[32m~/mambaforge/envs/gsoc/lib/python3.12/site-packages/routingpy/client_default.py:199\u001b[39m, in \u001b[36mClient._request\u001b[39m\u001b[34m(self, url, get_params, post_params, first_request_time, retry_counter, dry_run)\u001b[39m\n\u001b[32m    196\u001b[39m     \u001b[38;5;28;01mreturn\u001b[39;00m \u001b[38;5;28mself\u001b[39m._request(url, get_params, post_params, first_request_time, retry_counter + \u001b[32m1\u001b[39m)\n\u001b[32m    198\u001b[39m \u001b[38;5;28;01mtry\u001b[39;00m:\n\u001b[32m--> \u001b[39m\u001b[32m199\u001b[39m     \u001b[38;5;28;01mreturn\u001b[39;00m \u001b[38;5;28;43mself\u001b[39;49m\u001b[43m.\u001b[49m\u001b[43m_get_body\u001b[49m\u001b[43m(\u001b[49m\u001b[43mresponse\u001b[49m\u001b[43m)\u001b[49m\n\u001b[32m    201\u001b[39m \u001b[38;5;28;01mexcept\u001b[39;00m exceptions.RouterApiError:\n\u001b[32m    202\u001b[39m     \u001b[38;5;28;01mif\u001b[39;00m \u001b[38;5;28mself\u001b[39m.skip_api_error:\n",
      "\u001b[36mFile \u001b[39m\u001b[32m~/mambaforge/envs/gsoc/lib/python3.12/site-packages/routingpy/client_default.py:249\u001b[39m, in \u001b[36mClient._get_body\u001b[39m\u001b[34m(response)\u001b[39m\n\u001b[32m    246\u001b[39m     \u001b[38;5;28;01mraise\u001b[39;00m exceptions.OverQueryLimit(status_code, response.text)\n\u001b[32m    248\u001b[39m \u001b[38;5;28;01mif\u001b[39;00m \u001b[32m400\u001b[39m <= status_code < \u001b[32m500\u001b[39m:\n\u001b[32m--> \u001b[39m\u001b[32m249\u001b[39m     \u001b[38;5;28;01mraise\u001b[39;00m exceptions.RouterApiError(status_code, response.text)\n\u001b[32m    251\u001b[39m \u001b[38;5;28;01mif\u001b[39;00m \u001b[32m500\u001b[39m <= status_code:\n\u001b[32m    252\u001b[39m     \u001b[38;5;28;01mraise\u001b[39;00m exceptions.RouterServerError(status_code, response.text)\n",
      "\u001b[31mRouterApiError\u001b[39m: 400 ({\"error_code\":112,\"error\":\"Insufficiently specified required parameter 'locations' or 'sources & targets'\",\"status_code\":400,\"status\":\"Bad Request\"})"
     ]
    }
   ],
   "source": [
    "result = Val.matrix(locations=all_lonlats,\n",
    "                annotations='both',\n",
    "                profile='auto')"
   ]
  },
  {
   "cell_type": "code",
   "execution_count": null,
   "id": "4fc75ff5-eac2-4609-87a0-5c9b9b1a2732",
   "metadata": {},
   "outputs": [],
   "source": []
  }
 ],
 "metadata": {
  "kernelspec": {
   "display_name": "Python 3 (ipykernel)",
   "language": "python",
   "name": "python3"
  },
  "language_info": {
   "codemirror_mode": {
    "name": "ipython",
    "version": 3
   },
   "file_extension": ".py",
   "mimetype": "text/x-python",
   "name": "python",
   "nbconvert_exporter": "python",
   "pygments_lexer": "ipython3",
   "version": "3.12.11"
  }
 },
 "nbformat": 4,
 "nbformat_minor": 5
}
