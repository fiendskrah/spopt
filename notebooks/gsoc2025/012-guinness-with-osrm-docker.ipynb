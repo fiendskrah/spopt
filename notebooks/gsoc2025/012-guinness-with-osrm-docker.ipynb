{
 "cells": [
  {
   "cell_type": "markdown",
   "id": "f8ec5749-b4bd-4d44-82e3-3a96bda20d0c",
   "metadata": {},
   "source": [
    "Reproduce Guinness example With OSRM docker image"
   ]
  },
  {
   "cell_type": "code",
   "execution_count": 1,
   "id": "ffd4aaa5-b5db-49a3-9be4-c359141b4842",
   "metadata": {},
   "outputs": [],
   "source": [
    "import geopandas as gpd\n",
    "import pandas, numpy, pyvrp, sys"
   ]
  },
  {
   "cell_type": "code",
   "execution_count": 2,
   "id": "4f40009e-a261-4ec6-afea-ce0e45e399a1",
   "metadata": {},
   "outputs": [],
   "source": [
    "sys.path.insert(0, '/home/dylan/projects/gsoc2025/spopt/') # not the published spopt"
   ]
  },
  {
   "cell_type": "code",
   "execution_count": 3,
   "id": "7153238c-6651-4e3b-897b-43d6b2703687",
   "metadata": {},
   "outputs": [
    {
     "name": "stdout",
     "output_type": "stream",
     "text": [
      "/home/dylan/projects/gsoc2025/spopt/spopt/__init__.py\n"
     ]
    }
   ],
   "source": [
    "import spopt\n",
    "print(spopt.__file__)"
   ]
  },
  {
   "cell_type": "code",
   "execution_count": 4,
   "id": "7692dbc6-9c14-4c7e-8129-be96b4dc2579",
   "metadata": {},
   "outputs": [],
   "source": [
    "from spopt.route import engine, heuristic, utils"
   ]
  },
  {
   "cell_type": "markdown",
   "id": "cd107187-edda-4c2d-af47-5f68802d3002",
   "metadata": {},
   "source": [
    "## Reproduce the guinness example"
   ]
  },
  {
   "cell_type": "code",
   "execution_count": 5,
   "id": "32fce62a-b642-4749-9c84-7846ce08140f",
   "metadata": {},
   "outputs": [],
   "source": [
    "from spopt.route.heuristic import LastMile\n",
    "from pyvrp import stop"
   ]
  },
  {
   "cell_type": "code",
   "execution_count": 6,
   "id": "c5c9c91a-531e-40c2-ab4a-69ac992f17d8",
   "metadata": {},
   "outputs": [],
   "source": [
    "trucks = pandas.DataFrame(\n",
    "    [['big', 'lng',      2000,    280, .004,  .50, 5],\n",
    "     ['big', 'electric', 2000,    480, .002,  .50, 5],\n",
    "     ['med', 'lng',      800, 280*.66, .0001, .63, 10],\n",
    "     ['med', 'electric', 800, 480*.66, .004,  .50, 10],\n",
    "     ['smo', 'lng',      400, 280*0.4, .002,  .50, 20],\n",
    "     ['smo', 'electric', 400, 480*0.4, .0001, .63, 20],\n",
    "     ],\n",
    "     columns = [\n",
    "         'namesize', 'namefuel', 'capacity', \n",
    "         'fixed_cost', 'cost_per_meter', 'cost_per_minute', 'n_truck'\n",
    "         ]\n",
    ")"
   ]
  },
  {
   "cell_type": "code",
   "execution_count": 7,
   "id": "c6c2dc1f-ba3f-4f4b-8b19-c487c9e6bb21",
   "metadata": {},
   "outputs": [],
   "source": [
    "dublin_pubs = gpd.read_file('/home/dylan/projects/gsoc2025/spopt/notebooks/gsoc2025/data/dublinpubs.geojson')"
   ]
  },
  {
   "cell_type": "code",
   "execution_count": 8,
   "id": "95a0eda5-6c6f-478e-9f8f-aacb67b3ecf1",
   "metadata": {},
   "outputs": [
    {
     "data": {
      "text/plain": [
       "(551, 8)"
      ]
     },
     "execution_count": 8,
     "metadata": {},
     "output_type": "execute_result"
    }
   ],
   "source": [
    "dublin_pubs.shape"
   ]
  },
  {
   "cell_type": "code",
   "execution_count": 9,
   "id": "290adc58-7fa8-4348-8526-c849bb3fdbc7",
   "metadata": {},
   "outputs": [],
   "source": [
    "gdf = dublin_pubs"
   ]
  },
  {
   "cell_type": "code",
   "execution_count": 10,
   "id": "c8569d04-64fa-41e6-bb19-f9269c2dc4a7",
   "metadata": {},
   "outputs": [],
   "source": [
    "depot = gdf.iloc[0,:]\n",
    "clients = gdf.iloc[1:,:].reset_index(drop=True)\n",
    "clients = clients.set_index(clients.osmid.astype(str))"
   ]
  },
  {
   "cell_type": "code",
   "execution_count": 11,
   "id": "5174df2e-c3a1-44b1-aabd-a01adad6366c",
   "metadata": {},
   "outputs": [],
   "source": [
    "_clients = clients[:90]"
   ]
  },
  {
   "cell_type": "markdown",
   "id": "e9e9f201-6125-4232-819c-5c205ae20fd1",
   "metadata": {},
   "source": [
    "I am running into rate limits using the osrm docker image. When using the full set of clients (e.g. all 551 pubs), the returned json content from osrm (engine.py, line 163 when trying to parse `content`) is:\n",
    "\n",
    "```\n",
    "{'code': 'TooBig', 'message': 'Too many table coordinates'}\n",
    "```"
   ]
  },
  {
   "cell_type": "markdown",
   "id": "c5d40036-f994-4e87-9094-29b554b9449a",
   "metadata": {},
   "source": [
    "Solution: add new parameter for the docker service call:\n",
    "\n",
    "``\n",
    "—max-table-size 9999999\n",
    "``"
   ]
  },
  {
   "cell_type": "code",
   "execution_count": 12,
   "id": "492f44fd-62c0-440f-8bd5-631b9801fb0e",
   "metadata": {
    "scrolled": true
   },
   "outputs": [
    {
     "name": "stdout",
     "output_type": "stream",
     "text": [
      "initializing model\n",
      "adding clients\n",
      "adding trucks\n"
     ]
    },
    {
     "data": {
      "text/plain": [
       "<spopt.route.heuristic.LastMile at 0x7fb205403440>"
      ]
     },
     "execution_count": 12,
     "metadata": {},
     "output_type": "execute_result"
    }
   ],
   "source": [
    "print('initializing model')\n",
    "m = LastMile(\n",
    "    depot_location=(depot.longitude.item(), depot.latitude.item()),\n",
    "    depot_open=pandas.Timestamp(\"2030-01-02 07:00:00\"),\n",
    "    depot_close=pandas.Timestamp(\"2030-01-02 20:00:00\"),\n",
    "    depot_name=depot['name'],\n",
    ")\n",
    "print(\"adding clients\")\n",
    "\n",
    "m.add_clients(\n",
    "    locations = clients.geometry, \n",
    "    delivery = clients.demand,\n",
    "    pickup = clients.supply,\n",
    "    time_windows=None,\n",
    "    service_times=(numpy.log(clients.demand)**2).astype(int)\n",
    ")\n",
    "print(\"adding trucks\")\n",
    "m.add_trucks_from_frame(\n",
    "    trucks, \n",
    ")"
   ]
  },
  {
   "cell_type": "code",
   "execution_count": 13,
   "id": "cafb1ec1-5679-412b-af3b-32bf6d4c7428",
   "metadata": {
    "scrolled": true
   },
   "outputs": [
    {
     "data": {
      "text/plain": [
       "(-6.28688, 53.341972)"
      ]
     },
     "execution_count": 13,
     "metadata": {},
     "output_type": "execute_result"
    }
   ],
   "source": [
    "m.depot_location"
   ]
  },
  {
   "cell_type": "code",
   "execution_count": 14,
   "id": "55e5bb50-75b7-4d4b-bd41-80ed8d2141b5",
   "metadata": {},
   "outputs": [
    {
     "name": "stdout",
     "output_type": "stream",
     "text": [
      "PyVRP v0.11.3\n",
      "\n",
      "Solving an instance with:\n",
      "    1 depot\n",
      "    550 clients\n",
      "    70 vehicles (6 vehicle types)\n",
      "\n",
      "                  |       Feasible        |      Infeasible\n",
      "    Iters    Time |   #      Avg     Best |   #      Avg     Best\n",
      "H     500    188s |  42 49057499 39473545 |  44 36599331 35408684\n",
      "\n",
      "Search terminated in 300.00s after 823 iterations.\n",
      "Best-found solution has cost 39171252.\n",
      "\n",
      "Solution results\n",
      "================\n",
      "    # routes: 12\n",
      "     # trips: 12\n",
      "   # clients: 550\n",
      "   objective: 39171252\n",
      "    distance: 285939\n",
      "    duration: 1503\n",
      "# iterations: 823\n",
      "    run-time: 300.00 seconds\n",
      "\n"
     ]
    },
    {
     "data": {
      "text/plain": [
       "<spopt.route.heuristic.LastMile at 0x7fb205403440>"
      ]
     },
     "execution_count": 14,
     "metadata": {},
     "output_type": "execute_result"
    }
   ],
   "source": [
    "m.solve(stop=pyvrp.stop.MaxRuntime(300))"
   ]
  },
  {
   "cell_type": "code",
   "execution_count": 15,
   "id": "6d5a7b2b-46b3-4740-bdee-64a93741cf43",
   "metadata": {},
   "outputs": [],
   "source": [
    "m.write_result(\"docker-image\")"
   ]
  },
  {
   "cell_type": "code",
   "execution_count": null,
   "id": "5d59d209-ddc3-4a9f-afab-f54375c9bbca",
   "metadata": {},
   "outputs": [],
   "source": []
  }
 ],
 "metadata": {
  "kernelspec": {
   "display_name": "Python 3 (ipykernel)",
   "language": "python",
   "name": "python3"
  },
  "language_info": {
   "codemirror_mode": {
    "name": "ipython",
    "version": 3
   },
   "file_extension": ".py",
   "mimetype": "text/x-python",
   "name": "python",
   "nbconvert_exporter": "python",
   "pygments_lexer": "ipython3",
   "version": "3.12.11"
  }
 },
 "nbformat": 4,
 "nbformat_minor": 5
}
