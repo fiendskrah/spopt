{
 "cells": [
  {
   "cell_type": "markdown",
   "id": "f8ec5749-b4bd-4d44-82e3-3a96bda20d0c",
   "metadata": {},
   "source": [
    "Reproduce Guinness example With OSRM docker image"
   ]
  },
  {
   "cell_type": "code",
   "execution_count": 1,
   "id": "ffd4aaa5-b5db-49a3-9be4-c359141b4842",
   "metadata": {},
   "outputs": [],
   "source": [
    "import geopandas as gpd\n",
    "import pandas, numpy, pyvrp, sys"
   ]
  },
  {
   "cell_type": "code",
   "execution_count": 2,
   "id": "4f40009e-a261-4ec6-afea-ce0e45e399a1",
   "metadata": {},
   "outputs": [],
   "source": [
    "sys.path.insert(0, '/home/dylan/projects/gsoc2025/spopt/') # not the published spopt"
   ]
  },
  {
   "cell_type": "code",
   "execution_count": 3,
   "id": "7153238c-6651-4e3b-897b-43d6b2703687",
   "metadata": {},
   "outputs": [
    {
     "name": "stdout",
     "output_type": "stream",
     "text": [
      "/home/dylan/projects/gsoc2025/spopt/spopt/__init__.py\n"
     ]
    }
   ],
   "source": [
    "import spopt\n",
    "print(spopt.__file__)"
   ]
  },
  {
   "cell_type": "code",
   "execution_count": 4,
   "id": "7692dbc6-9c14-4c7e-8129-be96b4dc2579",
   "metadata": {},
   "outputs": [],
   "source": [
    "from spopt.route import engine, heuristic, utils"
   ]
  },
  {
   "cell_type": "markdown",
   "id": "cd107187-edda-4c2d-af47-5f68802d3002",
   "metadata": {},
   "source": [
    "## Reproduce the guinness example"
   ]
  },
  {
   "cell_type": "code",
   "execution_count": 5,
   "id": "32fce62a-b642-4749-9c84-7846ce08140f",
   "metadata": {},
   "outputs": [],
   "source": [
    "from spopt.route.heuristic import LastMile\n",
    "from pyvrp import stop"
   ]
  },
  {
   "cell_type": "code",
   "execution_count": 6,
   "id": "c5c9c91a-531e-40c2-ab4a-69ac992f17d8",
   "metadata": {},
   "outputs": [],
   "source": [
    "trucks = pandas.DataFrame(\n",
    "    [['big', 'lng',      2000,    280, .004,  .50, 5],\n",
    "     ['big', 'electric', 2000,    480, .002,  .50, 5],\n",
    "     ['med', 'lng',      800, 280*.66, .0001, .63, 10],\n",
    "     ['med', 'electric', 800, 480*.66, .004,  .50, 10],\n",
    "     ['smo', 'lng',      400, 280*0.4, .002,  .50, 20],\n",
    "     ['smo', 'electric', 400, 480*0.4, .0001, .63, 20],\n",
    "     ],\n",
    "     columns = [\n",
    "         'namesize', 'namefuel', 'capacity', \n",
    "         'fixed_cost', 'cost_per_meter', 'cost_per_minute', 'n_truck'\n",
    "         ]\n",
    ")"
   ]
  },
  {
   "cell_type": "code",
   "execution_count": 7,
   "id": "c6c2dc1f-ba3f-4f4b-8b19-c487c9e6bb21",
   "metadata": {},
   "outputs": [],
   "source": [
    "dublin_pubs = gpd.read_file('/home/dylan/projects/gsoc2025/spopt/notebooks/gsoc2025/data/dublinpubs.geojson')"
   ]
  },
  {
   "cell_type": "code",
   "execution_count": 8,
   "id": "95a0eda5-6c6f-478e-9f8f-aacb67b3ecf1",
   "metadata": {},
   "outputs": [
    {
     "data": {
      "text/plain": [
       "(551, 8)"
      ]
     },
     "execution_count": 8,
     "metadata": {},
     "output_type": "execute_result"
    }
   ],
   "source": [
    "dublin_pubs.shape"
   ]
  },
  {
   "cell_type": "code",
   "execution_count": 9,
   "id": "290adc58-7fa8-4348-8526-c849bb3fdbc7",
   "metadata": {},
   "outputs": [],
   "source": [
    "gdf = dublin_pubs"
   ]
  },
  {
   "cell_type": "code",
   "execution_count": 10,
   "id": "c8569d04-64fa-41e6-bb19-f9269c2dc4a7",
   "metadata": {},
   "outputs": [],
   "source": [
    "depot = gdf.iloc[0,:]\n",
    "clients = gdf.iloc[1:,:].reset_index(drop=True)\n",
    "clients = clients.set_index(clients.osmid.astype(str))"
   ]
  },
  {
   "cell_type": "code",
   "execution_count": 11,
   "id": "5174df2e-c3a1-44b1-aabd-a01adad6366c",
   "metadata": {},
   "outputs": [],
   "source": [
    "_clients = clients[:90]"
   ]
  },
  {
   "cell_type": "markdown",
   "id": "e9e9f201-6125-4232-819c-5c205ae20fd1",
   "metadata": {},
   "source": [
    "I am running into rate limits using the osrm docker image. When using the full set of clients (e.g. all 551 pubs), the returned json content from osrm (engine.py, line 163 when trying to parse `content`) is:\n",
    "\n",
    "```\n",
    "{'code': 'TooBig', 'message': 'Too many table coordinates'}\n",
    "```"
   ]
  },
  {
   "cell_type": "code",
   "execution_count": 12,
   "id": "492f44fd-62c0-440f-8bd5-631b9801fb0e",
   "metadata": {
    "scrolled": true
   },
   "outputs": [
    {
     "name": "stdout",
     "output_type": "stream",
     "text": [
      "initializing model\n",
      "adding clients\n",
      "adding trucks\n"
     ]
    },
    {
     "data": {
      "text/plain": [
       "<spopt.route.heuristic.LastMile at 0x7f5894150d40>"
      ]
     },
     "execution_count": 12,
     "metadata": {},
     "output_type": "execute_result"
    }
   ],
   "source": [
    "print('initializing model')\n",
    "m = LastMile(\n",
    "    depot_location=(depot.longitude.item(), depot.latitude.item()),\n",
    "    depot_open=pandas.Timestamp(\"2030-01-02 07:00:00\"),\n",
    "    depot_close=pandas.Timestamp(\"2030-01-02 20:00:00\"),\n",
    "    depot_name=depot['name'],\n",
    ")\n",
    "print(\"adding clients\")\n",
    "\n",
    "m.add_clients(\n",
    "    locations = _clients.geometry, \n",
    "    delivery = _clients.demand,\n",
    "    pickup = _clients.supply,\n",
    "    time_windows=None,\n",
    "    service_times=(numpy.log(_clients.demand)**2).astype(int)\n",
    ")\n",
    "print(\"adding trucks\")\n",
    "m.add_trucks_from_frame(\n",
    "    trucks, \n",
    ")"
   ]
  },
  {
   "cell_type": "code",
   "execution_count": 13,
   "id": "cafb1ec1-5679-412b-af3b-32bf6d4c7428",
   "metadata": {
    "scrolled": true
   },
   "outputs": [
    {
     "data": {
      "text/plain": [
       "(-6.28688, 53.341972)"
      ]
     },
     "execution_count": 13,
     "metadata": {},
     "output_type": "execute_result"
    }
   ],
   "source": [
    "m.depot_location"
   ]
  },
  {
   "cell_type": "code",
   "execution_count": 14,
   "id": "55e5bb50-75b7-4d4b-bd41-80ed8d2141b5",
   "metadata": {
    "scrolled": true
   },
   "outputs": [
    {
     "name": "stdout",
     "output_type": "stream",
     "text": [
      "PyVRP v0.11.3\n",
      "\n",
      "Solving an instance with:\n",
      "    1 depot\n",
      "    90 clients\n",
      "    70 vehicles (6 vehicle types)\n",
      "\n",
      "                  |       Feasible        |      Infeasible\n",
      "    Iters    Time |   #      Avg     Best |   #      Avg     Best\n",
      "H     500      9s |  33 10656306  7702446 |  58  7552892  7442864\n",
      "     1000     16s |  26 11378776  7702446 |  47  7746625  7674608\n",
      "     1500     23s |  34  7732870  7702446 |  65  6375223  6116902\n",
      "     2000     30s |  25  7728946  7702446 |  64  7181224  7083976\n",
      "     2500     37s |  36  7800296  7702446 |  36  5407215  4917004\n",
      "     3000     44s |  25  7717886  7702446 |  35  7454999  7401870\n",
      "     3500     51s |  63  7732939  7702446 |  28  6178615  5948820\n",
      "     4000     57s |  62  7742206  7702446 |  60  5958374  5515747\n",
      "     4500     64s |  27  7722186  7702446 |  31  7949287  7713186\n",
      "     5000     71s |  55  7755851  7702446 |  36  8030015  7713790\n",
      "     5500     78s |  30  7719508  7702446 |  55  5695164  5311965\n",
      "     6000     84s |  31  7723514  7702446 |  29  8685429  7800358\n",
      "     6500     91s |  27  7717023  7702446 |  43  6810424  6727943\n",
      "     7000     98s |  35  7732137  7702446 |  64  5918409  5118737\n",
      "     7500    104s |  44  7725334  7702446 |  38  6271252  6204589\n",
      "     8000    111s |  33  7739225  7702446 |  35  5869808  5716862\n",
      "     8500    118s |  26  7724026  7702446 |  36  6574288  6433842\n",
      "     9000    124s |  34  7723784  7702446 |  36  6655074  6522617\n",
      "     9500    131s |  65  7741380  7702446 |  26  7700290  7656097\n",
      "    10000    138s |  33  7732821  7702446 |  29  6303621  6103324\n",
      "    10500    144s |  50  7716894  7702446 |  29  8031000  7741942\n",
      "    11000    151s |  36  7723734  7702446 |  55  6062607  5695482\n",
      "    11500    157s |  34  7729422  7702446 |  37  6532348  6404284\n",
      "    12000    164s |  43  7747779  7702446 |  32  7435338  7384223\n",
      "    12500    171s |  54  7756565  7702446 |  32  7551151  7496626\n",
      "    13000    177s |  60  7776919  7702446 |  27  5523512  5459142\n",
      "    13500    184s |  53  7732896  7702446 |  37  7872361  7705930\n",
      "    14000    190s |  50  7742985  7702446 |  48  6834994  5167509\n",
      "    14500    197s |  49  7815116  7702446 |  58  5815098  5209560\n",
      "    15000    205s |  53  7807261  7702446 |  41  5808192  5297708\n",
      "    15500    212s |  42  7734642  7702446 |  33  7521857  7454946\n",
      "    16000    218s |  39  7748792  7702446 |  32  5683033  5440702\n",
      "    16500    225s |  63  7738771  7702446 |  47  7836038  7719701\n",
      "    17000    232s |  29  7721373  7702446 |  51  7922592  7717153\n",
      "    17500    239s |  26  7713985  7702446 |  39  8206388  7741098\n",
      "    18000    246s |  35  7760054  7702446 |  26  5414505  5283678\n",
      "    18500    253s |  36  7741645  7702446 |  55  6735627  6503997\n",
      "    19000    260s |  46  7748268  7702446 |  28  5703625  5418853\n",
      "    19500    267s |  42  7724558  7702446 |  41  5990535  5520731\n",
      "    20000    274s |  44  7728801  7702446 |  27  5842010  5629177\n",
      "R                 |        restart        |        restart\n",
      "    20500    282s |  50 58576748  7853022 |  26  8726775  7823949\n",
      "    21000    290s |  46  9883758  7724664 |  45  6730089  6486302\n",
      "    21500    297s |  50  9693004  7721644 |  53  6542791  5943282\n",
      "\n",
      "Search terminated in 300.01s after 21692 iterations.\n",
      "Best-found solution has cost 7702446.\n",
      "\n",
      "Solution results\n",
      "================\n",
      "    # routes: 2\n",
      "     # trips: 2\n",
      "   # clients: 90\n",
      "   objective: 7702446\n",
      "    distance: 86199\n",
      "    duration: 318\n",
      "# iterations: 21692\n",
      "    run-time: 300.01 seconds\n",
      "\n"
     ]
    },
    {
     "data": {
      "text/plain": [
       "<spopt.route.heuristic.LastMile at 0x7f5894150d40>"
      ]
     },
     "execution_count": 14,
     "metadata": {},
     "output_type": "execute_result"
    }
   ],
   "source": [
    "m.solve(stop=pyvrp.stop.MaxRuntime(300))"
   ]
  },
  {
   "cell_type": "code",
   "execution_count": 16,
   "id": "6d5a7b2b-46b3-4740-bdee-64a93741cf43",
   "metadata": {},
   "outputs": [],
   "source": [
    "m.write_result(\"docker-image\")"
   ]
  },
  {
   "cell_type": "code",
   "execution_count": null,
   "id": "5d59d209-ddc3-4a9f-afab-f54375c9bbca",
   "metadata": {},
   "outputs": [],
   "source": []
  }
 ],
 "metadata": {
  "kernelspec": {
   "display_name": "Python 3 (ipykernel)",
   "language": "python",
   "name": "python3"
  },
  "language_info": {
   "codemirror_mode": {
    "name": "ipython",
    "version": 3
   },
   "file_extension": ".py",
   "mimetype": "text/x-python",
   "name": "python",
   "nbconvert_exporter": "python",
   "pygments_lexer": "ipython3",
   "version": "3.12.11"
  }
 },
 "nbformat": 4,
 "nbformat_minor": 5
}
