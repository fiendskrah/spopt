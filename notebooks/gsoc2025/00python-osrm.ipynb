{
 "cells": [
  {
   "cell_type": "code",
   "execution_count": 1,
   "id": "a84cae3b-8f0c-4e93-895d-9373a07c6f7b",
   "metadata": {},
   "outputs": [],
   "source": [
    "import osrm"
   ]
  },
  {
   "cell_type": "markdown",
   "id": "a07cdefb-5f84-446e-a9f4-698981a8ea7b",
   "metadata": {},
   "source": [
    "This is different than the package `py-osrm`. Unfortunately, they both import as osrm. So if you want this to work again, you may have to install `python-osrm`. confusing."
   ]
  },
  {
   "cell_type": "markdown",
   "id": "055fc866-2a88-46ca-99d4-8d9c8a055d69",
   "metadata": {},
   "source": [
    "First task is to figure out how to connect my OSRM engine"
   ]
  },
  {
   "cell_type": "code",
   "execution_count": 2,
   "id": "2bcebc65-6be4-4a7b-9f2e-859c2fe53ac4",
   "metadata": {},
   "outputs": [],
   "source": [
    "osrm.RequestConfig.host = 'http://localhost:5000'\n",
    "osrm.RequestConfig.profile = 'car'"
   ]
  },
  {
   "cell_type": "markdown",
   "id": "a561a660-b49f-40a5-aeb2-0286a7454f8b",
   "metadata": {},
   "source": [
    "To run this, I need to have an OSRM instance running on the server. Do this in the terminal:\n",
    "\n",
    "`docker run -t -i -p 5000:5000 -v \"${PWD}:/data\" ghcr.io/project-osrm/osrm-backend osrm-routed --algorithm mld /data/ireland-and-northern-ireland-latest.osrm`\n",
    "\n",
    "Must be done AFTER processing the data using the bash script in the data directory\n",
    "\n",
    "... Also I don't know how to turn it off? \"the port is already allocated\""
   ]
  },
  {
   "cell_type": "code",
   "execution_count": 3,
   "id": "f318cb7c-8a4d-4470-ba32-88a17f798be7",
   "metadata": {},
   "outputs": [],
   "source": [
    "import geopandas as gpd"
   ]
  },
  {
   "cell_type": "code",
   "execution_count": 4,
   "id": "4e8f8523-701f-4f57-bdb3-e33958465553",
   "metadata": {},
   "outputs": [],
   "source": [
    "dublin_pubs = gpd.read_file('/home/dylan/projects/gsoc2025/spopt/notebooks/gsoc2025/data/dublin-pubs.geojson')"
   ]
  },
  {
   "cell_type": "code",
   "execution_count": 5,
   "id": "05a1ffd8-7160-4468-bfb4-a817e168b2fc",
   "metadata": {},
   "outputs": [],
   "source": [
    "a = dublin_pubs.iloc[0]\n",
    "b = dublin_pubs.iloc[1]"
   ]
  },
  {
   "cell_type": "code",
   "execution_count": 6,
   "id": "e37b92ba-e0be-4acc-8b2d-a00723333dd0",
   "metadata": {},
   "outputs": [],
   "source": [
    "result = osrm.simple_route([float(a.geometry.x), float(a.geometry.y)], [float(b.geometry.x), float(b.geometry.y)], output='route', overview=\"full\", geometry='wkt')"
   ]
  },
  {
   "cell_type": "code",
   "execution_count": 7,
   "id": "70266020-584c-42be-9082-26634db1ba8c",
   "metadata": {},
   "outputs": [
    {
     "data": {
      "text/plain": [
       "dict_keys(['legs', 'weight_name', 'geometry', 'weight', 'duration', 'distance'])"
      ]
     },
     "execution_count": 7,
     "metadata": {},
     "output_type": "execute_result"
    }
   ],
   "source": [
    "result[0].keys()\n",
    "# data and metadata for the route"
   ]
  },
  {
   "cell_type": "code",
   "execution_count": 8,
   "id": "205a4925-53a2-4ab2-864e-e9c08c5ab060",
   "metadata": {},
   "outputs": [
    {
     "data": {
      "text/plain": [
       "str"
      ]
     },
     "execution_count": 8,
     "metadata": {},
     "output_type": "execute_result"
    }
   ],
   "source": [
    "type(result[0]['geometry'])\n",
    "# is a basic string, needs to be converted to a shapely geometry"
   ]
  },
  {
   "cell_type": "code",
   "execution_count": 10,
   "id": "64728f58-6aff-4b6b-a264-b90e04aefa2f",
   "metadata": {},
   "outputs": [],
   "source": [
    "linestring_str = result[0]['geometry']"
   ]
  },
  {
   "cell_type": "code",
   "execution_count": 11,
   "id": "0a8d28a5-066d-4251-a729-d63482f89a17",
   "metadata": {},
   "outputs": [],
   "source": [
    "from shapely import wkt\n",
    "geometry = wkt.loads(linestring_str)"
   ]
  },
  {
   "cell_type": "code",
   "execution_count": 12,
   "id": "7f454b27-dd66-4453-91bf-c8ab177008e7",
   "metadata": {},
   "outputs": [
    {
     "data": {
      "image/svg+xml": [
       "<svg xmlns=\"http://www.w3.org/2000/svg\" xmlns:xlink=\"http://www.w3.org/1999/xlink\" width=\"100.0\" height=\"100.0\" viewBox=\"-6.2598616 53.3277784 0.030553199999999947 0.015933199999999204\" preserveAspectRatio=\"xMinYMin meet\"><g transform=\"matrix(1,0,0,-1,0,106.67149)\"><polyline fill=\"none\" stroke=\"#66cc99\" stroke-width=\"0.0006110639999999989\" points=\"-6.25873,53.33971 -6.25868,53.3399 -6.25862,53.3401 -6.25859,53.3402 -6.25857,53.34025 -6.2585,53.34049 -6.25843,53.34072 -6.25836,53.34098 -6.25832,53.3411 -6.25826,53.34129 -6.25824,53.34129 -6.2582,53.34128 -6.25817,53.34128 -6.25812,53.34127 -6.25717,53.34117 -6.25704,53.34114 -6.257,53.34122 -6.25682,53.34159 -6.2567,53.34184 -6.25635,53.34255 -6.25633,53.34258 -6.25616,53.34254 -6.25581,53.34246 -6.25565,53.34242 -6.25512,53.34231 -6.2547,53.34222 -6.25464,53.34221 -6.25462,53.3422 -6.25455,53.34219 -6.25443,53.34216 -6.25441,53.34216 -6.25364,53.342 -6.25307,53.34188 -6.25298,53.34187 -6.2529,53.34186 -6.25283,53.34185 -6.25277,53.34185 -6.25273,53.34185 -6.25262,53.34185 -6.25254,53.34185 -6.25253,53.34182 -6.25252,53.34179 -6.25248,53.34175 -6.25244,53.34173 -6.25237,53.34171 -6.25217,53.34164 -6.25213,53.34163 -6.25154,53.34144 -6.251,53.34126 -6.25095,53.34124 -6.25091,53.34122 -6.25076,53.34117 -6.25056,53.3411 -6.25042,53.34105 -6.25006,53.34091 -6.2492,53.34061 -6.24786,53.34014 -6.24774,53.3401 -6.2475,53.34001 -6.24729,53.33993 -6.24688,53.33979 -6.24671,53.33973 -6.24636,53.33959 -6.2462,53.33954 -6.24614,53.33952 -6.24583,53.33941 -6.24539,53.33926 -6.24523,53.33921 -6.24515,53.33918 -6.24481,53.33907 -6.2444,53.33893 -6.24394,53.33878 -6.24365,53.33869 -6.24353,53.33865 -6.24336,53.33859 -6.24324,53.33855 -6.24235,53.33825 -6.24223,53.33822 -6.24216,53.33819 -6.24176,53.33806 -6.24155,53.33799 -6.24132,53.33791 -6.24106,53.33783 -6.24082,53.33775 -6.24077,53.33773 -6.24073,53.33772 -6.2406,53.33767 -6.24051,53.33764 -6.24048,53.33763 -6.24043,53.3376 -6.24037,53.33758 -6.24031,53.33755 -6.24023,53.33751 -6.24017,53.33747 -6.24009,53.33742 -6.23982,53.33725 -6.23972,53.33719 -6.23916,53.33683 -6.2388,53.3366 -6.23874,53.33656 -6.23814,53.33614 -6.23804,53.33604 -6.23783,53.33574 -6.23767,53.33552 -6.23749,53.33526 -6.23724,53.33493 -6.23708,53.33472 -6.23705,53.33468 -6.23692,53.33449 -6.23684,53.33437 -6.23675,53.33424 -6.23669,53.33415 -6.23668,53.33414 -6.23663,53.33406 -6.23654,53.33394 -6.23628,53.33355 -6.23619,53.33342 -6.23615,53.33337 -6.23609,53.33328 -6.23598,53.33312 -6.23588,53.33298 -6.23582,53.33289 -6.2356,53.33258 -6.23547,53.3324 -6.23541,53.33231 -6.23531,53.3322 -6.23508,53.33193 -6.23497,53.33182 -6.23484,53.33173 -6.23466,53.33158 -6.23452,53.33147 -6.23371,53.33082 -6.23354,53.33069 -6.23308,53.3303 -6.23275,53.33003 -6.23224,53.32964 -6.23201,53.32953 -6.23185,53.32945 -6.23176,53.3294 -6.23153,53.3293 -6.23151,53.32929 -6.23135,53.32922 -6.23118,53.32915 -6.23113,53.32913 -6.23103,53.32909 -6.23092,53.32909 -6.23083,53.32906 -6.23075,53.32902 -6.23068,53.329 -6.23044,53.32891\" opacity=\"0.8\" /></g></svg>"
      ],
      "text/plain": [
       "<LINESTRING (-6.259 53.34, -6.259 53.34, -6.259 53.34, -6.259 53.34, -6.259 ...>"
      ]
     },
     "execution_count": 12,
     "metadata": {},
     "output_type": "execute_result"
    }
   ],
   "source": [
    "geometry"
   ]
  },
  {
   "cell_type": "code",
   "execution_count": 14,
   "id": "3a2ecb34-d1ca-4e2d-8e1e-1d293474478b",
   "metadata": {},
   "outputs": [
    {
     "data": {
      "text/plain": [
       "339.3"
      ]
     },
     "execution_count": 14,
     "metadata": {},
     "output_type": "execute_result"
    }
   ],
   "source": [
    "result[0]['duration']"
   ]
  },
  {
   "cell_type": "code",
   "execution_count": 15,
   "id": "74db2550-87d0-4904-998a-d59036b47732",
   "metadata": {},
   "outputs": [
    {
     "data": {
      "text/plain": [
       "2831.9"
      ]
     },
     "execution_count": 15,
     "metadata": {},
     "output_type": "execute_result"
    }
   ],
   "source": [
    "result[0]['distance']"
   ]
  },
  {
   "cell_type": "code",
   "execution_count": 16,
   "id": "cff4b743-e53d-42c4-b8fa-4965fdee5a67",
   "metadata": {},
   "outputs": [],
   "source": [
    "import pandas, numpy"
   ]
  },
  {
   "cell_type": "code",
   "execution_count": 17,
   "id": "cffde5bf-d7b2-487b-b9e3-a9f034c5ccd7",
   "metadata": {},
   "outputs": [],
   "source": [
    "import sys\n",
    "sys.path.insert(0, '/home/dylan/projects/gsoc2025/spopt/') # not the published spopt\n",
    "import spopt"
   ]
  },
  {
   "cell_type": "code",
   "execution_count": 18,
   "id": "718388a5-0caa-4e61-83ab-ceb334b62b08",
   "metadata": {},
   "outputs": [
    {
     "name": "stdout",
     "output_type": "stream",
     "text": [
      "/home/dylan/projects/gsoc2025/spopt/spopt/__init__.py\n"
     ]
    }
   ],
   "source": [
    "print(spopt.__file__)"
   ]
  },
  {
   "cell_type": "code",
   "execution_count": 19,
   "id": "3d52adf8-d96b-4ac7-aaff-d635307ea089",
   "metadata": {},
   "outputs": [],
   "source": [
    "from spopt.route import engine, heuristic, utils"
   ]
  },
  {
   "cell_type": "code",
   "execution_count": 20,
   "id": "ca4bac43-74fc-478d-a779-65da60ab3997",
   "metadata": {},
   "outputs": [],
   "source": [
    "from spopt.route.heuristic import LastMile\n",
    "from pyvrp import stop"
   ]
  },
  {
   "cell_type": "code",
   "execution_count": 21,
   "id": "491491e9-b161-4656-b4c6-bda8053b1a97",
   "metadata": {},
   "outputs": [],
   "source": [
    "trucks = pandas.DataFrame(\n",
    "    [['big', 'lng',      2000,    280, .004,  .50, 5],\n",
    "     ['big', 'electric', 2000,    480, .002,  .50, 5],\n",
    "     ['med', 'lng',      800, 280*.66, .0001, .63, 10],\n",
    "     ['med', 'electric', 800, 480*.66, .004,  .50, 10],\n",
    "     ['smo', 'lng',      400, 280*0.4, .002,  .50, 20],\n",
    "     ['smo', 'electric', 400, 480*0.4, .0001, .63, 20],\n",
    "     ],\n",
    "     columns = [\n",
    "         'namesize', 'namefuel', 'capacity', \n",
    "         'fixed_cost', 'cost_per_meter', 'cost_per_minute', 'n_truck'\n",
    "         ]\n",
    ")"
   ]
  },
  {
   "cell_type": "code",
   "execution_count": 22,
   "id": "259c607f-c925-400d-ad96-21adc7fb4541",
   "metadata": {},
   "outputs": [],
   "source": [
    "dublin_pubs = gpd.read_file('/home/dylan/projects/gsoc2025/spopt/notebooks/gsoc2025/data/dublin-pubs.geojson')"
   ]
  },
  {
   "cell_type": "code",
   "execution_count": 23,
   "id": "9ade84cb-0eae-4033-b604-f7473d102121",
   "metadata": {},
   "outputs": [
    {
     "data": {
      "text/plain": [
       "(408, 9)"
      ]
     },
     "execution_count": 23,
     "metadata": {},
     "output_type": "execute_result"
    }
   ],
   "source": [
    "dublin_pubs.shape"
   ]
  },
  {
   "cell_type": "code",
   "execution_count": 24,
   "id": "31dae4dc-1f94-46fd-aad4-51f0c9bff2f7",
   "metadata": {},
   "outputs": [],
   "source": [
    "gdf = dublin_pubs\n",
    "gdf = gdf.iloc[:407]"
   ]
  },
  {
   "cell_type": "code",
   "execution_count": 25,
   "id": "69cf88ac-82f0-44e4-a86b-78128379cf58",
   "metadata": {},
   "outputs": [
    {
     "name": "stderr",
     "output_type": "stream",
     "text": [
      "/home/dylan/mambaforge/envs/gsoc/lib/python3.11/site-packages/geopandas/geodataframe.py:1819: SettingWithCopyWarning: \n",
      "A value is trying to be set on a copy of a slice from a DataFrame.\n",
      "Try using .loc[row_indexer,col_indexer] = value instead\n",
      "\n",
      "See the caveats in the documentation: https://pandas.pydata.org/pandas-docs/stable/user_guide/indexing.html#returning-a-view-versus-a-copy\n",
      "  super().__setitem__(key, value)\n",
      "/home/dylan/mambaforge/envs/gsoc/lib/python3.11/site-packages/geopandas/geodataframe.py:1819: SettingWithCopyWarning: \n",
      "A value is trying to be set on a copy of a slice from a DataFrame.\n",
      "Try using .loc[row_indexer,col_indexer] = value instead\n",
      "\n",
      "See the caveats in the documentation: https://pandas.pydata.org/pandas-docs/stable/user_guide/indexing.html#returning-a-view-versus-a-copy\n",
      "  super().__setitem__(key, value)\n"
     ]
    }
   ],
   "source": [
    "gdf['longitude'] = gdf.geometry.x\n",
    "gdf['latitude'] = gdf.geometry.y"
   ]
  },
  {
   "cell_type": "code",
   "execution_count": 26,
   "id": "18aac704-1bea-4180-b24a-f434a35868f3",
   "metadata": {},
   "outputs": [],
   "source": [
    "depot = gdf.iloc[0] #unsure where the depot is?\n",
    "clients = gdf.iloc[1:] "
   ]
  },
  {
   "cell_type": "code",
   "execution_count": 28,
   "id": "5a948283-3b47-49d1-8654-0d784f6176fb",
   "metadata": {},
   "outputs": [
    {
     "name": "stderr",
     "output_type": "stream",
     "text": [
      "/home/dylan/mambaforge/envs/gsoc/lib/python3.11/site-packages/geopandas/geodataframe.py:1819: SettingWithCopyWarning: \n",
      "A value is trying to be set on a copy of a slice from a DataFrame.\n",
      "Try using .loc[row_indexer,col_indexer] = value instead\n",
      "\n",
      "See the caveats in the documentation: https://pandas.pydata.org/pandas-docs/stable/user_guide/indexing.html#returning-a-view-versus-a-copy\n",
      "  super().__setitem__(key, value)\n",
      "/home/dylan/mambaforge/envs/gsoc/lib/python3.11/site-packages/geopandas/geodataframe.py:1819: SettingWithCopyWarning: \n",
      "A value is trying to be set on a copy of a slice from a DataFrame.\n",
      "Try using .loc[row_indexer,col_indexer] = value instead\n",
      "\n",
      "See the caveats in the documentation: https://pandas.pydata.org/pandas-docs/stable/user_guide/indexing.html#returning-a-view-versus-a-copy\n",
      "  super().__setitem__(key, value)\n"
     ]
    }
   ],
   "source": [
    "clients['demand'] = 1\n",
    "clients['supply'] = 1"
   ]
  },
  {
   "cell_type": "code",
   "execution_count": 29,
   "id": "8a09436d-a326-4967-8ac9-0c8343fc69aa",
   "metadata": {},
   "outputs": [
    {
     "name": "stdout",
     "output_type": "stream",
     "text": [
      "initializing model\n",
      "adding clients\n",
      "adding trucks\n"
     ]
    },
    {
     "ename": "AttributeError",
     "evalue": "module 'osrm' has no attribute 'OSRM'",
     "output_type": "error",
     "traceback": [
      "\u001b[31m---------------------------------------------------------------------------\u001b[39m",
      "\u001b[31mAttributeError\u001b[39m                            Traceback (most recent call last)",
      "\u001b[36mCell\u001b[39m\u001b[36m \u001b[39m\u001b[32mIn[29]\u001b[39m\u001b[32m, line 21\u001b[39m\n\u001b[32m     17\u001b[39m \u001b[38;5;28mprint\u001b[39m(\u001b[33m\"\u001b[39m\u001b[33madding trucks\u001b[39m\u001b[33m\"\u001b[39m)\n\u001b[32m     18\u001b[39m m.add_trucks_from_frame(\n\u001b[32m     19\u001b[39m     trucks, \n\u001b[32m     20\u001b[39m )\n\u001b[32m---> \u001b[39m\u001b[32m21\u001b[39m \u001b[43mm\u001b[49m\u001b[43m.\u001b[49m\u001b[43msolve\u001b[49m\u001b[43m(\u001b[49m\u001b[43mstop\u001b[49m\u001b[43m=\u001b[49m\u001b[43mstop\u001b[49m\u001b[43m.\u001b[49m\u001b[43mMaxRuntime\u001b[49m\u001b[43m(\u001b[49m\u001b[32;43m60\u001b[39;49m\u001b[43m)\u001b[49m\u001b[43m)\u001b[49m\n\u001b[32m     22\u001b[39m m.write_result(\u001b[33m\"\u001b[39m\u001b[33m./guinness\u001b[39m\u001b[33m\"\u001b[39m)\n",
      "\u001b[36mFile \u001b[39m\u001b[32m~/projects/gsoc2025/spopt/spopt/route/heuristic.py:354\u001b[39m, in \u001b[36mLastMile.solve\u001b[39m\u001b[34m(self, stop, *args, **kwargs)\u001b[39m\n\u001b[32m    348\u001b[39m     \u001b[38;5;28;01mraise\u001b[39;00m SpecificationError(\n\u001b[32m    349\u001b[39m         \u001b[33m\"\u001b[39m\u001b[33mmust assign both clients and trucks to\u001b[39m\u001b[33m\"\u001b[39m \u001b[33m\"\u001b[39m\u001b[33m solve a problem instance.\u001b[39m\u001b[33m\"\u001b[39m\n\u001b[32m    350\u001b[39m     )\n\u001b[32m    351\u001b[39m all_lonlats = numpy.row_stack(\n\u001b[32m    352\u001b[39m     (\u001b[38;5;28mself\u001b[39m.depot_location, shapely.get_coordinates(\u001b[38;5;28mself\u001b[39m.clients_.geometry))\n\u001b[32m    353\u001b[39m )\n\u001b[32m--> \u001b[39m\u001b[32m354\u001b[39m \u001b[38;5;28;43mself\u001b[39;49m\u001b[43m.\u001b[49m\u001b[43m_setup_graph\u001b[49m\u001b[43m(\u001b[49m\u001b[43mall_lonlats\u001b[49m\u001b[43m=\u001b[49m\u001b[43mall_lonlats\u001b[49m\u001b[43m)\u001b[49m\n\u001b[32m    355\u001b[39m \u001b[38;5;28mself\u001b[39m.result_ = \u001b[38;5;28mself\u001b[39m.model.solve(stop=stop, *args, **kwargs)\n\u001b[32m    356\u001b[39m \u001b[38;5;28mself\u001b[39m.routes_, \u001b[38;5;28mself\u001b[39m.stops_ = utils.routes_and_stops(\n\u001b[32m    357\u001b[39m     \u001b[38;5;28mself\u001b[39m.result_.best, \u001b[38;5;28mself\u001b[39m.model, \u001b[38;5;28mself\u001b[39m.clients_, \u001b[38;5;28mself\u001b[39m.depot_location, cost_unit=\u001b[38;5;28mself\u001b[39m.cost_unit\n\u001b[32m    358\u001b[39m )\n",
      "\u001b[36mFile \u001b[39m\u001b[32m~/projects/gsoc2025/spopt/spopt/route/heuristic.py:397\u001b[39m, in \u001b[36mLastMile._setup_graph\u001b[39m\u001b[34m(self, all_lonlats)\u001b[39m\n\u001b[32m    387\u001b[39m \u001b[38;5;28;01mdef\u001b[39;00m\u001b[38;5;250m \u001b[39m\u001b[34m_setup_graph\u001b[39m(\u001b[38;5;28mself\u001b[39m, all_lonlats):\n\u001b[32m    388\u001b[39m \u001b[38;5;250m    \u001b[39m\u001b[33;03m\"\"\"\u001b[39;00m\n\u001b[32m    389\u001b[39m \u001b[33;03m    This sets up the graph pertaining to an inputted set of longitude and latitude coordinates. \u001b[39;00m\n\u001b[32m    390\u001b[39m \n\u001b[32m   (...)\u001b[39m\u001b[32m    395\u001b[39m \u001b[33;03m    with an edge for each profile. \u001b[39;00m\n\u001b[32m    396\u001b[39m \u001b[33;03m    \"\"\"\u001b[39;00m\n\u001b[32m--> \u001b[39m\u001b[32m397\u001b[39m     raw_distances, raw_durations = \u001b[43mengine\u001b[49m\u001b[43m.\u001b[49m\u001b[43mbuild_route_table\u001b[49m\u001b[43m(\u001b[49m\n\u001b[32m    398\u001b[39m \u001b[43m        \u001b[49m\u001b[43mall_lonlats\u001b[49m\u001b[43m,\u001b[49m\u001b[43m \u001b[49m\u001b[43mall_lonlats\u001b[49m\u001b[43m,\u001b[49m\u001b[43m \u001b[49m\u001b[43mcost\u001b[49m\u001b[43m=\u001b[49m\u001b[33;43m\"\u001b[39;49m\u001b[33;43mboth\u001b[39;49m\u001b[33;43m\"\u001b[39;49m\n\u001b[32m    399\u001b[39m \u001b[43m    \u001b[49m\u001b[43m)\u001b[49m\n\u001b[32m    400\u001b[39m     \u001b[38;5;66;03m# how many minutes does it take to get from place to place?\u001b[39;00m\n\u001b[32m    401\u001b[39m     durations_by_block = numpy.ceil(raw_durations / \u001b[32m60\u001b[39m)\n",
      "\u001b[36mFile \u001b[39m\u001b[32m~/projects/gsoc2025/spopt/spopt/route/engine.py:42\u001b[39m, in \u001b[36mbuild_route_table\u001b[39m\u001b[34m(demand_sites, candidate_depots, cost, http, database_path, port)\u001b[39m\n\u001b[32m     40\u001b[39m         durations = numpy.ceil((distances / \u001b[32m10\u001b[39m) ** \u001b[32m.75\u001b[39m)\n\u001b[32m     41\u001b[39m \u001b[38;5;28;01melse\u001b[39;00m:\n\u001b[32m---> \u001b[39m\u001b[32m42\u001b[39m     distances, durations = \u001b[43m_build_route_table_pyosrm\u001b[49m\u001b[43m(\u001b[49m\n\u001b[32m     43\u001b[39m \u001b[43m        \u001b[49m\u001b[43mdemand_sites\u001b[49m\u001b[43m,\u001b[49m\u001b[43m \u001b[49m\u001b[43mcandidate_depots\u001b[49m\u001b[43m,\u001b[49m\u001b[43m \u001b[49m\u001b[43mdatabase_path\u001b[49m\u001b[43m=\u001b[49m\u001b[43mdatabase_path\u001b[49m\u001b[43m \u001b[49m\n\u001b[32m     44\u001b[39m \u001b[43m    \u001b[49m\u001b[43m)\u001b[49m\n\u001b[32m     45\u001b[39m \u001b[38;5;28;01mfor\u001b[39;00m D \u001b[38;5;129;01min\u001b[39;00m (distances, durations):\n\u001b[32m     46\u001b[39m     \u001b[38;5;28;01mif\u001b[39;00m D \u001b[38;5;129;01mis\u001b[39;00m \u001b[38;5;28;01mNone\u001b[39;00m:\n",
      "\u001b[36mFile \u001b[39m\u001b[32m~/projects/gsoc2025/spopt/spopt/route/engine.py:207\u001b[39m, in \u001b[36m_build_route_table_pyosrm\u001b[39m\u001b[34m(demand_sites, candidate_depots, database_path)\u001b[39m\n\u001b[32m    202\u001b[39m \u001b[38;5;28;01mdef\u001b[39;00m\u001b[38;5;250m \u001b[39m\u001b[34m_build_route_table_pyosrm\u001b[39m(demand_sites, candidate_depots, database_path=_OSRM_DATABASE_FILE): \n\u001b[32m    203\u001b[39m \u001b[38;5;250m    \u001b[39m\u001b[33;03m\"\"\"\u001b[39;00m\n\u001b[32m    204\u001b[39m \u001b[33;03m    build a route table using py-osrm\u001b[39;00m\n\u001b[32m    205\u001b[39m \u001b[33;03m    https://github.com/gis-ops/py-osrm\u001b[39;00m\n\u001b[32m    206\u001b[39m \u001b[33;03m    \"\"\"\u001b[39;00m\n\u001b[32m--> \u001b[39m\u001b[32m207\u001b[39m     engine = \u001b[43mosrm\u001b[49m\u001b[43m.\u001b[49m\u001b[43mOSRM\u001b[49m(\n\u001b[32m    208\u001b[39m         storage_config=database_path, \n\u001b[32m    209\u001b[39m         use_shared_memory=\u001b[38;5;28;01mFalse\u001b[39;00m\n\u001b[32m    210\u001b[39m         )\n\u001b[32m    211\u001b[39m     n_demands = \u001b[38;5;28mlen\u001b[39m(demand_sites)\n\u001b[32m    212\u001b[39m     n_supplys = \u001b[38;5;28mlen\u001b[39m(candidate_depots)\n",
      "\u001b[31mAttributeError\u001b[39m: module 'osrm' has no attribute 'OSRM'"
     ]
    }
   ],
   "source": [
    "print('initializing model')\n",
    "m = LastMile(\n",
    "    depot_location=(depot.longitude.item(), depot.latitude.item()),\n",
    "    depot_open=pandas.Timestamp(\"2030-01-02 07:00:00\"),\n",
    "    depot_close=pandas.Timestamp(\"2030-01-02 20:00:00\"),\n",
    "    depot_name=depot['name'],\n",
    ")\n",
    "print(\"adding clients\")\n",
    "\n",
    "m.add_clients(\n",
    "    locations = clients.geometry, \n",
    "    delivery = clients.demand,\n",
    "    pickup = clients.supply,\n",
    "    time_windows=None,\n",
    "    service_times=(numpy.log(clients.demand)**2).astype(int)\n",
    ")\n",
    "print(\"adding trucks\")\n",
    "m.add_trucks_from_frame(\n",
    "    trucks, \n",
    ")\n",
    "m.solve(stop=stop.MaxRuntime(60))\n",
    "m.write_result(\"./guinness\")"
   ]
  },
  {
   "cell_type": "code",
   "execution_count": 31,
   "id": "572feaa0-2765-4983-b534-00c618ec40a9",
   "metadata": {},
   "outputs": [
    {
     "data": {
      "text/plain": [
       "['AccessIsochrone',\n",
       " 'DefaultRequestConfig',\n",
       " 'Point',\n",
       " 'RequestConfig',\n",
       " '__builtins__',\n",
       " '__cached__',\n",
       " '__doc__',\n",
       " '__file__',\n",
       " '__loader__',\n",
       " '__name__',\n",
       " '__package__',\n",
       " '__path__',\n",
       " '__spec__',\n",
       " '__version__',\n",
       " '_chain',\n",
       " 'base64',\n",
       " 'core',\n",
       " 'extra',\n",
       " 'match',\n",
       " 'namedtuple',\n",
       " 'nearest',\n",
       " 'simple_route',\n",
       " 'sys',\n",
       " 'table',\n",
       " 'trip']"
      ]
     },
     "execution_count": 31,
     "metadata": {},
     "output_type": "execute_result"
    }
   ],
   "source": [
    "dir(osrm)"
   ]
  },
  {
   "cell_type": "code",
   "execution_count": null,
   "id": "0437880b-8aa5-4f17-b784-840e0286a6cb",
   "metadata": {},
   "outputs": [],
   "source": [
    "result[0]['duration']"
   ]
  }
 ],
 "metadata": {
  "kernelspec": {
   "display_name": "Python 3 (ipykernel)",
   "language": "python",
   "name": "python3"
  },
  "language_info": {
   "codemirror_mode": {
    "name": "ipython",
    "version": 3
   },
   "file_extension": ".py",
   "mimetype": "text/x-python",
   "name": "python",
   "nbconvert_exporter": "python",
   "pygments_lexer": "ipython3",
   "version": "3.11.13"
  }
 },
 "nbformat": 4,
 "nbformat_minor": 5
}
