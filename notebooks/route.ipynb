{
 "cells": [
  {
   "cell_type": "markdown",
   "id": "f8ec5749-b4bd-4d44-82e3-3a96bda20d0c",
   "metadata": {},
   "source": [
    "# Reproduce Guinness example With OSRM docker image"
   ]
  },
  {
   "cell_type": "markdown",
   "id": "31aa6464-5f60-43cc-bfdc-3c06c42fe4fb",
   "metadata": {},
   "source": [
    "To utilize the OSRM routing engine, you should take a moment to set up the OSRM docker image on your machine. While this can be a little tedious to set up, this allows the `route` module to quickly identify shortest routes between points of interest and solve VRP problems."
   ]
  },
  {
   "cell_type": "markdown",
   "id": "24b30e86-812a-41a7-b34b-71bf369002c4",
   "metadata": {},
   "source": [
    "The first step to do this is to obtain the 'raw' data for the area in which you are operating. This takes the form of `.pbf` files, which can be obtained from the [geofabrik](https://download.geofabrik.de/_) portal. In our case, we obtain the [Ireland and Northern Ireland](https://download.geofabrik.de/europe/ireland-and-northern-ireland.html) `.pbf` file."
   ]
  },
  {
   "cell_type": "markdown",
   "id": "dec2703c-fb4e-4d0e-b19f-28d9d08d4051",
   "metadata": {},
   "source": [
    "Once downloaded, the `.pbf` needs to be processed using a series of extraction, partitioning, and customization commands. This is easiest to do as a shell script. The version of this script for this example can be found in `PATH/osrm.sh`, it looks like this:"
   ]
  },
  {
   "cell_type": "raw",
   "id": "c59cf306-5474-4d12-9306-27f2ca5e3a7c",
   "metadata": {},
   "source": [
    "docker run -t -v \"${PWD}:/data\" ghcr.io/project-osrm/osrm-backend osrm-extract -p /opt/car.lua /data/ireland-and-northern-ireland-latest.osm.pbf || echo \"osrm build failed\"\n",
    "docker run -t -v \"${PWD}:/data\" ghcr.io/project-osrm/osrm-backend osrm-partition /data/ireland-and-northern-ireland-latest.osrm || echo \"osrm-partition failed\"\n",
    "docker run -t -v \"${PWD}:/data\" ghcr.io/project-osrm/osrm-backend osrm-customize /data/ireland-and-northern-ireland-latest.osrm || echo \"osrm-customize failed\"\n",
    "echo \"osrm server can now be started\""
   ]
  },
  {
   "cell_type": "markdown",
   "id": "f25a7060-e4ac-4cba-8461-6c0edd795cd9",
   "metadata": {},
   "source": [
    "This script will create several additional files from the `.pbf` that you downloaded, which are required for identifying shortest routes and solving the VRP using real street network data."
   ]
  },
  {
   "cell_type": "markdown",
   "id": "12815db1-4eef-4722-a43b-a8c9fbb99fd3",
   "metadata": {},
   "source": [
    "Finally, the OSRM backend docker container should obtained and activated. While you do have the option to compile OSRM locally in C++, the docker container is a much simpler way to access the service. Find the latest release of the OSRM docker container at the [osrm-backend github repository](https://github.com/Project-OSRM/osrm-backend).\n",
    "\n",
    "This container should be 'spun up' as a service, meaning it holds a port on your machine available to hear requests and send those requests to the OSRM servers to obtain routes, distances, and durations. The `spopt.route` module will then take those data and solve the defined VRP. Once you have the docker image in your directory, start the service by running the following command in your terminal: "
   ]
  },
  {
   "cell_type": "markdown",
   "id": "1f842d0d-7fd5-45d1-86c9-2e10667bd04b",
   "metadata": {},
   "source": [
    "`docker run -t -i -p 5000:5000 -v \"${PWD}:/data\" ghcr.io/project-osrm/osrm-backend osrm-routed --algorithm mld --max-table-size 9999999 /data/ireland-and-northern-ireland-latest.osrm`"
   ]
  },
  {
   "cell_type": "markdown",
   "id": "e136a6cb-13fd-4604-998d-23448b79b995",
   "metadata": {},
   "source": [
    "Let's breakdown this command. This part:\n",
    "\n",
    "`docker run -t -i -p 5000:5000 -v \"${PWD}:/data\" ghcr.io/project-osrm/osrm-backend osrm-routed`\n",
    "\n",
    "says we're connecting to the docker service on the 5000 port. We're porting into the data directory of the backend and starting the osrm-routed service. \n",
    "\n",
    "This part:\n",
    " \n",
    "`--algorithm mld --max-table-size 9999999 /data/ireland-and-northern-ireland-latest.osrm`\n",
    "\n",
    "says that we're going to use the MLD (Multi-Level Dijkstra) algorithm to identify the most optimal routes in our problem. the `--max-table-size 99999999` argument indicates we are increasing the rate limitations for problem size, which is quite low by default. Finally, `data/ireland-and-northern-ireland-latest.osrm` is where our processed data file is, which tells OSRM where we're trying to operate. "
   ]
  },
  {
   "cell_type": "markdown",
   "id": "d8528667-9b41-4343-a81c-b170a5823649",
   "metadata": {},
   "source": [
    "After running this final command, the service is activated and listening for requests in your terminal. "
   ]
  },
  {
   "cell_type": "code",
   "execution_count": 1,
   "id": "ffd4aaa5-b5db-49a3-9be4-c359141b4842",
   "metadata": {},
   "outputs": [],
   "source": [
    "import geopandas as gpd\n",
    "import pandas, numpy, pyvrp, sys"
   ]
  },
  {
   "cell_type": "code",
   "execution_count": 2,
   "id": "4f40009e-a261-4ec6-afea-ce0e45e399a1",
   "metadata": {},
   "outputs": [],
   "source": [
    "sys.path.insert(0, '/home/dylan/projects/gsoc2025/spopt/') # not the published spopt"
   ]
  },
  {
   "cell_type": "code",
   "execution_count": 3,
   "id": "7153238c-6651-4e3b-897b-43d6b2703687",
   "metadata": {},
   "outputs": [
    {
     "name": "stdout",
     "output_type": "stream",
     "text": [
      "/home/dylan/projects/gsoc2025/spopt/spopt/__init__.py\n"
     ]
    }
   ],
   "source": [
    "import spopt\n",
    "print(spopt.__file__)"
   ]
  },
  {
   "cell_type": "code",
   "execution_count": 4,
   "id": "7692dbc6-9c14-4c7e-8129-be96b4dc2579",
   "metadata": {
    "scrolled": true
   },
   "outputs": [],
   "source": [
    "from spopt.route import engine, heuristic, utils"
   ]
  },
  {
   "cell_type": "code",
   "execution_count": 5,
   "id": "32fce62a-b642-4749-9c84-7846ce08140f",
   "metadata": {},
   "outputs": [],
   "source": [
    "from spopt.route.heuristic import LastMile\n",
    "from pyvrp import stop"
   ]
  },
  {
   "cell_type": "markdown",
   "id": "cd107187-edda-4c2d-af47-5f68802d3002",
   "metadata": {},
   "source": [
    "## Reproduce the guinness example"
   ]
  },
  {
   "cell_type": "code",
   "execution_count": 6,
   "id": "c5c9c91a-531e-40c2-ab4a-69ac992f17d8",
   "metadata": {},
   "outputs": [],
   "source": [
    "trucks = pandas.DataFrame(\n",
    "    [['big', 'lng',      2000,    280, .004,  .50, 5],\n",
    "     ['big', 'electric', 2000,    480, .002,  .50, 5],\n",
    "     ['med', 'lng',      800, 280*.66, .0001, .63, 10],\n",
    "     ['med', 'electric', 800, 480*.66, .004,  .50, 10],\n",
    "     ['smo', 'lng',      400, 280*0.4, .002,  .50, 20],\n",
    "     ['smo', 'electric', 400, 480*0.4, .0001, .63, 20],\n",
    "     ],\n",
    "     columns = [\n",
    "         'namesize', 'namefuel', 'capacity', \n",
    "         'fixed_cost', 'cost_per_meter', 'cost_per_minute', 'n_truck'\n",
    "         ]\n",
    ")"
   ]
  },
  {
   "cell_type": "markdown",
   "id": "fc7c65b9-4156-47d3-9316-6e3cb9072b70",
   "metadata": {},
   "source": [
    "In the code snippet above, we define a DataFrame quantifying the available fleet of trucks. Each row represents a different truck type, identified by size (`namesize`) and fuel type (`namefuel`). The `capacity` column indicates how much the truck can carry. `fixed_cost` is the base cost of using the truck, regardless of how far it travels. `cost_per_meter` and `cost_per_minute` represent variable costs that depend on distance and travel time. The `n_truck` column tells us how many of each truck type are available. "
   ]
  },
  {
   "cell_type": "markdown",
   "id": "07dd2029-b597-4111-9341-8363ed309a1b",
   "metadata": {},
   "source": [
    "Now we need to obtain the file for the depot and clients for this problem.\n",
    "\n",
    "(make available as a function? e.g. route.example()?)"
   ]
  },
  {
   "cell_type": "code",
   "execution_count": 7,
   "id": "c6c2dc1f-ba3f-4f4b-8b19-c487c9e6bb21",
   "metadata": {},
   "outputs": [],
   "source": [
    "dublin_pubs = gpd.read_file('/home/dylan/projects/gsoc2025/spopt/notebooks/gsoc2025/data/dublinpubs.geojson')"
   ]
  },
  {
   "cell_type": "code",
   "execution_count": 8,
   "id": "95a0eda5-6c6f-478e-9f8f-aacb67b3ecf1",
   "metadata": {},
   "outputs": [
    {
     "data": {
      "text/plain": [
       "(551, 8)"
      ]
     },
     "execution_count": 8,
     "metadata": {},
     "output_type": "execute_result"
    }
   ],
   "source": [
    "dublin_pubs.shape"
   ]
  },
  {
   "cell_type": "markdown",
   "id": "8fead71e-3767-488b-b810-66858af1b496",
   "metadata": {},
   "source": [
    "These are the clients and vehicle depot for our Vehicle Routing Problem. The file contains pubs all across Dublin, stored in a GeoJSON file and read into a GeoDataFrame using GeoPandas. Each row in this table represents a location, either a pub (client) or the Guinness Storehouse (the depot), with associated geographic coordinates and attributes relevant to the routing problem."
   ]
  },
  {
   "cell_type": "code",
   "execution_count": 9,
   "id": "290adc58-7fa8-4348-8526-c849bb3fdbc7",
   "metadata": {},
   "outputs": [],
   "source": [
    "gdf = dublin_pubs"
   ]
  },
  {
   "cell_type": "code",
   "execution_count": 10,
   "id": "76f00660-473a-4ecd-a63d-dd53773635fd",
   "metadata": {},
   "outputs": [],
   "source": [
    "clients = gdf.iloc[1:,:].reset_index(drop=True)\n",
    "clients = clients.set_index(clients.osmid.astype(str))"
   ]
  },
  {
   "cell_type": "code",
   "execution_count": 11,
   "id": "5174df2e-c3a1-44b1-aabd-a01adad6366c",
   "metadata": {},
   "outputs": [
    {
     "data": {
      "text/html": [
       "<div>\n",
       "<style scoped>\n",
       "    .dataframe tbody tr th:only-of-type {\n",
       "        vertical-align: middle;\n",
       "    }\n",
       "\n",
       "    .dataframe tbody tr th {\n",
       "        vertical-align: top;\n",
       "    }\n",
       "\n",
       "    .dataframe thead th {\n",
       "        text-align: right;\n",
       "    }\n",
       "</style>\n",
       "<table border=\"1\" class=\"dataframe\">\n",
       "  <thead>\n",
       "    <tr style=\"text-align: right;\">\n",
       "      <th></th>\n",
       "      <th>osmid</th>\n",
       "      <th>name</th>\n",
       "      <th>longitude</th>\n",
       "      <th>latitude</th>\n",
       "      <th>factype</th>\n",
       "      <th>demand</th>\n",
       "      <th>supply</th>\n",
       "      <th>geometry</th>\n",
       "    </tr>\n",
       "    <tr>\n",
       "      <th>osmid</th>\n",
       "      <th></th>\n",
       "      <th></th>\n",
       "      <th></th>\n",
       "      <th></th>\n",
       "      <th></th>\n",
       "      <th></th>\n",
       "      <th></th>\n",
       "      <th></th>\n",
       "    </tr>\n",
       "  </thead>\n",
       "  <tbody>\n",
       "    <tr>\n",
       "      <th>133193958</th>\n",
       "      <td>133193958</td>\n",
       "      <td>The Barge Bar</td>\n",
       "      <td>-6.260588</td>\n",
       "      <td>53.330551</td>\n",
       "      <td>client</td>\n",
       "      <td>23.0</td>\n",
       "      <td>21.0</td>\n",
       "      <td>POINT (-6.26059 53.33055)</td>\n",
       "    </tr>\n",
       "    <tr>\n",
       "      <th>249426205</th>\n",
       "      <td>249426205</td>\n",
       "      <td>Marino House (Kavanagh's)</td>\n",
       "      <td>-6.228816</td>\n",
       "      <td>53.365756</td>\n",
       "      <td>client</td>\n",
       "      <td>16.0</td>\n",
       "      <td>12.0</td>\n",
       "      <td>POINT (-6.22882 53.36576)</td>\n",
       "    </tr>\n",
       "    <tr>\n",
       "      <th>279464425</th>\n",
       "      <td>279464425</td>\n",
       "      <td>The Lower Deck</td>\n",
       "      <td>-6.265238</td>\n",
       "      <td>53.330686</td>\n",
       "      <td>client</td>\n",
       "      <td>28.0</td>\n",
       "      <td>5.0</td>\n",
       "      <td>POINT (-6.26524 53.33069)</td>\n",
       "    </tr>\n",
       "    <tr>\n",
       "      <th>279915988</th>\n",
       "      <td>279915988</td>\n",
       "      <td>Arlington Bar &amp; Restaurant</td>\n",
       "      <td>-6.260933</td>\n",
       "      <td>53.347252</td>\n",
       "      <td>client</td>\n",
       "      <td>16.0</td>\n",
       "      <td>11.0</td>\n",
       "      <td>POINT (-6.26093 53.34725)</td>\n",
       "    </tr>\n",
       "    <tr>\n",
       "      <th>280123269</th>\n",
       "      <td>280123269</td>\n",
       "      <td>Bar@Tolka</td>\n",
       "      <td>-6.251268</td>\n",
       "      <td>53.367676</td>\n",
       "      <td>client</td>\n",
       "      <td>26.0</td>\n",
       "      <td>16.0</td>\n",
       "      <td>POINT (-6.25127 53.36768)</td>\n",
       "    </tr>\n",
       "  </tbody>\n",
       "</table>\n",
       "</div>"
      ],
      "text/plain": [
       "               osmid                        name  longitude   latitude  \\\n",
       "osmid                                                                    \n",
       "133193958  133193958               The Barge Bar  -6.260588  53.330551   \n",
       "249426205  249426205   Marino House (Kavanagh's)  -6.228816  53.365756   \n",
       "279464425  279464425              The Lower Deck  -6.265238  53.330686   \n",
       "279915988  279915988  Arlington Bar & Restaurant  -6.260933  53.347252   \n",
       "280123269  280123269                   Bar@Tolka  -6.251268  53.367676   \n",
       "\n",
       "          factype  demand  supply                   geometry  \n",
       "osmid                                                         \n",
       "133193958  client    23.0    21.0  POINT (-6.26059 53.33055)  \n",
       "249426205  client    16.0    12.0  POINT (-6.22882 53.36576)  \n",
       "279464425  client    28.0     5.0  POINT (-6.26524 53.33069)  \n",
       "279915988  client    16.0    11.0  POINT (-6.26093 53.34725)  \n",
       "280123269  client    26.0    16.0  POINT (-6.25127 53.36768)  "
      ]
     },
     "execution_count": 11,
     "metadata": {},
     "output_type": "execute_result"
    }
   ],
   "source": [
    "clients.head()"
   ]
  },
  {
   "cell_type": "markdown",
   "id": "910aab60-2078-4604-b937-752a75f82eb1",
   "metadata": {},
   "source": [
    "Clients have associated `demand` and `supply` values, which represent how many kegs needs to be delivered to or picked up from that site. The `geometry` column stores the location as a geographic point. "
   ]
  },
  {
   "cell_type": "code",
   "execution_count": 12,
   "id": "067ecdf3-a2b2-43b5-9392-d2df43b071fc",
   "metadata": {},
   "outputs": [],
   "source": [
    "depot = gdf.iloc[0,:]"
   ]
  },
  {
   "cell_type": "markdown",
   "id": "59b1f506-08af-44e4-96f5-7b699daae353",
   "metadata": {},
   "source": [
    "We extract the first row as the depot, which serves as the start and end point for all vehicle routes. The remaining rows are identified as clients and indexed by their unique IDs from Openstreetmap."
   ]
  },
  {
   "cell_type": "markdown",
   "id": "763c8e80-de3f-4ba3-a674-5d330b8ee835",
   "metadata": {},
   "source": [
    "Now we have all the tools to set up and solve a Vehicle Routing Problem. First, we initalize the problem, setting the depot location and optionally setting the operating hours."
   ]
  },
  {
   "cell_type": "code",
   "execution_count": 13,
   "id": "57d98434-9ba6-40a3-a713-bc78c55aea4d",
   "metadata": {},
   "outputs": [
    {
     "name": "stdout",
     "output_type": "stream",
     "text": [
      "initializing model\n"
     ]
    }
   ],
   "source": [
    "print('initializing model')\n",
    "m = LastMile(\n",
    "    depot_location=(depot.longitude.item(), depot.latitude.item()),\n",
    "    depot_open=pandas.Timestamp(\"2030-01-02 07:00:00\"),\n",
    "    depot_close=pandas.Timestamp(\"2030-01-02 20:00:00\"),\n",
    "    depot_name=depot['name'],\n",
    ")"
   ]
  },
  {
   "cell_type": "markdown",
   "id": "d80acdee-88be-4522-90c0-af72a7f42a03",
   "metadata": {},
   "source": [
    "Then, we add the clients to be serviced in the routing problem."
   ]
  },
  {
   "cell_type": "code",
   "execution_count": 14,
   "id": "b6c5ebd3-79f1-4d38-ad19-ffba7c819c77",
   "metadata": {},
   "outputs": [
    {
     "name": "stdout",
     "output_type": "stream",
     "text": [
      "adding clients\n"
     ]
    },
    {
     "data": {
      "text/plain": [
       "<spopt.route.heuristic.LastMile at 0x7f118c629e50>"
      ]
     },
     "execution_count": 14,
     "metadata": {},
     "output_type": "execute_result"
    }
   ],
   "source": [
    "print(\"adding clients\")\n",
    "m.add_clients(\n",
    "    locations = clients.geometry, \n",
    "    delivery = clients.demand,\n",
    "    pickup = clients.supply,\n",
    "    time_windows=None,\n",
    "    service_times=(numpy.log(clients.demand)**2).astype(int)\n",
    ")"
   ]
  },
  {
   "cell_type": "markdown",
   "id": "1cf8cf26-8dec-456c-b138-0d5deca6a065",
   "metadata": {},
   "source": [
    "Lastly, we add the available delivery vehicles to the model object."
   ]
  },
  {
   "cell_type": "code",
   "execution_count": 15,
   "id": "359f9638-e80b-4ffc-9f50-21f38ab4abe3",
   "metadata": {},
   "outputs": [
    {
     "name": "stdout",
     "output_type": "stream",
     "text": [
      "adding trucks\n"
     ]
    },
    {
     "data": {
      "text/plain": [
       "<spopt.route.heuristic.LastMile at 0x7f118c629e50>"
      ]
     },
     "execution_count": 15,
     "metadata": {},
     "output_type": "execute_result"
    }
   ],
   "source": [
    "print(\"adding trucks\")\n",
    "m.add_trucks_from_frame(\n",
    "    trucks, \n",
    ")"
   ]
  },
  {
   "cell_type": "markdown",
   "id": "7c83f485-b6e7-460c-958e-d03b9aaf7d13",
   "metadata": {},
   "source": [
    "| Router       | Required Keywords | API key? | Requires Backend? | confirmed functional | \n",
    "|--------------|----------|----------| ----------------  | ------------------- |\n",
    "| OSRM         | base-url | no | yes     | yes | \n",
    "| Valhalla | base-url, profile | no | yes | no | \n",
    "| HereMaps     |          | Yes      | | no |\n",
    "| Google       |          | Yes      | | no |\n",
    "| Graphhopper  |          | Yes      | | no |\n",
    "| Mapbox OSRM  |          | Yes      | | no |\n",
    "| OpenRouteService |      | Yes      | | no |\n",
    "| OpenTripPlanner | | | | N/A (`matrix` not implemented) | "
   ]
  },
  {
   "cell_type": "code",
   "execution_count": 16,
   "id": "1c36fbd9-8225-400c-ade5-85e0b4f27599",
   "metadata": {},
   "outputs": [],
   "source": [
    "from routingpy import OSRM"
   ]
  },
  {
   "cell_type": "code",
   "execution_count": 17,
   "id": "55e5bb50-75b7-4d4b-bd41-80ed8d2141b5",
   "metadata": {},
   "outputs": [
    {
     "name": "stdout",
     "output_type": "stream",
     "text": [
      "routing engine is defined as: <routingpy.routers.osrm.OSRM object at 0x7f118c62bbf0>\n",
      "PyVRP v0.11.3\n",
      "\n",
      "Solving an instance with:\n",
      "    1 depot\n",
      "    550 clients\n",
      "    70 vehicles (6 vehicle types)\n",
      "\n",
      "                  |       Feasible        |      Infeasible\n",
      "    Iters    Time |   #      Avg     Best |   #      Avg     Best\n",
      "\n",
      "Search terminated in 10.12s after 19 iterations.\n",
      "Best-found solution has cost 44679994.\n",
      "\n",
      "Solution results\n",
      "================\n",
      "    # routes: 15\n",
      "     # trips: 15\n",
      "   # clients: 550\n",
      "   objective: 44679994\n",
      "    distance: 336715\n",
      "    duration: 1584\n",
      "# iterations: 19\n",
      "    run-time: 10.12 seconds\n",
      "\n",
      "[routes_and_stops] routing passed type: <class 'routingpy.routers.osrm.OSRM'>\n",
      "[routes_and_stops] routing passed type: <class 'routingpy.routers.osrm.OSRM'>\n",
      "[routes_and_stops] routing passed type: <class 'routingpy.routers.osrm.OSRM'>\n",
      "[routes_and_stops] routing passed type: <class 'routingpy.routers.osrm.OSRM'>\n",
      "[routes_and_stops] routing passed type: <class 'routingpy.routers.osrm.OSRM'>\n",
      "[routes_and_stops] routing passed type: <class 'routingpy.routers.osrm.OSRM'>\n",
      "[routes_and_stops] routing passed type: <class 'routingpy.routers.osrm.OSRM'>\n",
      "[routes_and_stops] routing passed type: <class 'routingpy.routers.osrm.OSRM'>\n",
      "[routes_and_stops] routing passed type: <class 'routingpy.routers.osrm.OSRM'>\n",
      "[routes_and_stops] routing passed type: <class 'routingpy.routers.osrm.OSRM'>\n",
      "[routes_and_stops] routing passed type: <class 'routingpy.routers.osrm.OSRM'>\n",
      "[routes_and_stops] routing passed type: <class 'routingpy.routers.osrm.OSRM'>\n",
      "[routes_and_stops] routing passed type: <class 'routingpy.routers.osrm.OSRM'>\n",
      "[routes_and_stops] routing passed type: <class 'routingpy.routers.osrm.OSRM'>\n",
      "[routes_and_stops] routing passed type: <class 'routingpy.routers.osrm.OSRM'>\n"
     ]
    }
   ],
   "source": [
    "m.solve(stop=pyvrp.stop.MaxRuntime(10), routing=OSRM, routing_kws={\"base_url\": \"http://localhost:5000\"})"
   ]
  },
  {
   "cell_type": "code",
   "execution_count": 18,
   "id": "6d5a7b2b-46b3-4740-bdee-64a93741cf43",
   "metadata": {},
   "outputs": [],
   "source": [
    "m.write_result(\"osrm\")"
   ]
  },
  {
   "cell_type": "code",
   "execution_count": 19,
   "id": "9cc2bc3a-54a6-4b3f-8c40-5cc9640c6895",
   "metadata": {},
   "outputs": [
    {
     "name": "stderr",
     "output_type": "stream",
     "text": [
      "/home/dylan/projects/gsoc2025/spopt/spopt/route/engine.py:118: UserWarning: Failed to connect to routing engine... using haversine distancedurations = 0\n",
      "  warnings.warn(\n"
     ]
    },
    {
     "name": "stdout",
     "output_type": "stream",
     "text": [
      "PyVRP v0.11.3\n",
      "\n",
      "Solving an instance with:\n",
      "    1 depot\n",
      "    550 clients\n",
      "    70 vehicles (6 vehicle types)\n",
      "\n",
      "                  |       Feasible        |      Infeasible\n",
      "    Iters    Time |   #      Avg     Best |   #      Avg     Best\n",
      "\n",
      "Search terminated in 10.39s after 19 iterations.\n",
      "Best-found solution has cost 174870190.\n",
      "\n",
      "Solution results\n",
      "================\n",
      "    # routes: 69\n",
      "     # trips: 69\n",
      "   # clients: 550\n",
      "   objective: 174870190\n",
      "    distance: 1772205\n",
      "    duration: 550\n",
      "# iterations: 19\n",
      "    run-time: 10.39 seconds\n",
      "\n",
      "[routes_and_stops] routing passed type: <class 'NoneType'>\n",
      "[routes_and_stops] routing passed type: <class 'NoneType'>\n",
      "[routes_and_stops] routing passed type: <class 'NoneType'>\n",
      "[routes_and_stops] routing passed type: <class 'NoneType'>\n",
      "[routes_and_stops] routing passed type: <class 'NoneType'>\n",
      "[routes_and_stops] routing passed type: <class 'NoneType'>\n",
      "[routes_and_stops] routing passed type: <class 'NoneType'>\n",
      "[routes_and_stops] routing passed type: <class 'NoneType'>\n",
      "[routes_and_stops] routing passed type: <class 'NoneType'>\n",
      "[routes_and_stops] routing passed type: <class 'NoneType'>\n",
      "[routes_and_stops] routing passed type: <class 'NoneType'>\n",
      "[routes_and_stops] routing passed type: <class 'NoneType'>\n",
      "[routes_and_stops] routing passed type: <class 'NoneType'>\n",
      "[routes_and_stops] routing passed type: <class 'NoneType'>\n",
      "[routes_and_stops] routing passed type: <class 'NoneType'>\n",
      "[routes_and_stops] routing passed type: <class 'NoneType'>\n",
      "[routes_and_stops] routing passed type: <class 'NoneType'>\n",
      "[routes_and_stops] routing passed type: <class 'NoneType'>\n",
      "[routes_and_stops] routing passed type: <class 'NoneType'>\n",
      "[routes_and_stops] routing passed type: <class 'NoneType'>\n",
      "[routes_and_stops] routing passed type: <class 'NoneType'>\n",
      "[routes_and_stops] routing passed type: <class 'NoneType'>\n",
      "[routes_and_stops] routing passed type: <class 'NoneType'>\n",
      "[routes_and_stops] routing passed type: <class 'NoneType'>\n",
      "[routes_and_stops] routing passed type: <class 'NoneType'>\n",
      "[routes_and_stops] routing passed type: <class 'NoneType'>\n",
      "[routes_and_stops] routing passed type: <class 'NoneType'>\n",
      "[routes_and_stops] routing passed type: <class 'NoneType'>\n",
      "[routes_and_stops] routing passed type: <class 'NoneType'>\n",
      "[routes_and_stops] routing passed type: <class 'NoneType'>\n",
      "[routes_and_stops] routing passed type: <class 'NoneType'>\n",
      "[routes_and_stops] routing passed type: <class 'NoneType'>\n",
      "[routes_and_stops] routing passed type: <class 'NoneType'>\n",
      "[routes_and_stops] routing passed type: <class 'NoneType'>\n",
      "[routes_and_stops] routing passed type: <class 'NoneType'>\n",
      "[routes_and_stops] routing passed type: <class 'NoneType'>\n",
      "[routes_and_stops] routing passed type: <class 'NoneType'>\n",
      "[routes_and_stops] routing passed type: <class 'NoneType'>\n",
      "[routes_and_stops] routing passed type: <class 'NoneType'>\n",
      "[routes_and_stops] routing passed type: <class 'NoneType'>\n",
      "[routes_and_stops] routing passed type: <class 'NoneType'>\n",
      "[routes_and_stops] routing passed type: <class 'NoneType'>\n",
      "[routes_and_stops] routing passed type: <class 'NoneType'>\n",
      "[routes_and_stops] routing passed type: <class 'NoneType'>\n",
      "[routes_and_stops] routing passed type: <class 'NoneType'>\n",
      "[routes_and_stops] routing passed type: <class 'NoneType'>\n",
      "[routes_and_stops] routing passed type: <class 'NoneType'>\n",
      "[routes_and_stops] routing passed type: <class 'NoneType'>\n",
      "[routes_and_stops] routing passed type: <class 'NoneType'>\n",
      "[routes_and_stops] routing passed type: <class 'NoneType'>\n",
      "[routes_and_stops] routing passed type: <class 'NoneType'>\n",
      "[routes_and_stops] routing passed type: <class 'NoneType'>\n",
      "[routes_and_stops] routing passed type: <class 'NoneType'>\n",
      "[routes_and_stops] routing passed type: <class 'NoneType'>\n",
      "[routes_and_stops] routing passed type: <class 'NoneType'>\n",
      "[routes_and_stops] routing passed type: <class 'NoneType'>\n",
      "[routes_and_stops] routing passed type: <class 'NoneType'>\n",
      "[routes_and_stops] routing passed type: <class 'NoneType'>\n",
      "[routes_and_stops] routing passed type: <class 'NoneType'>\n",
      "[routes_and_stops] routing passed type: <class 'NoneType'>\n",
      "[routes_and_stops] routing passed type: <class 'NoneType'>\n",
      "[routes_and_stops] routing passed type: <class 'NoneType'>\n",
      "[routes_and_stops] routing passed type: <class 'NoneType'>\n",
      "[routes_and_stops] routing passed type: <class 'NoneType'>\n",
      "[routes_and_stops] routing passed type: <class 'NoneType'>\n",
      "[routes_and_stops] routing passed type: <class 'NoneType'>\n",
      "[routes_and_stops] routing passed type: <class 'NoneType'>\n",
      "[routes_and_stops] routing passed type: <class 'NoneType'>\n",
      "[routes_and_stops] routing passed type: <class 'NoneType'>\n"
     ]
    }
   ],
   "source": [
    "m.solve(stop=pyvrp.stop.MaxRuntime(10))"
   ]
  },
  {
   "cell_type": "code",
   "execution_count": 20,
   "id": "5e98e559-6020-4d7e-80da-5f54b1fc64f4",
   "metadata": {},
   "outputs": [],
   "source": [
    "m.write_result(\"no-routing-engine\")"
   ]
  },
  {
   "cell_type": "code",
   "execution_count": null,
   "id": "a97f817b-6291-40e9-bc78-db0363162bfb",
   "metadata": {},
   "outputs": [],
   "source": [
    "from routingpy import Valhalla"
   ]
  },
  {
   "cell_type": "code",
   "execution_count": null,
   "id": "bde420b8-72d6-466d-aa70-088650727ccd",
   "metadata": {},
   "outputs": [],
   "source": [
    "m.solve(stop=pyvrp.stop.MaxRuntime(10), routing=Valhalla, routing_kws={\"base_url\": \"http://localhost:8002\", \"profile\": \"auto\"})"
   ]
  },
  {
   "cell_type": "code",
   "execution_count": null,
   "id": "2ad7fb20-c4d5-47a8-9fc0-450d05b482a8",
   "metadata": {},
   "outputs": [],
   "source": [
    "m.write_results(\"valhalla\")"
   ]
  },
  {
   "cell_type": "code",
   "execution_count": null,
   "id": "6f05dac0-ef2e-4b6b-9564-16ec8ba997f4",
   "metadata": {},
   "outputs": [],
   "source": [
    "import shapely"
   ]
  },
  {
   "cell_type": "code",
   "execution_count": null,
   "id": "cfc388f1-8668-42a9-853f-130de8b9db8a",
   "metadata": {},
   "outputs": [],
   "source": [
    "all_lonlats = numpy.vstack(\n",
    "    [m.depot_location] + list(shapely.get_coordinates(m.clients_.geometry))\n",
    ")"
   ]
  },
  {
   "cell_type": "code",
   "execution_count": null,
   "id": "4fc75ff5-eac2-4609-87a0-5c9b9b1a2732",
   "metadata": {},
   "outputs": [],
   "source": [
    "from routingpy import HereMaps"
   ]
  },
  {
   "cell_type": "code",
   "execution_count": null,
   "id": "bad7da05-939c-47a4-8d63-bfddef63ff50",
   "metadata": {},
   "outputs": [],
   "source": [
    "m.solve(stop=pyvrp.stop.MaxRuntime(60), routing=HereMaps, routing_kws={})"
   ]
  },
  {
   "cell_type": "code",
   "execution_count": null,
   "id": "70f74448-e50e-4e78-beee-67c528e2eff6",
   "metadata": {},
   "outputs": [],
   "source": [
    "from routingpy import Graphhopper"
   ]
  },
  {
   "cell_type": "code",
   "execution_count": null,
   "id": "d1b12608-c03c-45aa-9b70-c16b0132b8f4",
   "metadata": {},
   "outputs": [],
   "source": [
    "m.solve(stop=pyvrp.stop.MaxRuntime(60), routing=Graphhopper, routing_kws={})"
   ]
  },
  {
   "cell_type": "code",
   "execution_count": null,
   "id": "444628d6-76f2-4eac-9c96-552b47ffcc7c",
   "metadata": {},
   "outputs": [],
   "source": [
    "from routingpy import MapboxOSRM"
   ]
  },
  {
   "cell_type": "code",
   "execution_count": null,
   "id": "367979e4-e0b0-4ec9-b3e0-3d1cf6e8e7b7",
   "metadata": {},
   "outputs": [],
   "source": [
    "m.solve(stop=pyvrp.stop.MaxRuntime(60), routing=MapboxOSRM, routing_kws={})"
   ]
  },
  {
   "cell_type": "code",
   "execution_count": null,
   "id": "a898d66c-d71e-474d-bf5e-b698f33358dd",
   "metadata": {},
   "outputs": [],
   "source": [
    "from routingpy import ORS"
   ]
  },
  {
   "cell_type": "code",
   "execution_count": null,
   "id": "8a361d10-b4e2-4eae-88dd-4f3b0188d8b2",
   "metadata": {},
   "outputs": [],
   "source": [
    "m.solve(stop=pyvrp.stop.MaxRuntime(60), routing=ORS, routing_kws={})"
   ]
  },
  {
   "cell_type": "code",
   "execution_count": null,
   "id": "f7f879b7-f511-4d4d-ad22-5ba90493b213",
   "metadata": {},
   "outputs": [],
   "source": [
    "from routingpy import OpenTripPlannerV2"
   ]
  },
  {
   "cell_type": "code",
   "execution_count": null,
   "id": "ce472257-893d-469d-9914-0c2bdff2d57e",
   "metadata": {},
   "outputs": [],
   "source": [
    "OpenTripPlannerV2.matrix?\n",
    "# not implemented (https://github.com/mthh/routingpy/blob/master/routingpy/routers/opentripplanner_v2.py#L323)"
   ]
  },
  {
   "cell_type": "code",
   "execution_count": null,
   "id": "5711d740-e75e-4e7a-9aeb-3ff3e1bb97b7",
   "metadata": {},
   "outputs": [],
   "source": []
  }
 ],
 "metadata": {
  "kernelspec": {
   "display_name": "Python 3 (ipykernel)",
   "language": "python",
   "name": "python3"
  },
  "language_info": {
   "codemirror_mode": {
    "name": "ipython",
    "version": 3
   },
   "file_extension": ".py",
   "mimetype": "text/x-python",
   "name": "python",
   "nbconvert_exporter": "python",
   "pygments_lexer": "ipython3",
   "version": "3.12.11"
  }
 },
 "nbformat": 4,
 "nbformat_minor": 5
}
